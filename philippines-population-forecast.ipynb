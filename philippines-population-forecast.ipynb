{
 "cells": [
  {
   "cell_type": "markdown",
   "id": "bdcf9b3b",
   "metadata": {
    "papermill": {
     "duration": 0.008437,
     "end_time": "2025-08-01T14:51:15.014607",
     "exception": false,
     "start_time": "2025-08-01T14:51:15.006170",
     "status": "completed"
    },
    "tags": []
   },
   "source": [
    "<a href=\"https://www.kaggle.com/code/simonflora/philippines-population-forecast?scriptVersionId=253486415\" target=\"_blank\"><img align=\"left\" alt=\"Kaggle\" title=\"Open in Kaggle\" src=\"https://kaggle.com/static/images/open-in-kaggle.svg\"></a>"
   ]
  },
  {
   "cell_type": "markdown",
   "id": "05f23c86",
   "metadata": {
    "_cell_guid": "b1076dfc-b9ad-4769-8c92-a6c4dae69d19",
    "_uuid": "8f2839f25d086af736a60e9eeb907d3b93b6e0e5",
    "execution": {
     "iopub.execute_input": "2025-07-29T07:20:20.40935Z",
     "iopub.status.busy": "2025-07-29T07:20:20.409097Z",
     "iopub.status.idle": "2025-07-29T07:20:22.677699Z",
     "shell.execute_reply": "2025-07-29T07:20:22.676844Z",
     "shell.execute_reply.started": "2025-07-29T07:20:20.409322Z"
    },
    "papermill": {
     "duration": 0.006654,
     "end_time": "2025-08-01T14:51:15.028515",
     "exception": false,
     "start_time": "2025-08-01T14:51:15.021861",
     "status": "completed"
    },
    "tags": []
   },
   "source": [
    "## Libraries"
   ]
  },
  {
   "cell_type": "code",
   "execution_count": 1,
   "id": "36be98b5",
   "metadata": {
    "execution": {
     "iopub.execute_input": "2025-08-01T14:51:15.043952Z",
     "iopub.status.busy": "2025-08-01T14:51:15.043538Z",
     "iopub.status.idle": "2025-08-01T14:51:20.303700Z",
     "shell.execute_reply": "2025-08-01T14:51:20.302429Z"
    },
    "papermill": {
     "duration": 5.270208,
     "end_time": "2025-08-01T14:51:20.305592",
     "exception": false,
     "start_time": "2025-08-01T14:51:15.035384",
     "status": "completed"
    },
    "tags": []
   },
   "outputs": [],
   "source": [
    "import pandas as pd\n",
    "import seaborn as sns\n",
    "import matplotlib.pyplot as plt\n",
    "import plotly.express as px\n",
    "\n",
    "import warnings\n",
    "warnings.filterwarnings('ignore')"
   ]
  },
  {
   "cell_type": "code",
   "execution_count": 2,
   "id": "4acb068b",
   "metadata": {
    "execution": {
     "iopub.execute_input": "2025-08-01T14:51:20.324089Z",
     "iopub.status.busy": "2025-08-01T14:51:20.323161Z",
     "iopub.status.idle": "2025-08-01T14:51:21.226695Z",
     "shell.execute_reply": "2025-08-01T14:51:21.225572Z"
    },
    "papermill": {
     "duration": 0.914334,
     "end_time": "2025-08-01T14:51:21.228401",
     "exception": false,
     "start_time": "2025-08-01T14:51:20.314067",
     "status": "completed"
    },
    "tags": []
   },
   "outputs": [
    {
     "data": {
      "text/html": [
       "<div>\n",
       "<style scoped>\n",
       "    .dataframe tbody tr th:only-of-type {\n",
       "        vertical-align: middle;\n",
       "    }\n",
       "\n",
       "    .dataframe tbody tr th {\n",
       "        vertical-align: top;\n",
       "    }\n",
       "\n",
       "    .dataframe thead th {\n",
       "        text-align: right;\n",
       "    }\n",
       "</style>\n",
       "<table border=\"1\" class=\"dataframe\">\n",
       "  <thead>\n",
       "    <tr style=\"text-align: right;\">\n",
       "      <th></th>\n",
       "      <th>Region</th>\n",
       "      <th>Region_pcode</th>\n",
       "      <th>Province</th>\n",
       "      <th>Province_pcode</th>\n",
       "      <th>Municipality_City</th>\n",
       "      <th>Mun_Pcode</th>\n",
       "      <th>July2020</th>\n",
       "      <th>July2021</th>\n",
       "      <th>July2022</th>\n",
       "      <th>July2023</th>\n",
       "      <th>July2024</th>\n",
       "      <th>July2025</th>\n",
       "    </tr>\n",
       "  </thead>\n",
       "  <tbody>\n",
       "    <tr>\n",
       "      <th>0</th>\n",
       "      <td>Region I (Ilocos Region)</td>\n",
       "      <td>PH010000000</td>\n",
       "      <td>Ilocos Norte</td>\n",
       "      <td>PH012800000</td>\n",
       "      <td>Adams</td>\n",
       "      <td>PH012801000</td>\n",
       "      <td>1823</td>\n",
       "      <td>1827</td>\n",
       "      <td>1830</td>\n",
       "      <td>1833</td>\n",
       "      <td>1834</td>\n",
       "      <td>1835</td>\n",
       "    </tr>\n",
       "    <tr>\n",
       "      <th>1</th>\n",
       "      <td>Region I (Ilocos Region)</td>\n",
       "      <td>PH010000000</td>\n",
       "      <td>Ilocos Norte</td>\n",
       "      <td>PH012800000</td>\n",
       "      <td>Bacarra</td>\n",
       "      <td>PH012802000</td>\n",
       "      <td>32778</td>\n",
       "      <td>32850</td>\n",
       "      <td>32908</td>\n",
       "      <td>32951</td>\n",
       "      <td>32979</td>\n",
       "      <td>32994</td>\n",
       "    </tr>\n",
       "    <tr>\n",
       "      <th>2</th>\n",
       "      <td>Region I (Ilocos Region)</td>\n",
       "      <td>PH010000000</td>\n",
       "      <td>Ilocos Norte</td>\n",
       "      <td>PH012800000</td>\n",
       "      <td>Badoc</td>\n",
       "      <td>PH012803000</td>\n",
       "      <td>32218</td>\n",
       "      <td>32299</td>\n",
       "      <td>32365</td>\n",
       "      <td>32418</td>\n",
       "      <td>32456</td>\n",
       "      <td>32480</td>\n",
       "    </tr>\n",
       "    <tr>\n",
       "      <th>3</th>\n",
       "      <td>Region I (Ilocos Region)</td>\n",
       "      <td>PH010000000</td>\n",
       "      <td>Ilocos Norte</td>\n",
       "      <td>PH012800000</td>\n",
       "      <td>Bangui</td>\n",
       "      <td>PH012804000</td>\n",
       "      <td>14954</td>\n",
       "      <td>14993</td>\n",
       "      <td>15024</td>\n",
       "      <td>15049</td>\n",
       "      <td>15067</td>\n",
       "      <td>15079</td>\n",
       "    </tr>\n",
       "    <tr>\n",
       "      <th>4</th>\n",
       "      <td>Region I (Ilocos Region)</td>\n",
       "      <td>PH010000000</td>\n",
       "      <td>Ilocos Norte</td>\n",
       "      <td>PH012800000</td>\n",
       "      <td>City of Batac</td>\n",
       "      <td>PH012805000</td>\n",
       "      <td>56248</td>\n",
       "      <td>56389</td>\n",
       "      <td>56504</td>\n",
       "      <td>56595</td>\n",
       "      <td>56661</td>\n",
       "      <td>56702</td>\n",
       "    </tr>\n",
       "  </tbody>\n",
       "</table>\n",
       "</div>"
      ],
      "text/plain": [
       "                     Region Region_pcode      Province Province_pcode  \\\n",
       "0  Region I (Ilocos Region)  PH010000000  Ilocos Norte    PH012800000   \n",
       "1  Region I (Ilocos Region)  PH010000000  Ilocos Norte    PH012800000   \n",
       "2  Region I (Ilocos Region)  PH010000000  Ilocos Norte    PH012800000   \n",
       "3  Region I (Ilocos Region)  PH010000000  Ilocos Norte    PH012800000   \n",
       "4  Region I (Ilocos Region)  PH010000000  Ilocos Norte    PH012800000   \n",
       "\n",
       "  Municipality_City    Mun_Pcode  July2020  July2021  July2022  July2023  \\\n",
       "0             Adams  PH012801000      1823      1827      1830      1833   \n",
       "1           Bacarra  PH012802000     32778     32850     32908     32951   \n",
       "2             Badoc  PH012803000     32218     32299     32365     32418   \n",
       "3            Bangui  PH012804000     14954     14993     15024     15049   \n",
       "4     City of Batac  PH012805000     56248     56389     56504     56595   \n",
       "\n",
       "   July2024  July2025  \n",
       "0      1834      1835  \n",
       "1     32979     32994  \n",
       "2     32456     32480  \n",
       "3     15067     15079  \n",
       "4     56661     56702  "
      ]
     },
     "execution_count": 2,
     "metadata": {},
     "output_type": "execute_result"
    }
   ],
   "source": [
    "path = '/kaggle/input/philippines-population-projection-2020-to-2025/phl_population-projections_admin3_midyear2020_2025.xlsx'\n",
    "df = pd.read_excel(path)\n",
    "df.head()\n"
   ]
  },
  {
   "cell_type": "code",
   "execution_count": 3,
   "id": "1c526d4b",
   "metadata": {
    "execution": {
     "iopub.execute_input": "2025-08-01T14:51:21.244760Z",
     "iopub.status.busy": "2025-08-01T14:51:21.244293Z",
     "iopub.status.idle": "2025-08-01T14:51:21.268953Z",
     "shell.execute_reply": "2025-08-01T14:51:21.268001Z"
    },
    "papermill": {
     "duration": 0.034403,
     "end_time": "2025-08-01T14:51:21.270441",
     "exception": false,
     "start_time": "2025-08-01T14:51:21.236038",
     "status": "completed"
    },
    "tags": []
   },
   "outputs": [
    {
     "name": "stdout",
     "output_type": "stream",
     "text": [
      "<class 'pandas.core.frame.DataFrame'>\n",
      "RangeIndex: 1634 entries, 0 to 1633\n",
      "Data columns (total 12 columns):\n",
      " #   Column             Non-Null Count  Dtype \n",
      "---  ------             --------------  ----- \n",
      " 0   Region             1634 non-null   object\n",
      " 1   Region_pcode       1634 non-null   object\n",
      " 2   Province           1634 non-null   object\n",
      " 3   Province_pcode     1634 non-null   object\n",
      " 4   Municipality_City  1634 non-null   object\n",
      " 5   Mun_Pcode          1634 non-null   object\n",
      " 6   July2020           1634 non-null   int64 \n",
      " 7   July2021           1634 non-null   int64 \n",
      " 8   July2022           1634 non-null   int64 \n",
      " 9   July2023           1634 non-null   int64 \n",
      " 10  July2024           1634 non-null   int64 \n",
      " 11  July2025           1634 non-null   int64 \n",
      "dtypes: int64(6), object(6)\n",
      "memory usage: 153.3+ KB\n"
     ]
    }
   ],
   "source": [
    "df.info()"
   ]
  },
  {
   "cell_type": "code",
   "execution_count": 4,
   "id": "ab1d45e5",
   "metadata": {
    "execution": {
     "iopub.execute_input": "2025-08-01T14:51:21.287353Z",
     "iopub.status.busy": "2025-08-01T14:51:21.287023Z",
     "iopub.status.idle": "2025-08-01T14:51:21.293291Z",
     "shell.execute_reply": "2025-08-01T14:51:21.292338Z"
    },
    "papermill": {
     "duration": 0.016513,
     "end_time": "2025-08-01T14:51:21.294915",
     "exception": false,
     "start_time": "2025-08-01T14:51:21.278402",
     "status": "completed"
    },
    "tags": []
   },
   "outputs": [
    {
     "data": {
      "text/plain": [
       "(1634, 12)"
      ]
     },
     "execution_count": 4,
     "metadata": {},
     "output_type": "execute_result"
    }
   ],
   "source": [
    "df.shape"
   ]
  },
  {
   "cell_type": "code",
   "execution_count": 5,
   "id": "e64c634f",
   "metadata": {
    "execution": {
     "iopub.execute_input": "2025-08-01T14:51:21.310953Z",
     "iopub.status.busy": "2025-08-01T14:51:21.310585Z",
     "iopub.status.idle": "2025-08-01T14:51:21.342924Z",
     "shell.execute_reply": "2025-08-01T14:51:21.341986Z"
    },
    "papermill": {
     "duration": 0.042169,
     "end_time": "2025-08-01T14:51:21.344625",
     "exception": false,
     "start_time": "2025-08-01T14:51:21.302456",
     "status": "completed"
    },
    "tags": []
   },
   "outputs": [
    {
     "data": {
      "text/html": [
       "<div>\n",
       "<style scoped>\n",
       "    .dataframe tbody tr th:only-of-type {\n",
       "        vertical-align: middle;\n",
       "    }\n",
       "\n",
       "    .dataframe tbody tr th {\n",
       "        vertical-align: top;\n",
       "    }\n",
       "\n",
       "    .dataframe thead th {\n",
       "        text-align: right;\n",
       "    }\n",
       "</style>\n",
       "<table border=\"1\" class=\"dataframe\">\n",
       "  <thead>\n",
       "    <tr style=\"text-align: right;\">\n",
       "      <th></th>\n",
       "      <th>July2020</th>\n",
       "      <th>July2021</th>\n",
       "      <th>July2022</th>\n",
       "      <th>July2023</th>\n",
       "      <th>July2024</th>\n",
       "      <th>July2025</th>\n",
       "    </tr>\n",
       "  </thead>\n",
       "  <tbody>\n",
       "    <tr>\n",
       "      <th>count</th>\n",
       "      <td>1.634000e+03</td>\n",
       "      <td>1.634000e+03</td>\n",
       "      <td>1.634000e+03</td>\n",
       "      <td>1.634000e+03</td>\n",
       "      <td>1.634000e+03</td>\n",
       "      <td>1.634000e+03</td>\n",
       "    </tr>\n",
       "    <tr>\n",
       "      <th>mean</th>\n",
       "      <td>6.656791e+04</td>\n",
       "      <td>6.744102e+04</td>\n",
       "      <td>6.828167e+04</td>\n",
       "      <td>6.908982e+04</td>\n",
       "      <td>6.986763e+04</td>\n",
       "      <td>7.061077e+04</td>\n",
       "    </tr>\n",
       "    <tr>\n",
       "      <th>std</th>\n",
       "      <td>1.401156e+05</td>\n",
       "      <td>1.419562e+05</td>\n",
       "      <td>1.437248e+05</td>\n",
       "      <td>1.454233e+05</td>\n",
       "      <td>1.470567e+05</td>\n",
       "      <td>1.486184e+05</td>\n",
       "    </tr>\n",
       "    <tr>\n",
       "      <th>min</th>\n",
       "      <td>1.930000e+02</td>\n",
       "      <td>1.940000e+02</td>\n",
       "      <td>1.950000e+02</td>\n",
       "      <td>1.960000e+02</td>\n",
       "      <td>1.960000e+02</td>\n",
       "      <td>1.960000e+02</td>\n",
       "    </tr>\n",
       "    <tr>\n",
       "      <th>25%</th>\n",
       "      <td>2.275775e+04</td>\n",
       "      <td>2.286050e+04</td>\n",
       "      <td>2.309700e+04</td>\n",
       "      <td>2.324975e+04</td>\n",
       "      <td>2.332225e+04</td>\n",
       "      <td>2.352050e+04</td>\n",
       "    </tr>\n",
       "    <tr>\n",
       "      <th>50%</th>\n",
       "      <td>3.625500e+04</td>\n",
       "      <td>3.671850e+04</td>\n",
       "      <td>3.696050e+04</td>\n",
       "      <td>3.739400e+04</td>\n",
       "      <td>3.770550e+04</td>\n",
       "      <td>3.800550e+04</td>\n",
       "    </tr>\n",
       "    <tr>\n",
       "      <th>75%</th>\n",
       "      <td>6.501125e+04</td>\n",
       "      <td>6.549650e+04</td>\n",
       "      <td>6.608950e+04</td>\n",
       "      <td>6.653050e+04</td>\n",
       "      <td>6.704175e+04</td>\n",
       "      <td>6.764600e+04</td>\n",
       "    </tr>\n",
       "    <tr>\n",
       "      <th>max</th>\n",
       "      <td>3.080813e+06</td>\n",
       "      <td>3.102433e+06</td>\n",
       "      <td>3.121477e+06</td>\n",
       "      <td>3.137962e+06</td>\n",
       "      <td>3.151858e+06</td>\n",
       "      <td>3.163105e+06</td>\n",
       "    </tr>\n",
       "  </tbody>\n",
       "</table>\n",
       "</div>"
      ],
      "text/plain": [
       "           July2020      July2021      July2022      July2023      July2024  \\\n",
       "count  1.634000e+03  1.634000e+03  1.634000e+03  1.634000e+03  1.634000e+03   \n",
       "mean   6.656791e+04  6.744102e+04  6.828167e+04  6.908982e+04  6.986763e+04   \n",
       "std    1.401156e+05  1.419562e+05  1.437248e+05  1.454233e+05  1.470567e+05   \n",
       "min    1.930000e+02  1.940000e+02  1.950000e+02  1.960000e+02  1.960000e+02   \n",
       "25%    2.275775e+04  2.286050e+04  2.309700e+04  2.324975e+04  2.332225e+04   \n",
       "50%    3.625500e+04  3.671850e+04  3.696050e+04  3.739400e+04  3.770550e+04   \n",
       "75%    6.501125e+04  6.549650e+04  6.608950e+04  6.653050e+04  6.704175e+04   \n",
       "max    3.080813e+06  3.102433e+06  3.121477e+06  3.137962e+06  3.151858e+06   \n",
       "\n",
       "           July2025  \n",
       "count  1.634000e+03  \n",
       "mean   7.061077e+04  \n",
       "std    1.486184e+05  \n",
       "min    1.960000e+02  \n",
       "25%    2.352050e+04  \n",
       "50%    3.800550e+04  \n",
       "75%    6.764600e+04  \n",
       "max    3.163105e+06  "
      ]
     },
     "execution_count": 5,
     "metadata": {},
     "output_type": "execute_result"
    }
   ],
   "source": [
    "df.describe()"
   ]
  },
  {
   "cell_type": "code",
   "execution_count": 6,
   "id": "74a2d354",
   "metadata": {
    "execution": {
     "iopub.execute_input": "2025-08-01T14:51:21.362182Z",
     "iopub.status.busy": "2025-08-01T14:51:21.361782Z",
     "iopub.status.idle": "2025-08-01T14:51:21.370547Z",
     "shell.execute_reply": "2025-08-01T14:51:21.369720Z"
    },
    "papermill": {
     "duration": 0.019647,
     "end_time": "2025-08-01T14:51:21.372060",
     "exception": false,
     "start_time": "2025-08-01T14:51:21.352413",
     "status": "completed"
    },
    "tags": []
   },
   "outputs": [
    {
     "data": {
      "text/plain": [
       "Region               0\n",
       "Region_pcode         0\n",
       "Province             0\n",
       "Province_pcode       0\n",
       "Municipality_City    0\n",
       "Mun_Pcode            0\n",
       "July2020             0\n",
       "July2021             0\n",
       "July2022             0\n",
       "July2023             0\n",
       "July2024             0\n",
       "July2025             0\n",
       "dtype: int64"
      ]
     },
     "execution_count": 6,
     "metadata": {},
     "output_type": "execute_result"
    }
   ],
   "source": [
    "df.isnull().sum()"
   ]
  },
  {
   "cell_type": "code",
   "execution_count": 7,
   "id": "a139e6cb",
   "metadata": {
    "execution": {
     "iopub.execute_input": "2025-08-01T14:51:21.390047Z",
     "iopub.status.busy": "2025-08-01T14:51:21.389662Z",
     "iopub.status.idle": "2025-08-01T14:51:21.401685Z",
     "shell.execute_reply": "2025-08-01T14:51:21.400815Z"
    },
    "papermill": {
     "duration": 0.022807,
     "end_time": "2025-08-01T14:51:21.403538",
     "exception": false,
     "start_time": "2025-08-01T14:51:21.380731",
     "status": "completed"
    },
    "tags": []
   },
   "outputs": [
    {
     "data": {
      "text/plain": [
       "0       False\n",
       "1       False\n",
       "2       False\n",
       "3       False\n",
       "4       False\n",
       "        ...  \n",
       "1629    False\n",
       "1630    False\n",
       "1631    False\n",
       "1632    False\n",
       "1633    False\n",
       "Length: 1634, dtype: bool"
      ]
     },
     "execution_count": 7,
     "metadata": {},
     "output_type": "execute_result"
    }
   ],
   "source": [
    "df.duplicated()"
   ]
  },
  {
   "cell_type": "code",
   "execution_count": 8,
   "id": "52b0b30b",
   "metadata": {
    "execution": {
     "iopub.execute_input": "2025-08-01T14:51:21.422077Z",
     "iopub.status.busy": "2025-08-01T14:51:21.421363Z",
     "iopub.status.idle": "2025-08-01T14:51:21.427497Z",
     "shell.execute_reply": "2025-08-01T14:51:21.426521Z"
    },
    "papermill": {
     "duration": 0.017578,
     "end_time": "2025-08-01T14:51:21.429187",
     "exception": false,
     "start_time": "2025-08-01T14:51:21.411609",
     "status": "completed"
    },
    "tags": []
   },
   "outputs": [],
   "source": [
    "df = df.rename(columns={\n",
    "    'July2020': '2020',\n",
    "    'July2021': '2021',\n",
    "    'July2022': '2022',\n",
    "    'July2023': '2023',\n",
    "    'July2024': '2024',\n",
    "    'July2025': '2025',\n",
    "})"
   ]
  },
  {
   "cell_type": "code",
   "execution_count": 9,
   "id": "7571390b",
   "metadata": {
    "execution": {
     "iopub.execute_input": "2025-08-01T14:51:21.445964Z",
     "iopub.status.busy": "2025-08-01T14:51:21.445607Z",
     "iopub.status.idle": "2025-08-01T14:51:21.458643Z",
     "shell.execute_reply": "2025-08-01T14:51:21.457703Z"
    },
    "papermill": {
     "duration": 0.023471,
     "end_time": "2025-08-01T14:51:21.460461",
     "exception": false,
     "start_time": "2025-08-01T14:51:21.436990",
     "status": "completed"
    },
    "tags": []
   },
   "outputs": [
    {
     "data": {
      "text/html": [
       "<div>\n",
       "<style scoped>\n",
       "    .dataframe tbody tr th:only-of-type {\n",
       "        vertical-align: middle;\n",
       "    }\n",
       "\n",
       "    .dataframe tbody tr th {\n",
       "        vertical-align: top;\n",
       "    }\n",
       "\n",
       "    .dataframe thead th {\n",
       "        text-align: right;\n",
       "    }\n",
       "</style>\n",
       "<table border=\"1\" class=\"dataframe\">\n",
       "  <thead>\n",
       "    <tr style=\"text-align: right;\">\n",
       "      <th></th>\n",
       "      <th>Region</th>\n",
       "      <th>Region_pcode</th>\n",
       "      <th>Province</th>\n",
       "      <th>Province_pcode</th>\n",
       "      <th>Municipality_City</th>\n",
       "      <th>Mun_Pcode</th>\n",
       "      <th>2020</th>\n",
       "      <th>2021</th>\n",
       "      <th>2022</th>\n",
       "      <th>2023</th>\n",
       "      <th>2024</th>\n",
       "      <th>2025</th>\n",
       "    </tr>\n",
       "  </thead>\n",
       "  <tbody>\n",
       "    <tr>\n",
       "      <th>1629</th>\n",
       "      <td>Region IV-B (MIMAROPA)</td>\n",
       "      <td>PH170000000</td>\n",
       "      <td>Romblon</td>\n",
       "      <td>PH175900000</td>\n",
       "      <td>San Fernando</td>\n",
       "      <td>PH175913000</td>\n",
       "      <td>23974</td>\n",
       "      <td>24097</td>\n",
       "      <td>24213</td>\n",
       "      <td>24322</td>\n",
       "      <td>24425</td>\n",
       "      <td>24521</td>\n",
       "    </tr>\n",
       "    <tr>\n",
       "      <th>1630</th>\n",
       "      <td>Region IV-B (MIMAROPA)</td>\n",
       "      <td>PH170000000</td>\n",
       "      <td>Romblon</td>\n",
       "      <td>PH175900000</td>\n",
       "      <td>San Jose</td>\n",
       "      <td>PH175914000</td>\n",
       "      <td>11424</td>\n",
       "      <td>11527</td>\n",
       "      <td>11627</td>\n",
       "      <td>11725</td>\n",
       "      <td>11820</td>\n",
       "      <td>11913</td>\n",
       "    </tr>\n",
       "    <tr>\n",
       "      <th>1631</th>\n",
       "      <td>Region IV-B (MIMAROPA)</td>\n",
       "      <td>PH170000000</td>\n",
       "      <td>Romblon</td>\n",
       "      <td>PH175900000</td>\n",
       "      <td>Santa Fe</td>\n",
       "      <td>PH175915000</td>\n",
       "      <td>16427</td>\n",
       "      <td>16480</td>\n",
       "      <td>16527</td>\n",
       "      <td>16569</td>\n",
       "      <td>16607</td>\n",
       "      <td>16640</td>\n",
       "    </tr>\n",
       "    <tr>\n",
       "      <th>1632</th>\n",
       "      <td>Region IV-B (MIMAROPA)</td>\n",
       "      <td>PH170000000</td>\n",
       "      <td>Romblon</td>\n",
       "      <td>PH175900000</td>\n",
       "      <td>Ferrol</td>\n",
       "      <td>PH175916000</td>\n",
       "      <td>7096</td>\n",
       "      <td>7117</td>\n",
       "      <td>7135</td>\n",
       "      <td>7152</td>\n",
       "      <td>7166</td>\n",
       "      <td>7178</td>\n",
       "    </tr>\n",
       "    <tr>\n",
       "      <th>1633</th>\n",
       "      <td>Region IV-B (MIMAROPA)</td>\n",
       "      <td>PH170000000</td>\n",
       "      <td>Romblon</td>\n",
       "      <td>PH175900000</td>\n",
       "      <td>Santa Maria (Imelda)</td>\n",
       "      <td>PH175917000</td>\n",
       "      <td>9331</td>\n",
       "      <td>9498</td>\n",
       "      <td>9666</td>\n",
       "      <td>9834</td>\n",
       "      <td>10002</td>\n",
       "      <td>10170</td>\n",
       "    </tr>\n",
       "  </tbody>\n",
       "</table>\n",
       "</div>"
      ],
      "text/plain": [
       "                      Region Region_pcode Province Province_pcode  \\\n",
       "1629  Region IV-B (MIMAROPA)  PH170000000  Romblon    PH175900000   \n",
       "1630  Region IV-B (MIMAROPA)  PH170000000  Romblon    PH175900000   \n",
       "1631  Region IV-B (MIMAROPA)  PH170000000  Romblon    PH175900000   \n",
       "1632  Region IV-B (MIMAROPA)  PH170000000  Romblon    PH175900000   \n",
       "1633  Region IV-B (MIMAROPA)  PH170000000  Romblon    PH175900000   \n",
       "\n",
       "         Municipality_City    Mun_Pcode   2020   2021   2022   2023   2024  \\\n",
       "1629          San Fernando  PH175913000  23974  24097  24213  24322  24425   \n",
       "1630              San Jose  PH175914000  11424  11527  11627  11725  11820   \n",
       "1631              Santa Fe  PH175915000  16427  16480  16527  16569  16607   \n",
       "1632                Ferrol  PH175916000   7096   7117   7135   7152   7166   \n",
       "1633  Santa Maria (Imelda)  PH175917000   9331   9498   9666   9834  10002   \n",
       "\n",
       "       2025  \n",
       "1629  24521  \n",
       "1630  11913  \n",
       "1631  16640  \n",
       "1632   7178  \n",
       "1633  10170  "
      ]
     },
     "execution_count": 9,
     "metadata": {},
     "output_type": "execute_result"
    }
   ],
   "source": [
    "df.tail()"
   ]
  },
  {
   "cell_type": "code",
   "execution_count": 10,
   "id": "cb3f2253",
   "metadata": {
    "execution": {
     "iopub.execute_input": "2025-08-01T14:51:21.478520Z",
     "iopub.status.busy": "2025-08-01T14:51:21.478159Z",
     "iopub.status.idle": "2025-08-01T14:51:21.484692Z",
     "shell.execute_reply": "2025-08-01T14:51:21.483849Z"
    },
    "papermill": {
     "duration": 0.016952,
     "end_time": "2025-08-01T14:51:21.486113",
     "exception": false,
     "start_time": "2025-08-01T14:51:21.469161",
     "status": "completed"
    },
    "tags": []
   },
   "outputs": [
    {
     "data": {
      "text/plain": [
       "['Region I (Ilocos Region)',\n",
       " 'Region II (Cagayan Valley)',\n",
       " 'Region III (Central Luzon)',\n",
       " 'Region IV-A (CALABARZON)',\n",
       " 'Region V (Bicol Region)',\n",
       " 'Region VI (Western Visayas)',\n",
       " 'Region VII (Central Visayas)',\n",
       " 'Region VIII (Eastern Visayas)',\n",
       " 'Region IX (Zamboanga Peninsula)',\n",
       " 'Region X (Northern Mindanao)',\n",
       " 'Region XI (Davao Region)',\n",
       " 'Region XII (SOCCSKSARGEN)',\n",
       " 'National Capital Region (NCR)',\n",
       " 'Cordillera Administrative Region (CAR)',\n",
       " 'Autonomous Region in Muslim Mindanao (ARMM)',\n",
       " 'Region XIII (Caraga)',\n",
       " 'Region IV-B (MIMAROPA)']"
      ]
     },
     "execution_count": 10,
     "metadata": {},
     "output_type": "execute_result"
    }
   ],
   "source": [
    "df['Region'].unique().tolist()"
   ]
  },
  {
   "cell_type": "code",
   "execution_count": 11,
   "id": "f77b02e9",
   "metadata": {
    "execution": {
     "iopub.execute_input": "2025-08-01T14:51:21.503943Z",
     "iopub.status.busy": "2025-08-01T14:51:21.503561Z",
     "iopub.status.idle": "2025-08-01T14:51:21.510289Z",
     "shell.execute_reply": "2025-08-01T14:51:21.509474Z"
    },
    "papermill": {
     "duration": 0.017405,
     "end_time": "2025-08-01T14:51:21.511684",
     "exception": false,
     "start_time": "2025-08-01T14:51:21.494279",
     "status": "completed"
    },
    "tags": []
   },
   "outputs": [
    {
     "data": {
      "text/plain": [
       "1437"
      ]
     },
     "execution_count": 11,
     "metadata": {},
     "output_type": "execute_result"
    }
   ],
   "source": [
    "len(df['Municipality_City'].unique().tolist())"
   ]
  },
  {
   "cell_type": "code",
   "execution_count": 12,
   "id": "8214621d",
   "metadata": {
    "execution": {
     "iopub.execute_input": "2025-08-01T14:51:21.529423Z",
     "iopub.status.busy": "2025-08-01T14:51:21.529097Z",
     "iopub.status.idle": "2025-08-01T14:51:21.534801Z",
     "shell.execute_reply": "2025-08-01T14:51:21.533944Z"
    },
    "papermill": {
     "duration": 0.016273,
     "end_time": "2025-08-01T14:51:21.536345",
     "exception": false,
     "start_time": "2025-08-01T14:51:21.520072",
     "status": "completed"
    },
    "tags": []
   },
   "outputs": [
    {
     "data": {
      "text/plain": [
       "Index(['Region', 'Region_pcode', 'Province', 'Province_pcode',\n",
       "       'Municipality_City', 'Mun_Pcode', '2020', '2021', '2022', '2023',\n",
       "       '2024', '2025'],\n",
       "      dtype='object')"
      ]
     },
     "execution_count": 12,
     "metadata": {},
     "output_type": "execute_result"
    }
   ],
   "source": [
    "df.columns"
   ]
  },
  {
   "cell_type": "markdown",
   "id": "de4b524b",
   "metadata": {
    "papermill": {
     "duration": 0.008464,
     "end_time": "2025-08-01T14:51:21.553190",
     "exception": false,
     "start_time": "2025-08-01T14:51:21.544726",
     "status": "completed"
    },
    "tags": []
   },
   "source": [
    "## EDA (Exploratory Data Analysis)"
   ]
  },
  {
   "cell_type": "markdown",
   "id": "74aab4ee",
   "metadata": {
    "papermill": {
     "duration": 0.073221,
     "end_time": "2025-08-01T14:51:21.634708",
     "exception": false,
     "start_time": "2025-08-01T14:51:21.561487",
     "status": "completed"
    },
    "tags": []
   },
   "source": [
    "### What is the overall population growth trend in the Philippines from 2020 to 2025?"
   ]
  },
  {
   "cell_type": "code",
   "execution_count": 13,
   "id": "f509c7f8",
   "metadata": {
    "execution": {
     "iopub.execute_input": "2025-08-01T14:51:21.652737Z",
     "iopub.status.busy": "2025-08-01T14:51:21.652449Z",
     "iopub.status.idle": "2025-08-01T14:51:21.657465Z",
     "shell.execute_reply": "2025-08-01T14:51:21.656377Z"
    },
    "papermill": {
     "duration": 0.016031,
     "end_time": "2025-08-01T14:51:21.659159",
     "exception": false,
     "start_time": "2025-08-01T14:51:21.643128",
     "status": "completed"
    },
    "tags": []
   },
   "outputs": [],
   "source": [
    "years = ['2020', '2021', '2022', '2023', '2024', '2025']"
   ]
  },
  {
   "cell_type": "code",
   "execution_count": 14,
   "id": "91e6b95d",
   "metadata": {
    "execution": {
     "iopub.execute_input": "2025-08-01T14:51:21.677336Z",
     "iopub.status.busy": "2025-08-01T14:51:21.677014Z",
     "iopub.status.idle": "2025-08-01T14:51:21.689233Z",
     "shell.execute_reply": "2025-08-01T14:51:21.688376Z"
    },
    "papermill": {
     "duration": 0.023271,
     "end_time": "2025-08-01T14:51:21.690851",
     "exception": false,
     "start_time": "2025-08-01T14:51:21.667580",
     "status": "completed"
    },
    "tags": []
   },
   "outputs": [
    {
     "data": {
      "text/html": [
       "<div>\n",
       "<style scoped>\n",
       "    .dataframe tbody tr th:only-of-type {\n",
       "        vertical-align: middle;\n",
       "    }\n",
       "\n",
       "    .dataframe tbody tr th {\n",
       "        vertical-align: top;\n",
       "    }\n",
       "\n",
       "    .dataframe thead th {\n",
       "        text-align: right;\n",
       "    }\n",
       "</style>\n",
       "<table border=\"1\" class=\"dataframe\">\n",
       "  <thead>\n",
       "    <tr style=\"text-align: right;\">\n",
       "      <th></th>\n",
       "      <th>Years</th>\n",
       "      <th>Total Population</th>\n",
       "    </tr>\n",
       "  </thead>\n",
       "  <tbody>\n",
       "    <tr>\n",
       "      <th>0</th>\n",
       "      <td>2020</td>\n",
       "      <td>108771961</td>\n",
       "    </tr>\n",
       "    <tr>\n",
       "      <th>1</th>\n",
       "      <td>2021</td>\n",
       "      <td>110198630</td>\n",
       "    </tr>\n",
       "    <tr>\n",
       "      <th>2</th>\n",
       "      <td>2022</td>\n",
       "      <td>111572245</td>\n",
       "    </tr>\n",
       "    <tr>\n",
       "      <th>3</th>\n",
       "      <td>2023</td>\n",
       "      <td>112892768</td>\n",
       "    </tr>\n",
       "    <tr>\n",
       "      <th>4</th>\n",
       "      <td>2024</td>\n",
       "      <td>114163715</td>\n",
       "    </tr>\n",
       "    <tr>\n",
       "      <th>5</th>\n",
       "      <td>2025</td>\n",
       "      <td>115377991</td>\n",
       "    </tr>\n",
       "  </tbody>\n",
       "</table>\n",
       "</div>"
      ],
      "text/plain": [
       "  Years  Total Population\n",
       "0  2020         108771961\n",
       "1  2021         110198630\n",
       "2  2022         111572245\n",
       "3  2023         112892768\n",
       "4  2024         114163715\n",
       "5  2025         115377991"
      ]
     },
     "execution_count": 14,
     "metadata": {},
     "output_type": "execute_result"
    }
   ],
   "source": [
    "national_total = df[years].sum().reset_index()\n",
    "national_total.columns = ['Years', 'Total Population']\n",
    "national_total"
   ]
  },
  {
   "cell_type": "code",
   "execution_count": 15,
   "id": "077044cd",
   "metadata": {
    "execution": {
     "iopub.execute_input": "2025-08-01T14:51:21.712347Z",
     "iopub.status.busy": "2025-08-01T14:51:21.711953Z",
     "iopub.status.idle": "2025-08-01T14:51:21.732840Z",
     "shell.execute_reply": "2025-08-01T14:51:21.731858Z"
    },
    "papermill": {
     "duration": 0.034968,
     "end_time": "2025-08-01T14:51:21.734546",
     "exception": false,
     "start_time": "2025-08-01T14:51:21.699578",
     "status": "completed"
    },
    "tags": []
   },
   "outputs": [
    {
     "data": {
      "text/html": [
       "<div>\n",
       "<style scoped>\n",
       "    .dataframe tbody tr th:only-of-type {\n",
       "        vertical-align: middle;\n",
       "    }\n",
       "\n",
       "    .dataframe tbody tr th {\n",
       "        vertical-align: top;\n",
       "    }\n",
       "\n",
       "    .dataframe thead th {\n",
       "        text-align: right;\n",
       "    }\n",
       "</style>\n",
       "<table border=\"1\" class=\"dataframe\">\n",
       "  <thead>\n",
       "    <tr style=\"text-align: right;\">\n",
       "      <th></th>\n",
       "      <th>Region</th>\n",
       "      <th>Year</th>\n",
       "      <th>Population</th>\n",
       "    </tr>\n",
       "  </thead>\n",
       "  <tbody>\n",
       "    <tr>\n",
       "      <th>0</th>\n",
       "      <td>Autonomous Region in Muslim Mindanao (ARMM)</td>\n",
       "      <td>2020</td>\n",
       "      <td>4183315</td>\n",
       "    </tr>\n",
       "    <tr>\n",
       "      <th>1</th>\n",
       "      <td>Autonomous Region in Muslim Mindanao (ARMM)</td>\n",
       "      <td>2021</td>\n",
       "      <td>4270192</td>\n",
       "    </tr>\n",
       "    <tr>\n",
       "      <th>2</th>\n",
       "      <td>Autonomous Region in Muslim Mindanao (ARMM)</td>\n",
       "      <td>2022</td>\n",
       "      <td>4358835</td>\n",
       "    </tr>\n",
       "    <tr>\n",
       "      <th>3</th>\n",
       "      <td>Autonomous Region in Muslim Mindanao (ARMM)</td>\n",
       "      <td>2023</td>\n",
       "      <td>4449234</td>\n",
       "    </tr>\n",
       "    <tr>\n",
       "      <th>4</th>\n",
       "      <td>Autonomous Region in Muslim Mindanao (ARMM)</td>\n",
       "      <td>2024</td>\n",
       "      <td>4541633</td>\n",
       "    </tr>\n",
       "  </tbody>\n",
       "</table>\n",
       "</div>"
      ],
      "text/plain": [
       "                                        Region  Year  Population\n",
       "0  Autonomous Region in Muslim Mindanao (ARMM)  2020     4183315\n",
       "1  Autonomous Region in Muslim Mindanao (ARMM)  2021     4270192\n",
       "2  Autonomous Region in Muslim Mindanao (ARMM)  2022     4358835\n",
       "3  Autonomous Region in Muslim Mindanao (ARMM)  2023     4449234\n",
       "4  Autonomous Region in Muslim Mindanao (ARMM)  2024     4541633"
      ]
     },
     "execution_count": 15,
     "metadata": {},
     "output_type": "execute_result"
    }
   ],
   "source": [
    "df_long = df.melt(\n",
    "    id_vars=['Region'],\n",
    "    value_vars=years,\n",
    "    var_name='Year',\n",
    "    value_name='Population'\n",
    ")\n",
    "\n",
    "region_year_total = df_long.groupby(['Region', 'Year'], as_index=False)['Population'].sum()\n",
    "\n",
    "region_year_total.head()"
   ]
  },
  {
   "cell_type": "code",
   "execution_count": 16,
   "id": "b01f50c2",
   "metadata": {
    "execution": {
     "iopub.execute_input": "2025-08-01T14:51:21.754105Z",
     "iopub.status.busy": "2025-08-01T14:51:21.753639Z",
     "iopub.status.idle": "2025-08-01T14:51:22.076728Z",
     "shell.execute_reply": "2025-08-01T14:51:22.075751Z"
    },
    "papermill": {
     "duration": 0.33487,
     "end_time": "2025-08-01T14:51:22.078506",
     "exception": false,
     "start_time": "2025-08-01T14:51:21.743636",
     "status": "completed"
    },
    "tags": []
   },
   "outputs": [
    {
     "data": {
      "image/png": "[encoded data removed]",
      "text/plain": [
       "<Figure size 1000x600 with 1 Axes>"
      ]
     },
     "metadata": {},
     "output_type": "display_data"
    }
   ],
   "source": [
    "plt.figure(figsize=(10, 6))\n",
    "sns.barplot(data=national_total, x='Years', y='Total Population', palette='Blues_d')\n",
    "\n",
    "plt.title('Philippine Population 2020 to 2025')\n",
    "plt.xlabel('Year')\n",
    "plt.ylabel('Total Population')\n",
    "plt.tight_layout()\n",
    "plt.show()"
   ]
  },
  {
   "cell_type": "markdown",
   "id": "987a208a",
   "metadata": {
    "papermill": {
     "duration": 0.008681,
     "end_time": "2025-08-01T14:51:22.096509",
     "exception": false,
     "start_time": "2025-08-01T14:51:22.087828",
     "status": "completed"
    },
    "tags": []
   },
   "source": [
    "### Which regions have the highest and lowest population growth?"
   ]
  },
  {
   "cell_type": "code",
   "execution_count": 17,
   "id": "7f5ff148",
   "metadata": {
    "execution": {
     "iopub.execute_input": "2025-08-01T14:51:22.115936Z",
     "iopub.status.busy": "2025-08-01T14:51:22.115605Z",
     "iopub.status.idle": "2025-08-01T14:51:22.683433Z",
     "shell.execute_reply": "2025-08-01T14:51:22.682444Z"
    },
    "papermill": {
     "duration": 0.580625,
     "end_time": "2025-08-01T14:51:22.685981",
     "exception": false,
     "start_time": "2025-08-01T14:51:22.105356",
     "status": "completed"
    },
    "tags": []
   },
   "outputs": [
    {
     "data": {
      "image/png": "[encoded data removed]",
      "text/plain": [
       "<Figure size 1200x600 with 1 Axes>"
      ]
     },
     "metadata": {},
     "output_type": "display_data"
    }
   ],
   "source": [
    "region_growth = df.groupby('Region')[years].sum().reset_index()\n",
    "long_df = region_growth.melt(id_vars='Region', var_name='Year', value_name='Population')\n",
    "long_df['Year'] = long_df['Year'].astype(int)\n",
    "regions = long_df['Region'].unique()\n",
    "palette = sns.cubehelix_palette(len(regions), start=0.5, rot=-.75, as_cmap=False)\n",
    "\n",
    "plt.figure(figsize=(12, 6))\n",
    "sns.lineplot(\n",
    "    data=long_df,\n",
    "    x='Year',\n",
    "    y='Population',\n",
    "    hue='Region',\n",
    "    marker='o',\n",
    "    palette=palette\n",
    ")\n",
    "\n",
    "plt.title('Population Growth by Region 2020 to 2025', fontsize=16, weight='bold', loc='center')\n",
    "plt.xlabel('Year')\n",
    "plt.ylabel('Population')\n",
    "plt.legend(title='Region', bbox_to_anchor=(1.02, 1), loc='upper left', borderaxespad=0)\n",
    "\n",
    "plt.tight_layout()\n",
    "plt.show()"
   ]
  },
  {
   "cell_type": "code",
   "execution_count": 18,
   "id": "9a16c36b",
   "metadata": {
    "execution": {
     "iopub.execute_input": "2025-08-01T14:51:22.711153Z",
     "iopub.status.busy": "2025-08-01T14:51:22.710778Z",
     "iopub.status.idle": "2025-08-01T14:51:22.730490Z",
     "shell.execute_reply": "2025-08-01T14:51:22.729451Z"
    },
    "papermill": {
     "duration": 0.034132,
     "end_time": "2025-08-01T14:51:22.732286",
     "exception": false,
     "start_time": "2025-08-01T14:51:22.698154",
     "status": "completed"
    },
    "tags": []
   },
   "outputs": [
    {
     "data": {
      "text/html": [
       "<div>\n",
       "<style scoped>\n",
       "    .dataframe tbody tr th:only-of-type {\n",
       "        vertical-align: middle;\n",
       "    }\n",
       "\n",
       "    .dataframe tbody tr th {\n",
       "        vertical-align: top;\n",
       "    }\n",
       "\n",
       "    .dataframe thead th {\n",
       "        text-align: right;\n",
       "    }\n",
       "</style>\n",
       "<table border=\"1\" class=\"dataframe\">\n",
       "  <thead>\n",
       "    <tr style=\"text-align: right;\">\n",
       "      <th></th>\n",
       "      <th>Region</th>\n",
       "      <th>2020</th>\n",
       "      <th>2021</th>\n",
       "      <th>2022</th>\n",
       "      <th>2023</th>\n",
       "      <th>2024</th>\n",
       "      <th>2025</th>\n",
       "      <th>Absolute Growth</th>\n",
       "      <th>Percentage Growth</th>\n",
       "    </tr>\n",
       "  </thead>\n",
       "  <tbody>\n",
       "    <tr>\n",
       "      <th>0</th>\n",
       "      <td>Autonomous Region in Muslim Mindanao (ARMM)</td>\n",
       "      <td>4183315</td>\n",
       "      <td>4270192</td>\n",
       "      <td>4358835</td>\n",
       "      <td>4449234</td>\n",
       "      <td>4541633</td>\n",
       "      <td>4635526</td>\n",
       "      <td>452211</td>\n",
       "      <td>10.809872</td>\n",
       "    </tr>\n",
       "    <tr>\n",
       "      <th>1</th>\n",
       "      <td>Region IV-A (CALABARZON)</td>\n",
       "      <td>16057291</td>\n",
       "      <td>16361101</td>\n",
       "      <td>16654979</td>\n",
       "      <td>16938895</td>\n",
       "      <td>17213592</td>\n",
       "      <td>17477567</td>\n",
       "      <td>1420276</td>\n",
       "      <td>8.845054</td>\n",
       "    </tr>\n",
       "    <tr>\n",
       "      <th>2</th>\n",
       "      <td>Region XI (Davao Region)</td>\n",
       "      <td>5290867</td>\n",
       "      <td>5371252</td>\n",
       "      <td>5451446</td>\n",
       "      <td>5531465</td>\n",
       "      <td>5611525</td>\n",
       "      <td>5691180</td>\n",
       "      <td>400313</td>\n",
       "      <td>7.566113</td>\n",
       "    </tr>\n",
       "    <tr>\n",
       "      <th>3</th>\n",
       "      <td>Region III (Central Luzon)</td>\n",
       "      <td>12313714</td>\n",
       "      <td>12513845</td>\n",
       "      <td>12706461</td>\n",
       "      <td>12891544</td>\n",
       "      <td>13069623</td>\n",
       "      <td>13239668</td>\n",
       "      <td>925954</td>\n",
       "      <td>7.519697</td>\n",
       "    </tr>\n",
       "    <tr>\n",
       "      <th>4</th>\n",
       "      <td>Region VIII (Eastern Visayas)</td>\n",
       "      <td>4742342</td>\n",
       "      <td>4803767</td>\n",
       "      <td>4865154</td>\n",
       "      <td>4926496</td>\n",
       "      <td>4987964</td>\n",
       "      <td>5049228</td>\n",
       "      <td>306886</td>\n",
       "      <td>6.471191</td>\n",
       "    </tr>\n",
       "    <tr>\n",
       "      <th>5</th>\n",
       "      <td>Region XII (SOCCSKSARGEN)</td>\n",
       "      <td>4919935</td>\n",
       "      <td>4985880</td>\n",
       "      <td>5048332</td>\n",
       "      <td>5107292</td>\n",
       "      <td>5162939</td>\n",
       "      <td>5214934</td>\n",
       "      <td>294999</td>\n",
       "      <td>5.995994</td>\n",
       "    </tr>\n",
       "    <tr>\n",
       "      <th>6</th>\n",
       "      <td>Region VII (Central Visayas)</td>\n",
       "      <td>7957045</td>\n",
       "      <td>8054770</td>\n",
       "      <td>8147077</td>\n",
       "      <td>8233964</td>\n",
       "      <td>8315667</td>\n",
       "      <td>8391706</td>\n",
       "      <td>434661</td>\n",
       "      <td>5.462593</td>\n",
       "    </tr>\n",
       "    <tr>\n",
       "      <th>7</th>\n",
       "      <td>Region IV-B (MIMAROPA)</td>\n",
       "      <td>3174856</td>\n",
       "      <td>3212216</td>\n",
       "      <td>3247677</td>\n",
       "      <td>3281252</td>\n",
       "      <td>3313032</td>\n",
       "      <td>3342831</td>\n",
       "      <td>167975</td>\n",
       "      <td>5.290791</td>\n",
       "    </tr>\n",
       "    <tr>\n",
       "      <th>8</th>\n",
       "      <td>National Capital Region (NCR)</td>\n",
       "      <td>13804656</td>\n",
       "      <td>13966223</td>\n",
       "      <td>14118676</td>\n",
       "      <td>14262004</td>\n",
       "      <td>14396580</td>\n",
       "      <td>14521657</td>\n",
       "      <td>717001</td>\n",
       "      <td>5.193907</td>\n",
       "    </tr>\n",
       "    <tr>\n",
       "      <th>9</th>\n",
       "      <td>Region X (Northern Mindanao)</td>\n",
       "      <td>5017050</td>\n",
       "      <td>5074560</td>\n",
       "      <td>5128966</td>\n",
       "      <td>5180239</td>\n",
       "      <td>5228550</td>\n",
       "      <td>5273601</td>\n",
       "      <td>256551</td>\n",
       "      <td>5.113583</td>\n",
       "    </tr>\n",
       "    <tr>\n",
       "      <th>10</th>\n",
       "      <td>Region XIII (Caraga)</td>\n",
       "      <td>2753107</td>\n",
       "      <td>2782217</td>\n",
       "      <td>2810432</td>\n",
       "      <td>2837739</td>\n",
       "      <td>2864202</td>\n",
       "      <td>2889689</td>\n",
       "      <td>136582</td>\n",
       "      <td>4.961013</td>\n",
       "    </tr>\n",
       "    <tr>\n",
       "      <th>11</th>\n",
       "      <td>Region II (Cagayan Valley)</td>\n",
       "      <td>3657746</td>\n",
       "      <td>3693667</td>\n",
       "      <td>3727545</td>\n",
       "      <td>3759422</td>\n",
       "      <td>3789328</td>\n",
       "      <td>3817142</td>\n",
       "      <td>159396</td>\n",
       "      <td>4.357766</td>\n",
       "    </tr>\n",
       "    <tr>\n",
       "      <th>12</th>\n",
       "      <td>Region V (Bicol Region)</td>\n",
       "      <td>6133835</td>\n",
       "      <td>6192917</td>\n",
       "      <td>6248837</td>\n",
       "      <td>6301589</td>\n",
       "      <td>6351296</td>\n",
       "      <td>6397690</td>\n",
       "      <td>263855</td>\n",
       "      <td>4.301632</td>\n",
       "    </tr>\n",
       "    <tr>\n",
       "      <th>13</th>\n",
       "      <td>Region VI (Western Visayas)</td>\n",
       "      <td>7904895</td>\n",
       "      <td>7970551</td>\n",
       "      <td>8033039</td>\n",
       "      <td>8092361</td>\n",
       "      <td>8148699</td>\n",
       "      <td>8201700</td>\n",
       "      <td>296805</td>\n",
       "      <td>3.754699</td>\n",
       "    </tr>\n",
       "    <tr>\n",
       "      <th>14</th>\n",
       "      <td>Cordillera Administrative Region (CAR)</td>\n",
       "      <td>1807739</td>\n",
       "      <td>1822716</td>\n",
       "      <td>1836855</td>\n",
       "      <td>1850153</td>\n",
       "      <td>1862657</td>\n",
       "      <td>1874281</td>\n",
       "      <td>66542</td>\n",
       "      <td>3.680952</td>\n",
       "    </tr>\n",
       "    <tr>\n",
       "      <th>15</th>\n",
       "      <td>Region I (Ilocos Region)</td>\n",
       "      <td>5270807</td>\n",
       "      <td>5313220</td>\n",
       "      <td>5353137</td>\n",
       "      <td>5390568</td>\n",
       "      <td>5425604</td>\n",
       "      <td>5458061</td>\n",
       "      <td>187254</td>\n",
       "      <td>3.552663</td>\n",
       "    </tr>\n",
       "    <tr>\n",
       "      <th>16</th>\n",
       "      <td>Region IX (Zamboanga Peninsula)</td>\n",
       "      <td>3782761</td>\n",
       "      <td>3809536</td>\n",
       "      <td>3834797</td>\n",
       "      <td>3858551</td>\n",
       "      <td>3880824</td>\n",
       "      <td>3901530</td>\n",
       "      <td>118769</td>\n",
       "      <td>3.139744</td>\n",
       "    </tr>\n",
       "  </tbody>\n",
       "</table>\n",
       "</div>"
      ],
      "text/plain": [
       "                                         Region      2020      2021      2022  \\\n",
       "0   Autonomous Region in Muslim Mindanao (ARMM)   4183315   4270192   4358835   \n",
       "1                      Region IV-A (CALABARZON)  16057291  16361101  16654979   \n",
       "2                      Region XI (Davao Region)   5290867   5371252   5451446   \n",
       "3                    Region III (Central Luzon)  12313714  12513845  12706461   \n",
       "4                 Region VIII (Eastern Visayas)   4742342   4803767   4865154   \n",
       "5                     Region XII (SOCCSKSARGEN)   4919935   4985880   5048332   \n",
       "6                  Region VII (Central Visayas)   7957045   8054770   8147077   \n",
       "7                        Region IV-B (MIMAROPA)   3174856   3212216   3247677   \n",
       "8                 National Capital Region (NCR)  13804656  13966223  14118676   \n",
       "9                  Region X (Northern Mindanao)   5017050   5074560   5128966   \n",
       "10                         Region XIII (Caraga)   2753107   2782217   2810432   \n",
       "11                   Region II (Cagayan Valley)   3657746   3693667   3727545   \n",
       "12                      Region V (Bicol Region)   6133835   6192917   6248837   \n",
       "13                  Region VI (Western Visayas)   7904895   7970551   8033039   \n",
       "14       Cordillera Administrative Region (CAR)   1807739   1822716   1836855   \n",
       "15                     Region I (Ilocos Region)   5270807   5313220   5353137   \n",
       "16              Region IX (Zamboanga Peninsula)   3782761   3809536   3834797   \n",
       "\n",
       "        2023      2024      2025  Absolute Growth  Percentage Growth  \n",
       "0    4449234   4541633   4635526           452211          10.809872  \n",
       "1   16938895  17213592  17477567          1420276           8.845054  \n",
       "2    5531465   5611525   5691180           400313           7.566113  \n",
       "3   12891544  13069623  13239668           925954           7.519697  \n",
       "4    4926496   4987964   5049228           306886           6.471191  \n",
       "5    5107292   5162939   5214934           294999           5.995994  \n",
       "6    8233964   8315667   8391706           434661           5.462593  \n",
       "7    3281252   3313032   3342831           167975           5.290791  \n",
       "8   14262004  14396580  14521657           717001           5.193907  \n",
       "9    5180239   5228550   5273601           256551           5.113583  \n",
       "10   2837739   2864202   2889689           136582           4.961013  \n",
       "11   3759422   3789328   3817142           159396           4.357766  \n",
       "12   6301589   6351296   6397690           263855           4.301632  \n",
       "13   8092361   8148699   8201700           296805           3.754699  \n",
       "14   1850153   1862657   1874281            66542           3.680952  \n",
       "15   5390568   5425604   5458061           187254           3.552663  \n",
       "16   3858551   3880824   3901530           118769           3.139744  "
      ]
     },
     "execution_count": 18,
     "metadata": {},
     "output_type": "execute_result"
    }
   ],
   "source": [
    "region_growth = df.groupby('Region')[years].sum().reset_index()\n",
    "\n",
    "region_growth['Absolute Growth'] = region_growth['2025'] - region_growth['2020']\n",
    "region_growth['Percentage Growth'] = ((region_growth['2025'] - region_growth['2020']) / region_growth['2020']) * 100\n",
    "\n",
    "ordered_cols = ['Region'] + years + ['Absolute Growth', 'Percentage Growth']\n",
    "\n",
    "region_growth_df = region_growth[ordered_cols].sort_values(by='Percentage Growth', ascending=False).reset_index(drop=True)\n",
    "\n",
    "region_growth_df"
   ]
  },
  {
   "cell_type": "code",
   "execution_count": 19,
   "id": "9891e214",
   "metadata": {
    "execution": {
     "iopub.execute_input": "2025-08-01T14:51:22.758906Z",
     "iopub.status.busy": "2025-08-01T14:51:22.757919Z",
     "iopub.status.idle": "2025-08-01T14:51:23.205915Z",
     "shell.execute_reply": "2025-08-01T14:51:23.204933Z"
    },
    "papermill": {
     "duration": 0.462823,
     "end_time": "2025-08-01T14:51:23.207886",
     "exception": false,
     "start_time": "2025-08-01T14:51:22.745063",
     "status": "completed"
    },
    "tags": []
   },
   "outputs": [
    {
     "data": {
      "image/png": "[encoded data removed]",
      "text/plain": [
       "<Figure size 1000x600 with 1 Axes>"
      ]
     },
     "metadata": {},
     "output_type": "display_data"
    }
   ],
   "source": [
    "palette = sns.color_palette(\"viridis\", as_cmap=True)\n",
    "\n",
    "plt.figure(figsize=(10, 6))\n",
    "sns.barplot(\n",
    "    data=region_growth_df.sort_values(\"Percentage Growth\", ascending=False),\n",
    "    x=\"Percentage Growth\",\n",
    "    y=\"Region\",\n",
    "    palette=\"viridis\"\n",
    ")\n",
    "\n",
    "plt.title(\"Regional Population Growth Rate (2020–2025)\", fontsize=16, weight=\"bold\", loc=\"center\")\n",
    "plt.xlabel(\"Percentage Growth\")\n",
    "plt.ylabel(\"Region\")\n",
    "\n",
    "plt.tight_layout()\n",
    "plt.show()"
   ]
  },
  {
   "cell_type": "markdown",
   "id": "9e42d83c",
   "metadata": {
    "papermill": {
     "duration": 0.013106,
     "end_time": "2025-08-01T14:51:23.234759",
     "exception": false,
     "start_time": "2025-08-01T14:51:23.221653",
     "status": "completed"
    },
    "tags": []
   },
   "source": [
    "### What are the percentage growth of the Provinces in the Philippines from 2020 to 2025?"
   ]
  },
  {
   "cell_type": "code",
   "execution_count": 20,
   "id": "ce8a858b",
   "metadata": {
    "execution": {
     "iopub.execute_input": "2025-08-01T14:51:23.263270Z",
     "iopub.status.busy": "2025-08-01T14:51:23.262894Z",
     "iopub.status.idle": "2025-08-01T14:51:23.283921Z",
     "shell.execute_reply": "2025-08-01T14:51:23.282958Z"
    },
    "papermill": {
     "duration": 0.037601,
     "end_time": "2025-08-01T14:51:23.285621",
     "exception": false,
     "start_time": "2025-08-01T14:51:23.248020",
     "status": "completed"
    },
    "tags": []
   },
   "outputs": [
    {
     "data": {
      "text/html": [
       "<div>\n",
       "<style scoped>\n",
       "    .dataframe tbody tr th:only-of-type {\n",
       "        vertical-align: middle;\n",
       "    }\n",
       "\n",
       "    .dataframe tbody tr th {\n",
       "        vertical-align: top;\n",
       "    }\n",
       "\n",
       "    .dataframe thead th {\n",
       "        text-align: right;\n",
       "    }\n",
       "</style>\n",
       "<table border=\"1\" class=\"dataframe\">\n",
       "  <thead>\n",
       "    <tr style=\"text-align: right;\">\n",
       "      <th></th>\n",
       "      <th>Province</th>\n",
       "      <th>Region</th>\n",
       "      <th>2020</th>\n",
       "      <th>2021</th>\n",
       "      <th>2022</th>\n",
       "      <th>2023</th>\n",
       "      <th>2024</th>\n",
       "      <th>2025</th>\n",
       "      <th>Absolute Growth</th>\n",
       "      <th>Percentage Growth</th>\n",
       "    </tr>\n",
       "  </thead>\n",
       "  <tbody>\n",
       "    <tr>\n",
       "      <th>0</th>\n",
       "      <td>Maguindanao</td>\n",
       "      <td>Autonomous Region in Muslim Mindanao (ARMM)</td>\n",
       "      <td>1323051</td>\n",
       "      <td>1355938</td>\n",
       "      <td>1389642</td>\n",
       "      <td>1424161</td>\n",
       "      <td>1459585</td>\n",
       "      <td>1495725</td>\n",
       "      <td>172674</td>\n",
       "      <td>13.051198</td>\n",
       "    </tr>\n",
       "    <tr>\n",
       "      <th>1</th>\n",
       "      <td>Batangas</td>\n",
       "      <td>Region IV-A (CALABARZON)</td>\n",
       "      <td>3033730</td>\n",
       "      <td>3107922</td>\n",
       "      <td>3183932</td>\n",
       "      <td>3261749</td>\n",
       "      <td>3341600</td>\n",
       "      <td>3423043</td>\n",
       "      <td>389313</td>\n",
       "      <td>12.832816</td>\n",
       "    </tr>\n",
       "    <tr>\n",
       "      <th>2</th>\n",
       "      <td>Basilan</td>\n",
       "      <td>Autonomous Region in Muslim Mindanao (ARMM)</td>\n",
       "      <td>386697</td>\n",
       "      <td>395488</td>\n",
       "      <td>404492</td>\n",
       "      <td>413711</td>\n",
       "      <td>423165</td>\n",
       "      <td>432807</td>\n",
       "      <td>46110</td>\n",
       "      <td>11.924065</td>\n",
       "    </tr>\n",
       "    <tr>\n",
       "      <th>3</th>\n",
       "      <td>Davao Del Sur</td>\n",
       "      <td>Region XI (Davao Region)</td>\n",
       "      <td>2520852</td>\n",
       "      <td>2576356</td>\n",
       "      <td>2633054</td>\n",
       "      <td>2690969</td>\n",
       "      <td>2750249</td>\n",
       "      <td>2810574</td>\n",
       "      <td>289722</td>\n",
       "      <td>11.493019</td>\n",
       "    </tr>\n",
       "    <tr>\n",
       "      <th>4</th>\n",
       "      <td>Sulu</td>\n",
       "      <td>Autonomous Region in Muslim Mindanao (ARMM)</td>\n",
       "      <td>913590</td>\n",
       "      <td>932941</td>\n",
       "      <td>952738</td>\n",
       "      <td>972981</td>\n",
       "      <td>993722</td>\n",
       "      <td>1014855</td>\n",
       "      <td>101265</td>\n",
       "      <td>11.084294</td>\n",
       "    </tr>\n",
       "    <tr>\n",
       "      <th>5</th>\n",
       "      <td>Cavite</td>\n",
       "      <td>Region IV-A (CALABARZON)</td>\n",
       "      <td>4210866</td>\n",
       "      <td>4305595</td>\n",
       "      <td>4395803</td>\n",
       "      <td>4481490</td>\n",
       "      <td>4562863</td>\n",
       "      <td>4639488</td>\n",
       "      <td>428622</td>\n",
       "      <td>10.178951</td>\n",
       "    </tr>\n",
       "    <tr>\n",
       "      <th>6</th>\n",
       "      <td>Lanao Del Sur</td>\n",
       "      <td>Autonomous Region in Muslim Mindanao (ARMM)</td>\n",
       "      <td>1146287</td>\n",
       "      <td>1168123</td>\n",
       "      <td>1190440</td>\n",
       "      <td>1213248</td>\n",
       "      <td>1236601</td>\n",
       "      <td>1260369</td>\n",
       "      <td>114082</td>\n",
       "      <td>9.952307</td>\n",
       "    </tr>\n",
       "    <tr>\n",
       "      <th>7</th>\n",
       "      <td>Nueva Ecija</td>\n",
       "      <td>Region III (Central Luzon)</td>\n",
       "      <td>2355414</td>\n",
       "      <td>2399251</td>\n",
       "      <td>2443879</td>\n",
       "      <td>2489310</td>\n",
       "      <td>2535669</td>\n",
       "      <td>2582693</td>\n",
       "      <td>227279</td>\n",
       "      <td>9.649217</td>\n",
       "    </tr>\n",
       "    <tr>\n",
       "      <th>8</th>\n",
       "      <td>City Of Isabela (Not A Province)</td>\n",
       "      <td>Region IX (Zamboanga Peninsula)</td>\n",
       "      <td>127728</td>\n",
       "      <td>130380</td>\n",
       "      <td>132907</td>\n",
       "      <td>135305</td>\n",
       "      <td>137579</td>\n",
       "      <td>139720</td>\n",
       "      <td>11992</td>\n",
       "      <td>9.388701</td>\n",
       "    </tr>\n",
       "    <tr>\n",
       "      <th>9</th>\n",
       "      <td>Surigao Del Norte</td>\n",
       "      <td>Region XIII (Caraga)</td>\n",
       "      <td>528148</td>\n",
       "      <td>537395</td>\n",
       "      <td>546800</td>\n",
       "      <td>556375</td>\n",
       "      <td>566140</td>\n",
       "      <td>576038</td>\n",
       "      <td>47890</td>\n",
       "      <td>9.067534</td>\n",
       "    </tr>\n",
       "  </tbody>\n",
       "</table>\n",
       "</div>"
      ],
      "text/plain": [
       "                           Province  \\\n",
       "0                       Maguindanao   \n",
       "1                          Batangas   \n",
       "2                           Basilan   \n",
       "3                     Davao Del Sur   \n",
       "4                              Sulu   \n",
       "5                            Cavite   \n",
       "6                     Lanao Del Sur   \n",
       "7                       Nueva Ecija   \n",
       "8  City Of Isabela (Not A Province)   \n",
       "9                 Surigao Del Norte   \n",
       "\n",
       "                                        Region     2020     2021     2022  \\\n",
       "0  Autonomous Region in Muslim Mindanao (ARMM)  1323051  1355938  1389642   \n",
       "1                     Region IV-A (CALABARZON)  3033730  3107922  3183932   \n",
       "2  Autonomous Region in Muslim Mindanao (ARMM)   386697   395488   404492   \n",
       "3                     Region XI (Davao Region)  2520852  2576356  2633054   \n",
       "4  Autonomous Region in Muslim Mindanao (ARMM)   913590   932941   952738   \n",
       "5                     Region IV-A (CALABARZON)  4210866  4305595  4395803   \n",
       "6  Autonomous Region in Muslim Mindanao (ARMM)  1146287  1168123  1190440   \n",
       "7                   Region III (Central Luzon)  2355414  2399251  2443879   \n",
       "8              Region IX (Zamboanga Peninsula)   127728   130380   132907   \n",
       "9                         Region XIII (Caraga)   528148   537395   546800   \n",
       "\n",
       "      2023     2024     2025  Absolute Growth  Percentage Growth  \n",
       "0  1424161  1459585  1495725           172674          13.051198  \n",
       "1  3261749  3341600  3423043           389313          12.832816  \n",
       "2   413711   423165   432807            46110          11.924065  \n",
       "3  2690969  2750249  2810574           289722          11.493019  \n",
       "4   972981   993722  1014855           101265          11.084294  \n",
       "5  4481490  4562863  4639488           428622          10.178951  \n",
       "6  1213248  1236601  1260369           114082           9.952307  \n",
       "7  2489310  2535669  2582693           227279           9.649217  \n",
       "8   135305   137579   139720            11992           9.388701  \n",
       "9   556375   566140   576038            47890           9.067534  "
      ]
     },
     "execution_count": 20,
     "metadata": {},
     "output_type": "execute_result"
    }
   ],
   "source": [
    "province_growth = df.groupby(['Province', 'Region'])[years].sum().reset_index()\n",
    "\n",
    "province_growth['Absolute Growth'] = province_growth['2025'] - province_growth['2020']\n",
    "province_growth['Percentage Growth'] = ((province_growth['2025'] - province_growth['2020']) / province_growth['2020']) * 100\n",
    "\n",
    "ordered_cols = ['Province', 'Region'] + years + ['Absolute Growth', 'Percentage Growth']\n",
    "\n",
    "top_province_growth = province_growth[ordered_cols].sort_values(by='Percentage Growth', ascending=False).reset_index(drop=True)\n",
    "\n",
    "top_province_growth.head(10)"
   ]
  },
  {
   "cell_type": "markdown",
   "id": "ab72b205",
   "metadata": {
    "papermill": {
     "duration": 0.01381,
     "end_time": "2025-08-01T14:51:23.314366",
     "exception": false,
     "start_time": "2025-08-01T14:51:23.300556",
     "status": "completed"
    },
    "tags": []
   },
   "source": [
    "###  Are there provinces or regions with declining populations?"
   ]
  },
  {
   "cell_type": "code",
   "execution_count": 21,
   "id": "70d68d0d",
   "metadata": {
    "execution": {
     "iopub.execute_input": "2025-08-01T14:51:23.344467Z",
     "iopub.status.busy": "2025-08-01T14:51:23.344104Z",
     "iopub.status.idle": "2025-08-01T14:51:23.353923Z",
     "shell.execute_reply": "2025-08-01T14:51:23.353009Z"
    },
    "papermill": {
     "duration": 0.026614,
     "end_time": "2025-08-01T14:51:23.355474",
     "exception": false,
     "start_time": "2025-08-01T14:51:23.328860",
     "status": "completed"
    },
    "tags": []
   },
   "outputs": [
    {
     "data": {
      "text/html": [
       "<div>\n",
       "<style scoped>\n",
       "    .dataframe tbody tr th:only-of-type {\n",
       "        vertical-align: middle;\n",
       "    }\n",
       "\n",
       "    .dataframe tbody tr th {\n",
       "        vertical-align: top;\n",
       "    }\n",
       "\n",
       "    .dataframe thead th {\n",
       "        text-align: right;\n",
       "    }\n",
       "</style>\n",
       "<table border=\"1\" class=\"dataframe\">\n",
       "  <thead>\n",
       "    <tr style=\"text-align: right;\">\n",
       "      <th></th>\n",
       "      <th>Province</th>\n",
       "      <th>Region</th>\n",
       "      <th>2020</th>\n",
       "      <th>2021</th>\n",
       "      <th>2022</th>\n",
       "      <th>2023</th>\n",
       "      <th>2024</th>\n",
       "      <th>2025</th>\n",
       "      <th>Absolute Growth</th>\n",
       "      <th>Percentage Growth</th>\n",
       "    </tr>\n",
       "  </thead>\n",
       "  <tbody>\n",
       "  </tbody>\n",
       "</table>\n",
       "</div>"
      ],
      "text/plain": [
       "Empty DataFrame\n",
       "Columns: [Province, Region, 2020, 2021, 2022, 2023, 2024, 2025, Absolute Growth, Percentage Growth]\n",
       "Index: []"
      ]
     },
     "execution_count": 21,
     "metadata": {},
     "output_type": "execute_result"
    }
   ],
   "source": [
    "declining_provinces = top_province_growth[top_province_growth['Absolute Growth'] <= 0]\n",
    "declining_provinces"
   ]
  },
  {
   "cell_type": "code",
   "execution_count": 22,
   "id": "9f898dcb",
   "metadata": {
    "execution": {
     "iopub.execute_input": "2025-08-01T14:51:23.384587Z",
     "iopub.status.busy": "2025-08-01T14:51:23.384279Z",
     "iopub.status.idle": "2025-08-01T14:51:23.394097Z",
     "shell.execute_reply": "2025-08-01T14:51:23.393161Z"
    },
    "papermill": {
     "duration": 0.026099,
     "end_time": "2025-08-01T14:51:23.395499",
     "exception": false,
     "start_time": "2025-08-01T14:51:23.369400",
     "status": "completed"
    },
    "tags": []
   },
   "outputs": [
    {
     "data": {
      "text/html": [
       "<div>\n",
       "<style scoped>\n",
       "    .dataframe tbody tr th:only-of-type {\n",
       "        vertical-align: middle;\n",
       "    }\n",
       "\n",
       "    .dataframe tbody tr th {\n",
       "        vertical-align: top;\n",
       "    }\n",
       "\n",
       "    .dataframe thead th {\n",
       "        text-align: right;\n",
       "    }\n",
       "</style>\n",
       "<table border=\"1\" class=\"dataframe\">\n",
       "  <thead>\n",
       "    <tr style=\"text-align: right;\">\n",
       "      <th></th>\n",
       "      <th>Region</th>\n",
       "      <th>2020</th>\n",
       "      <th>2021</th>\n",
       "      <th>2022</th>\n",
       "      <th>2023</th>\n",
       "      <th>2024</th>\n",
       "      <th>2025</th>\n",
       "      <th>Absolute Growth</th>\n",
       "      <th>Percentage Growth</th>\n",
       "    </tr>\n",
       "  </thead>\n",
       "  <tbody>\n",
       "  </tbody>\n",
       "</table>\n",
       "</div>"
      ],
      "text/plain": [
       "Empty DataFrame\n",
       "Columns: [Region, 2020, 2021, 2022, 2023, 2024, 2025, Absolute Growth, Percentage Growth]\n",
       "Index: []"
      ]
     },
     "execution_count": 22,
     "metadata": {},
     "output_type": "execute_result"
    }
   ],
   "source": [
    "declining_regions = region_growth_df[region_growth_df['Absolute Growth'] <= 0]\n",
    "declining_regions"
   ]
  },
  {
   "cell_type": "markdown",
   "id": "3f46d463",
   "metadata": {
    "papermill": {
     "duration": 0.014556,
     "end_time": "2025-08-01T14:51:23.424062",
     "exception": false,
     "start_time": "2025-08-01T14:51:23.409506",
     "status": "completed"
    },
    "tags": []
   },
   "source": [
    "### What is the percentage growth of the population each year from 2021 to 2025?"
   ]
  },
  {
   "cell_type": "code",
   "execution_count": 23,
   "id": "f3e47f1d",
   "metadata": {
    "execution": {
     "iopub.execute_input": "2025-08-01T14:51:23.454795Z",
     "iopub.status.busy": "2025-08-01T14:51:23.454455Z",
     "iopub.status.idle": "2025-08-01T14:51:23.674107Z",
     "shell.execute_reply": "2025-08-01T14:51:23.673150Z"
    },
    "papermill": {
     "duration": 0.236709,
     "end_time": "2025-08-01T14:51:23.675630",
     "exception": false,
     "start_time": "2025-08-01T14:51:23.438921",
     "status": "completed"
    },
    "tags": []
   },
   "outputs": [
    {
     "data": {
      "image/png": "[encoded data removed]",
      "text/plain": [
       "<Figure size 1000x600 with 1 Axes>"
      ]
     },
     "metadata": {},
     "output_type": "display_data"
    }
   ],
   "source": [
    "national_totals = df[years].sum()\n",
    "\n",
    "percentage_growth = []\n",
    "\n",
    "for i in range(1, len(years)):\n",
    "    current = national_totals[years[i]]\n",
    "    previous = national_totals[years[i - 1]]\n",
    "    growth = ((current - previous) / previous) * 100\n",
    "    percentage_growth.append(growth)\n",
    "\n",
    "plt.figure(figsize=(10, 6))\n",
    "sns.lineplot(\n",
    "    x=years[1:],\n",
    "    y=percentage_growth,\n",
    "    marker='o',\n",
    "    linewidth=2.5,\n",
    "    color='#1f77b4'\n",
    ")\n",
    "\n",
    "plt.title(\"Year-over-Year National Population Growth (%)\", fontsize=16, weight=\"bold\", loc=\"center\")\n",
    "plt.xlabel(\"Year\")\n",
    "plt.ylabel(\"Percentage Growth\")\n",
    "plt.grid(True, linestyle='--', alpha=0.5)\n",
    "plt.tight_layout()\n",
    "plt.show()"
   ]
  },
  {
   "cell_type": "markdown",
   "id": "56157b0e",
   "metadata": {
    "papermill": {
     "duration": 0.014614,
     "end_time": "2025-08-01T14:51:23.706183",
     "exception": false,
     "start_time": "2025-08-01T14:51:23.691569",
     "status": "completed"
    },
    "tags": []
   },
   "source": [
    "### How much of the national population is concentrated in the top 5 regions?"
   ]
  },
  {
   "cell_type": "code",
   "execution_count": 24,
   "id": "02579150",
   "metadata": {
    "execution": {
     "iopub.execute_input": "2025-08-01T14:51:23.736936Z",
     "iopub.status.busy": "2025-08-01T14:51:23.736603Z",
     "iopub.status.idle": "2025-08-01T14:51:23.748890Z",
     "shell.execute_reply": "2025-08-01T14:51:23.748157Z"
    },
    "papermill": {
     "duration": 0.029407,
     "end_time": "2025-08-01T14:51:23.750263",
     "exception": false,
     "start_time": "2025-08-01T14:51:23.720856",
     "status": "completed"
    },
    "tags": []
   },
   "outputs": [
    {
     "data": {
      "text/html": [
       "<div>\n",
       "<style scoped>\n",
       "    .dataframe tbody tr th:only-of-type {\n",
       "        vertical-align: middle;\n",
       "    }\n",
       "\n",
       "    .dataframe tbody tr th {\n",
       "        vertical-align: top;\n",
       "    }\n",
       "\n",
       "    .dataframe thead th {\n",
       "        text-align: right;\n",
       "    }\n",
       "</style>\n",
       "<table border=\"1\" class=\"dataframe\">\n",
       "  <thead>\n",
       "    <tr style=\"text-align: right;\">\n",
       "      <th></th>\n",
       "      <th>Region</th>\n",
       "      <th>2025</th>\n",
       "      <th>Share (%)</th>\n",
       "    </tr>\n",
       "  </thead>\n",
       "  <tbody>\n",
       "    <tr>\n",
       "      <th>1</th>\n",
       "      <td>Region IV-A (CALABARZON)</td>\n",
       "      <td>17477567</td>\n",
       "      <td>15.148094</td>\n",
       "    </tr>\n",
       "    <tr>\n",
       "      <th>8</th>\n",
       "      <td>National Capital Region (NCR)</td>\n",
       "      <td>14521657</td>\n",
       "      <td>12.586159</td>\n",
       "    </tr>\n",
       "    <tr>\n",
       "      <th>3</th>\n",
       "      <td>Region III (Central Luzon)</td>\n",
       "      <td>13239668</td>\n",
       "      <td>11.475038</td>\n",
       "    </tr>\n",
       "    <tr>\n",
       "      <th>6</th>\n",
       "      <td>Region VII (Central Visayas)</td>\n",
       "      <td>8391706</td>\n",
       "      <td>7.273229</td>\n",
       "    </tr>\n",
       "    <tr>\n",
       "      <th>13</th>\n",
       "      <td>Region VI (Western Visayas)</td>\n",
       "      <td>8201700</td>\n",
       "      <td>7.108548</td>\n",
       "    </tr>\n",
       "  </tbody>\n",
       "</table>\n",
       "</div>"
      ],
      "text/plain": [
       "                           Region      2025  Share (%)\n",
       "1        Region IV-A (CALABARZON)  17477567  15.148094\n",
       "8   National Capital Region (NCR)  14521657  12.586159\n",
       "3      Region III (Central Luzon)  13239668  11.475038\n",
       "6    Region VII (Central Visayas)   8391706   7.273229\n",
       "13    Region VI (Western Visayas)   8201700   7.108548"
      ]
     },
     "execution_count": 24,
     "metadata": {},
     "output_type": "execute_result"
    }
   ],
   "source": [
    "top_regions_2025 = region_growth_df.sort_values(by='2025', ascending=False).head(5)\n",
    "\n",
    "national_2025 = region_growth_df['2025'].sum()\n",
    "\n",
    "top_regions_2025['Share (%)'] = (top_regions_2025['2025'] / national_2025) * 100\n",
    "\n",
    "top_regions_2025[['Region', '2025', 'Share (%)']]"
   ]
  },
  {
   "cell_type": "markdown",
   "id": "b0899712",
   "metadata": {
    "papermill": {
     "duration": 0.015176,
     "end_time": "2025-08-01T14:51:23.780333",
     "exception": false,
     "start_time": "2025-08-01T14:51:23.765157",
     "status": "completed"
    },
    "tags": []
   },
   "source": [
    "## Machine Learning"
   ]
  },
  {
   "cell_type": "markdown",
   "id": "5b41f049",
   "metadata": {
    "papermill": {
     "duration": 0.014779,
     "end_time": "2025-08-01T14:51:23.810064",
     "exception": false,
     "start_time": "2025-08-01T14:51:23.795285",
     "status": "completed"
    },
    "tags": []
   },
   "source": [
    "### Facebook Prophet"
   ]
  },
  {
   "cell_type": "code",
   "execution_count": 25,
   "id": "e9f83e59",
   "metadata": {
    "execution": {
     "iopub.execute_input": "2025-08-01T14:51:23.842490Z",
     "iopub.status.busy": "2025-08-01T14:51:23.842152Z",
     "iopub.status.idle": "2025-08-01T14:51:24.445859Z",
     "shell.execute_reply": "2025-08-01T14:51:24.444975Z"
    },
    "papermill": {
     "duration": 0.62209,
     "end_time": "2025-08-01T14:51:24.447547",
     "exception": false,
     "start_time": "2025-08-01T14:51:23.825457",
     "status": "completed"
    },
    "tags": []
   },
   "outputs": [],
   "source": [
    "from prophet import Prophet\n",
    "from sklearn.metrics import mean_absolute_error, mean_squared_error\n",
    "import numpy as np"
   ]
  },
  {
   "cell_type": "code",
   "execution_count": 26,
   "id": "6f2fa400",
   "metadata": {
    "execution": {
     "iopub.execute_input": "2025-08-01T14:51:24.480315Z",
     "iopub.status.busy": "2025-08-01T14:51:24.479987Z",
     "iopub.status.idle": "2025-08-01T14:51:24.496975Z",
     "shell.execute_reply": "2025-08-01T14:51:24.496153Z"
    },
    "papermill": {
     "duration": 0.035378,
     "end_time": "2025-08-01T14:51:24.498625",
     "exception": false,
     "start_time": "2025-08-01T14:51:24.463247",
     "status": "completed"
    },
    "tags": []
   },
   "outputs": [],
   "source": [
    "df_prophet = df.melt(\n",
    "    id_vars=['Region'], \n",
    "    value_vars=years, \n",
    "    var_name='Year', \n",
    "    value_name='Population'\n",
    ")\n",
    "\n",
    "df_prophet = df_prophet.groupby('Year', as_index=False)['Population'].sum()\n",
    "\n",
    "df_prophet['ds'] = pd.to_datetime(df_prophet['Year'] + '-01-01')\n",
    "df_prophet['y'] = df_prophet['Population']\n",
    "df_prophet = df_prophet[['ds', 'y']]"
   ]
  },
  {
   "cell_type": "code",
   "execution_count": 27,
   "id": "c73196e7",
   "metadata": {
    "execution": {
     "iopub.execute_input": "2025-08-01T14:51:24.530761Z",
     "iopub.status.busy": "2025-08-01T14:51:24.530420Z",
     "iopub.status.idle": "2025-08-01T14:51:24.537637Z",
     "shell.execute_reply": "2025-08-01T14:51:24.536621Z"
    },
    "papermill": {
     "duration": 0.025518,
     "end_time": "2025-08-01T14:51:24.539379",
     "exception": false,
     "start_time": "2025-08-01T14:51:24.513861",
     "status": "completed"
    },
    "tags": []
   },
   "outputs": [
    {
     "data": {
      "text/plain": [
       "ds    datetime64[ns]\n",
       "y              int64\n",
       "dtype: object"
      ]
     },
     "execution_count": 27,
     "metadata": {},
     "output_type": "execute_result"
    }
   ],
   "source": [
    "df_prophet.dtypes"
   ]
  },
  {
   "cell_type": "code",
   "execution_count": 28,
   "id": "f3719f96",
   "metadata": {
    "execution": {
     "iopub.execute_input": "2025-08-01T14:51:24.572451Z",
     "iopub.status.busy": "2025-08-01T14:51:24.572065Z",
     "iopub.status.idle": "2025-08-01T14:51:24.580305Z",
     "shell.execute_reply": "2025-08-01T14:51:24.579483Z"
    },
    "papermill": {
     "duration": 0.026991,
     "end_time": "2025-08-01T14:51:24.582224",
     "exception": false,
     "start_time": "2025-08-01T14:51:24.555233",
     "status": "completed"
    },
    "tags": []
   },
   "outputs": [
    {
     "data": {
      "text/html": [
       "<div>\n",
       "<style scoped>\n",
       "    .dataframe tbody tr th:only-of-type {\n",
       "        vertical-align: middle;\n",
       "    }\n",
       "\n",
       "    .dataframe tbody tr th {\n",
       "        vertical-align: top;\n",
       "    }\n",
       "\n",
       "    .dataframe thead th {\n",
       "        text-align: right;\n",
       "    }\n",
       "</style>\n",
       "<table border=\"1\" class=\"dataframe\">\n",
       "  <thead>\n",
       "    <tr style=\"text-align: right;\">\n",
       "      <th></th>\n",
       "      <th>ds</th>\n",
       "      <th>y</th>\n",
       "    </tr>\n",
       "  </thead>\n",
       "  <tbody>\n",
       "    <tr>\n",
       "      <th>0</th>\n",
       "      <td>2020-01-01</td>\n",
       "      <td>108771961</td>\n",
       "    </tr>\n",
       "    <tr>\n",
       "      <th>1</th>\n",
       "      <td>2021-01-01</td>\n",
       "      <td>110198630</td>\n",
       "    </tr>\n",
       "    <tr>\n",
       "      <th>2</th>\n",
       "      <td>2022-01-01</td>\n",
       "      <td>111572245</td>\n",
       "    </tr>\n",
       "    <tr>\n",
       "      <th>3</th>\n",
       "      <td>2023-01-01</td>\n",
       "      <td>112892768</td>\n",
       "    </tr>\n",
       "    <tr>\n",
       "      <th>4</th>\n",
       "      <td>2024-01-01</td>\n",
       "      <td>114163715</td>\n",
       "    </tr>\n",
       "    <tr>\n",
       "      <th>5</th>\n",
       "      <td>2025-01-01</td>\n",
       "      <td>115377991</td>\n",
       "    </tr>\n",
       "  </tbody>\n",
       "</table>\n",
       "</div>"
      ],
      "text/plain": [
       "          ds          y\n",
       "0 2020-01-01  108771961\n",
       "1 2021-01-01  110198630\n",
       "2 2022-01-01  111572245\n",
       "3 2023-01-01  112892768\n",
       "4 2024-01-01  114163715\n",
       "5 2025-01-01  115377991"
      ]
     },
     "execution_count": 28,
     "metadata": {},
     "output_type": "execute_result"
    }
   ],
   "source": [
    "df_prophet"
   ]
  },
  {
   "cell_type": "markdown",
   "id": "d6c352ed",
   "metadata": {
    "papermill": {
     "duration": 0.015505,
     "end_time": "2025-08-01T14:51:24.613591",
     "exception": false,
     "start_time": "2025-08-01T14:51:24.598086",
     "status": "completed"
    },
    "tags": []
   },
   "source": [
    "### Train-Test Split"
   ]
  },
  {
   "cell_type": "code",
   "execution_count": 29,
   "id": "847422f9",
   "metadata": {
    "execution": {
     "iopub.execute_input": "2025-08-01T14:51:24.648438Z",
     "iopub.status.busy": "2025-08-01T14:51:24.648069Z",
     "iopub.status.idle": "2025-08-01T14:51:24.658052Z",
     "shell.execute_reply": "2025-08-01T14:51:24.656990Z"
    },
    "papermill": {
     "duration": 0.030271,
     "end_time": "2025-08-01T14:51:24.659686",
     "exception": false,
     "start_time": "2025-08-01T14:51:24.629415",
     "status": "completed"
    },
    "tags": []
   },
   "outputs": [],
   "source": [
    "train_df = df_prophet[df_prophet['ds'] < '2024-01-01']\n",
    "test_df = df_prophet[df_prophet['ds'] >= '2024-01-01']"
   ]
  },
  {
   "cell_type": "code",
   "execution_count": 30,
   "id": "adf6c560",
   "metadata": {
    "execution": {
     "iopub.execute_input": "2025-08-01T14:51:24.693068Z",
     "iopub.status.busy": "2025-08-01T14:51:24.692705Z",
     "iopub.status.idle": "2025-08-01T14:51:24.702314Z",
     "shell.execute_reply": "2025-08-01T14:51:24.701346Z"
    },
    "papermill": {
     "duration": 0.028778,
     "end_time": "2025-08-01T14:51:24.704022",
     "exception": false,
     "start_time": "2025-08-01T14:51:24.675244",
     "status": "completed"
    },
    "tags": []
   },
   "outputs": [
    {
     "data": {
      "text/html": [
       "<div>\n",
       "<style scoped>\n",
       "    .dataframe tbody tr th:only-of-type {\n",
       "        vertical-align: middle;\n",
       "    }\n",
       "\n",
       "    .dataframe tbody tr th {\n",
       "        vertical-align: top;\n",
       "    }\n",
       "\n",
       "    .dataframe thead th {\n",
       "        text-align: right;\n",
       "    }\n",
       "</style>\n",
       "<table border=\"1\" class=\"dataframe\">\n",
       "  <thead>\n",
       "    <tr style=\"text-align: right;\">\n",
       "      <th></th>\n",
       "      <th>ds</th>\n",
       "      <th>y</th>\n",
       "    </tr>\n",
       "  </thead>\n",
       "  <tbody>\n",
       "    <tr>\n",
       "      <th>4</th>\n",
       "      <td>2024-01-01</td>\n",
       "      <td>114163715</td>\n",
       "    </tr>\n",
       "    <tr>\n",
       "      <th>5</th>\n",
       "      <td>2025-01-01</td>\n",
       "      <td>115377991</td>\n",
       "    </tr>\n",
       "  </tbody>\n",
       "</table>\n",
       "</div>"
      ],
      "text/plain": [
       "          ds          y\n",
       "4 2024-01-01  114163715\n",
       "5 2025-01-01  115377991"
      ]
     },
     "execution_count": 30,
     "metadata": {},
     "output_type": "execute_result"
    }
   ],
   "source": [
    "test_df"
   ]
  },
  {
   "cell_type": "markdown",
   "id": "6811bf86",
   "metadata": {
    "papermill": {
     "duration": 0.015149,
     "end_time": "2025-08-01T14:51:24.735361",
     "exception": false,
     "start_time": "2025-08-01T14:51:24.720212",
     "status": "completed"
    },
    "tags": []
   },
   "source": [
    "### Train Model"
   ]
  },
  {
   "cell_type": "code",
   "execution_count": 31,
   "id": "faaf4a22",
   "metadata": {
    "execution": {
     "iopub.execute_input": "2025-08-01T14:51:24.767374Z",
     "iopub.status.busy": "2025-08-01T14:51:24.767036Z",
     "iopub.status.idle": "2025-08-01T14:51:27.175205Z",
     "shell.execute_reply": "2025-08-01T14:51:27.174186Z"
    },
    "papermill": {
     "duration": 2.425989,
     "end_time": "2025-08-01T14:51:27.176763",
     "exception": false,
     "start_time": "2025-08-01T14:51:24.750774",
     "status": "completed"
    },
    "tags": []
   },
   "outputs": [
    {
     "name": "stderr",
     "output_type": "stream",
     "text": [
      "14:51:24 - cmdstanpy - INFO - Chain [1] start processing\n",
      "14:51:27 - cmdstanpy - INFO - Chain [1] done processing\n"
     ]
    },
    {
     "data": {
      "text/plain": [
       "<prophet.forecaster.Prophet at 0x7e7319bf1950>"
      ]
     },
     "execution_count": 31,
     "metadata": {},
     "output_type": "execute_result"
    }
   ],
   "source": [
    "model = Prophet(yearly_seasonality=True, weekly_seasonality=False, daily_seasonality=False)\n",
    "model.fit(train_df)"
   ]
  },
  {
   "cell_type": "markdown",
   "id": "be5bcabb",
   "metadata": {
    "papermill": {
     "duration": 0.015659,
     "end_time": "2025-08-01T14:51:27.208441",
     "exception": false,
     "start_time": "2025-08-01T14:51:27.192782",
     "status": "completed"
    },
    "tags": []
   },
   "source": [
    "### Evaluation"
   ]
  },
  {
   "cell_type": "code",
   "execution_count": 32,
   "id": "2f6a2e82",
   "metadata": {
    "execution": {
     "iopub.execute_input": "2025-08-01T14:51:27.240952Z",
     "iopub.status.busy": "2025-08-01T14:51:27.240606Z",
     "iopub.status.idle": "2025-08-01T14:51:27.302522Z",
     "shell.execute_reply": "2025-08-01T14:51:27.301549Z"
    },
    "papermill": {
     "duration": 0.080657,
     "end_time": "2025-08-01T14:51:27.304281",
     "exception": false,
     "start_time": "2025-08-01T14:51:27.223624",
     "status": "completed"
    },
    "tags": []
   },
   "outputs": [
    {
     "name": "stdout",
     "output_type": "stream",
     "text": [
      "Evaluation Results:\n",
      "MAE:  595,203.05\n",
      "RMSE: 595,203.05\n",
      "MAPE: 0.52%\n"
     ]
    }
   ],
   "source": [
    "future = model.make_future_dataframe(periods=len(test_df), freq='Y')\n",
    "forecast = model.predict(future)\n",
    "\n",
    "forecast['ds'] = forecast['ds'].dt.to_period('Y').dt.start_time\n",
    "forecast_eval = forecast[['ds', 'yhat']].merge(test_df, on='ds', how='inner')\n",
    "\n",
    "mae = mean_absolute_error(forecast_eval['y'], forecast_eval['yhat'])\n",
    "rmse = np.sqrt(mean_squared_error(forecast_eval['y'], forecast_eval['yhat']))\n",
    "mape = (np.abs((forecast_eval['y'] - forecast_eval['yhat']) / forecast_eval['y']).mean()) * 100\n",
    "\n",
    "print(\"Evaluation Results:\")\n",
    "print(f\"MAE:  {mae:,.2f}\")\n",
    "print(f\"RMSE: {rmse:,.2f}\")\n",
    "print(f\"MAPE: {mape:.2f}%\")"
   ]
  },
  {
   "cell_type": "markdown",
   "id": "61cbf008",
   "metadata": {
    "papermill": {
     "duration": 0.015407,
     "end_time": "2025-08-01T14:51:27.335556",
     "exception": false,
     "start_time": "2025-08-01T14:51:27.320149",
     "status": "completed"
    },
    "tags": []
   },
   "source": [
    "### Forecasting"
   ]
  },
  {
   "cell_type": "code",
   "execution_count": 33,
   "id": "09b21930",
   "metadata": {
    "execution": {
     "iopub.execute_input": "2025-08-01T14:51:27.368345Z",
     "iopub.status.busy": "2025-08-01T14:51:27.367937Z",
     "iopub.status.idle": "2025-08-01T14:51:27.425417Z",
     "shell.execute_reply": "2025-08-01T14:51:27.424102Z"
    },
    "papermill": {
     "duration": 0.075906,
     "end_time": "2025-08-01T14:51:27.427216",
     "exception": false,
     "start_time": "2025-08-01T14:51:27.351310",
     "status": "completed"
    },
    "tags": []
   },
   "outputs": [
    {
     "name": "stdout",
     "output_type": "stream",
     "text": [
      "           ds       yhat\n",
      "7  2026-12-31  115574038\n",
      "8  2027-12-31  115581645\n",
      "9  2028-12-31  120343739\n",
      "10 2029-12-31  120884006\n",
      "11 2030-12-31  121158859\n"
     ]
    }
   ],
   "source": [
    "future = model.make_future_dataframe(periods=8, freq='Y')\n",
    "forecast = model.predict(future)\n",
    "\n",
    "# Filter only 2026 to 2030\n",
    "forecast_2026_2030 = forecast[(forecast['ds'].dt.year >= 2026) & (forecast['ds'].dt.year <= 2030)][['ds', 'yhat']]\n",
    "\n",
    "# Round values to integers\n",
    "forecast_2026_2030['yhat'] = forecast_2026_2030['yhat'].round().astype(int)\n",
    "\n",
    "# Print forecasted values\n",
    "print(forecast_2026_2030)"
   ]
  },
  {
   "cell_type": "code",
   "execution_count": null,
   "id": "acc3d0a4",
   "metadata": {
    "papermill": {
     "duration": 0.015523,
     "end_time": "2025-08-01T14:51:27.458431",
     "exception": false,
     "start_time": "2025-08-01T14:51:27.442908",
     "status": "completed"
    },
    "tags": []
   },
   "outputs": [],
   "source": []
  }
 ],
 "metadata": {
  "kaggle": {
   "accelerator": "none",
   "dataSources": [
    {
     "datasetId": 6744489,
     "sourceId": 10857857,
     "sourceType": "datasetVersion"
    }
   ],
   "dockerImageVersionId": 31089,
   "isGpuEnabled": false,
   "isInternetEnabled": true,
   "language": "python",
   "sourceType": "notebook"
  },
  "kernelspec": {
   "display_name": "Python 3",
   "language": "python",
   "name": "python3"
  },
  "language_info": {
   "codemirror_mode": {
    "name": "ipython",
    "version": 3
   },
   "file_extension": ".py",
   "mimetype": "text/x-python",
   "name": "python",
   "nbconvert_exporter": "python",
   "pygments_lexer": "ipython3",
   "version": "3.11.13"
  },
  "papermill": {
   "default_parameters": {},
   "duration": 18.27997,
   "end_time": "2025-08-01T14:51:28.296382",
   "environment_variables": {},
   "exception": null,
   "input_path": "__notebook__.ipynb",
   "output_path": "__notebook__.ipynb",
   "parameters": {},
   "start_time": "2025-08-01T14:51:10.016412",
   "version": "2.6.0"
  }
 },
 "nbformat": 4,
 "nbformat_minor": 5
}
