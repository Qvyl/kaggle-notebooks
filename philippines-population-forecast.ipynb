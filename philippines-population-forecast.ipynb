{
 "cells": [
  {
   "cell_type": "markdown",
   "id": "05d3bdf3",
   "metadata": {
    "_cell_guid": "b1076dfc-b9ad-4769-8c92-a6c4dae69d19",
    "_uuid": "8f2839f25d086af736a60e9eeb907d3b93b6e0e5",
    "execution": {
     "iopub.execute_input": "2025-07-29T07:20:20.409350Z",
     "iopub.status.busy": "2025-07-29T07:20:20.409097Z",
     "iopub.status.idle": "2025-07-29T07:20:22.677699Z",
     "shell.execute_reply": "2025-07-29T07:20:22.676844Z",
     "shell.execute_reply.started": "2025-07-29T07:20:20.409322Z"
    },
    "papermill": {
     "duration": 0.007784,
     "end_time": "2025-07-30T02:20:19.103538",
     "exception": false,
     "start_time": "2025-07-30T02:20:19.095754",
     "status": "completed"
    },
    "tags": []
   },
   "source": [
    "### Libraries"
   ]
  },
  {
   "cell_type": "code",
   "execution_count": 1,
   "id": "e74b0232",
   "metadata": {
    "execution": {
     "iopub.execute_input": "2025-07-30T02:20:19.122115Z",
     "iopub.status.busy": "2025-07-30T02:20:19.121333Z",
     "iopub.status.idle": "2025-07-30T02:20:24.937748Z",
     "shell.execute_reply": "2025-07-30T02:20:24.936569Z"
    },
    "papermill": {
     "duration": 5.826677,
     "end_time": "2025-07-30T02:20:24.939711",
     "exception": false,
     "start_time": "2025-07-30T02:20:19.113034",
     "status": "completed"
    },
    "tags": []
   },
   "outputs": [],
   "source": [
    "import pandas as pd\n",
    "import seaborn as sns\n",
    "import matplotlib.pyplot as plt\n",
    "import plotly.express as px\n",
    "\n",
    "import warnings\n",
    "warnings.filterwarnings('ignore')"
   ]
  },
  {
   "cell_type": "code",
   "execution_count": 2,
   "id": "f7c52c45",
   "metadata": {
    "execution": {
     "iopub.execute_input": "2025-07-30T02:20:24.952424Z",
     "iopub.status.busy": "2025-07-30T02:20:24.951963Z",
     "iopub.status.idle": "2025-07-30T02:20:25.952744Z",
     "shell.execute_reply": "2025-07-30T02:20:25.951394Z"
    },
    "papermill": {
     "duration": 1.009204,
     "end_time": "2025-07-30T02:20:25.954632",
     "exception": false,
     "start_time": "2025-07-30T02:20:24.945428",
     "status": "completed"
    },
    "tags": []
   },
   "outputs": [
    {
     "data": {
      "text/html": [
       "<div>\n",
       "<style scoped>\n",
       "    .dataframe tbody tr th:only-of-type {\n",
       "        vertical-align: middle;\n",
       "    }\n",
       "\n",
       "    .dataframe tbody tr th {\n",
       "        vertical-align: top;\n",
       "    }\n",
       "\n",
       "    .dataframe thead th {\n",
       "        text-align: right;\n",
       "    }\n",
       "</style>\n",
       "<table border=\"1\" class=\"dataframe\">\n",
       "  <thead>\n",
       "    <tr style=\"text-align: right;\">\n",
       "      <th></th>\n",
       "      <th>Region</th>\n",
       "      <th>Region_pcode</th>\n",
       "      <th>Province</th>\n",
       "      <th>Province_pcode</th>\n",
       "      <th>Municipality_City</th>\n",
       "      <th>Mun_Pcode</th>\n",
       "      <th>July2020</th>\n",
       "      <th>July2021</th>\n",
       "      <th>July2022</th>\n",
       "      <th>July2023</th>\n",
       "      <th>July2024</th>\n",
       "      <th>July2025</th>\n",
       "    </tr>\n",
       "  </thead>\n",
       "  <tbody>\n",
       "    <tr>\n",
       "      <th>0</th>\n",
       "      <td>Region I (Ilocos Region)</td>\n",
       "      <td>PH010000000</td>\n",
       "      <td>Ilocos Norte</td>\n",
       "      <td>PH012800000</td>\n",
       "      <td>Adams</td>\n",
       "      <td>PH012801000</td>\n",
       "      <td>1823</td>\n",
       "      <td>1827</td>\n",
       "      <td>1830</td>\n",
       "      <td>1833</td>\n",
       "      <td>1834</td>\n",
       "      <td>1835</td>\n",
       "    </tr>\n",
       "    <tr>\n",
       "      <th>1</th>\n",
       "      <td>Region I (Ilocos Region)</td>\n",
       "      <td>PH010000000</td>\n",
       "      <td>Ilocos Norte</td>\n",
       "      <td>PH012800000</td>\n",
       "      <td>Bacarra</td>\n",
       "      <td>PH012802000</td>\n",
       "      <td>32778</td>\n",
       "      <td>32850</td>\n",
       "      <td>32908</td>\n",
       "      <td>32951</td>\n",
       "      <td>32979</td>\n",
       "      <td>32994</td>\n",
       "    </tr>\n",
       "    <tr>\n",
       "      <th>2</th>\n",
       "      <td>Region I (Ilocos Region)</td>\n",
       "      <td>PH010000000</td>\n",
       "      <td>Ilocos Norte</td>\n",
       "      <td>PH012800000</td>\n",
       "      <td>Badoc</td>\n",
       "      <td>PH012803000</td>\n",
       "      <td>32218</td>\n",
       "      <td>32299</td>\n",
       "      <td>32365</td>\n",
       "      <td>32418</td>\n",
       "      <td>32456</td>\n",
       "      <td>32480</td>\n",
       "    </tr>\n",
       "    <tr>\n",
       "      <th>3</th>\n",
       "      <td>Region I (Ilocos Region)</td>\n",
       "      <td>PH010000000</td>\n",
       "      <td>Ilocos Norte</td>\n",
       "      <td>PH012800000</td>\n",
       "      <td>Bangui</td>\n",
       "      <td>PH012804000</td>\n",
       "      <td>14954</td>\n",
       "      <td>14993</td>\n",
       "      <td>15024</td>\n",
       "      <td>15049</td>\n",
       "      <td>15067</td>\n",
       "      <td>15079</td>\n",
       "    </tr>\n",
       "    <tr>\n",
       "      <th>4</th>\n",
       "      <td>Region I (Ilocos Region)</td>\n",
       "      <td>PH010000000</td>\n",
       "      <td>Ilocos Norte</td>\n",
       "      <td>PH012800000</td>\n",
       "      <td>City of Batac</td>\n",
       "      <td>PH012805000</td>\n",
       "      <td>56248</td>\n",
       "      <td>56389</td>\n",
       "      <td>56504</td>\n",
       "      <td>56595</td>\n",
       "      <td>56661</td>\n",
       "      <td>56702</td>\n",
       "    </tr>\n",
       "  </tbody>\n",
       "</table>\n",
       "</div>"
      ],
      "text/plain": [
       "                     Region Region_pcode      Province Province_pcode  \\\n",
       "0  Region I (Ilocos Region)  PH010000000  Ilocos Norte    PH012800000   \n",
       "1  Region I (Ilocos Region)  PH010000000  Ilocos Norte    PH012800000   \n",
       "2  Region I (Ilocos Region)  PH010000000  Ilocos Norte    PH012800000   \n",
       "3  Region I (Ilocos Region)  PH010000000  Ilocos Norte    PH012800000   \n",
       "4  Region I (Ilocos Region)  PH010000000  Ilocos Norte    PH012800000   \n",
       "\n",
       "  Municipality_City    Mun_Pcode  July2020  July2021  July2022  July2023  \\\n",
       "0             Adams  PH012801000      1823      1827      1830      1833   \n",
       "1           Bacarra  PH012802000     32778     32850     32908     32951   \n",
       "2             Badoc  PH012803000     32218     32299     32365     32418   \n",
       "3            Bangui  PH012804000     14954     14993     15024     15049   \n",
       "4     City of Batac  PH012805000     56248     56389     56504     56595   \n",
       "\n",
       "   July2024  July2025  \n",
       "0      1834      1835  \n",
       "1     32979     32994  \n",
       "2     32456     32480  \n",
       "3     15067     15079  \n",
       "4     56661     56702  "
      ]
     },
     "execution_count": 2,
     "metadata": {},
     "output_type": "execute_result"
    }
   ],
   "source": [
    "path = '/kaggle/input/philippines-population-projection-2020-to-2025/phl_population-projections_admin3_midyear2020_2025.xlsx'\n",
    "df = pd.read_excel(path)\n",
    "df.head()\n"
   ]
  },
  {
   "cell_type": "code",
   "execution_count": 3,
   "id": "894e3467",
   "metadata": {
    "execution": {
     "iopub.execute_input": "2025-07-30T02:20:25.968317Z",
     "iopub.status.busy": "2025-07-30T02:20:25.967276Z",
     "iopub.status.idle": "2025-07-30T02:20:25.992550Z",
     "shell.execute_reply": "2025-07-30T02:20:25.991366Z"
    },
    "papermill": {
     "duration": 0.033643,
     "end_time": "2025-07-30T02:20:25.994202",
     "exception": false,
     "start_time": "2025-07-30T02:20:25.960559",
     "status": "completed"
    },
    "tags": []
   },
   "outputs": [
    {
     "name": "stdout",
     "output_type": "stream",
     "text": [
      "<class 'pandas.core.frame.DataFrame'>\n",
      "RangeIndex: 1634 entries, 0 to 1633\n",
      "Data columns (total 12 columns):\n",
      " #   Column             Non-Null Count  Dtype \n",
      "---  ------             --------------  ----- \n",
      " 0   Region             1634 non-null   object\n",
      " 1   Region_pcode       1634 non-null   object\n",
      " 2   Province           1634 non-null   object\n",
      " 3   Province_pcode     1634 non-null   object\n",
      " 4   Municipality_City  1634 non-null   object\n",
      " 5   Mun_Pcode          1634 non-null   object\n",
      " 6   July2020           1634 non-null   int64 \n",
      " 7   July2021           1634 non-null   int64 \n",
      " 8   July2022           1634 non-null   int64 \n",
      " 9   July2023           1634 non-null   int64 \n",
      " 10  July2024           1634 non-null   int64 \n",
      " 11  July2025           1634 non-null   int64 \n",
      "dtypes: int64(6), object(6)\n",
      "memory usage: 153.3+ KB\n"
     ]
    }
   ],
   "source": [
    "df.info()"
   ]
  },
  {
   "cell_type": "code",
   "execution_count": 4,
   "id": "60b41095",
   "metadata": {
    "execution": {
     "iopub.execute_input": "2025-07-30T02:20:26.007820Z",
     "iopub.status.busy": "2025-07-30T02:20:26.007477Z",
     "iopub.status.idle": "2025-07-30T02:20:26.014490Z",
     "shell.execute_reply": "2025-07-30T02:20:26.013412Z"
    },
    "papermill": {
     "duration": 0.015641,
     "end_time": "2025-07-30T02:20:26.016109",
     "exception": false,
     "start_time": "2025-07-30T02:20:26.000468",
     "status": "completed"
    },
    "tags": []
   },
   "outputs": [
    {
     "data": {
      "text/plain": [
       "(1634, 12)"
      ]
     },
     "execution_count": 4,
     "metadata": {},
     "output_type": "execute_result"
    }
   ],
   "source": [
    "df.shape"
   ]
  },
  {
   "cell_type": "code",
   "execution_count": 5,
   "id": "bdc2c560",
   "metadata": {
    "execution": {
     "iopub.execute_input": "2025-07-30T02:20:26.029199Z",
     "iopub.status.busy": "2025-07-30T02:20:26.028883Z",
     "iopub.status.idle": "2025-07-30T02:20:26.059476Z",
     "shell.execute_reply": "2025-07-30T02:20:26.058377Z"
    },
    "papermill": {
     "duration": 0.039116,
     "end_time": "2025-07-30T02:20:26.061254",
     "exception": false,
     "start_time": "2025-07-30T02:20:26.022138",
     "status": "completed"
    },
    "tags": []
   },
   "outputs": [
    {
     "data": {
      "text/html": [
       "<div>\n",
       "<style scoped>\n",
       "    .dataframe tbody tr th:only-of-type {\n",
       "        vertical-align: middle;\n",
       "    }\n",
       "\n",
       "    .dataframe tbody tr th {\n",
       "        vertical-align: top;\n",
       "    }\n",
       "\n",
       "    .dataframe thead th {\n",
       "        text-align: right;\n",
       "    }\n",
       "</style>\n",
       "<table border=\"1\" class=\"dataframe\">\n",
       "  <thead>\n",
       "    <tr style=\"text-align: right;\">\n",
       "      <th></th>\n",
       "      <th>July2020</th>\n",
       "      <th>July2021</th>\n",
       "      <th>July2022</th>\n",
       "      <th>July2023</th>\n",
       "      <th>July2024</th>\n",
       "      <th>July2025</th>\n",
       "    </tr>\n",
       "  </thead>\n",
       "  <tbody>\n",
       "    <tr>\n",
       "      <th>count</th>\n",
       "      <td>1.634000e+03</td>\n",
       "      <td>1.634000e+03</td>\n",
       "      <td>1.634000e+03</td>\n",
       "      <td>1.634000e+03</td>\n",
       "      <td>1.634000e+03</td>\n",
       "      <td>1.634000e+03</td>\n",
       "    </tr>\n",
       "    <tr>\n",
       "      <th>mean</th>\n",
       "      <td>6.656791e+04</td>\n",
       "      <td>6.744102e+04</td>\n",
       "      <td>6.828167e+04</td>\n",
       "      <td>6.908982e+04</td>\n",
       "      <td>6.986763e+04</td>\n",
       "      <td>7.061077e+04</td>\n",
       "    </tr>\n",
       "    <tr>\n",
       "      <th>std</th>\n",
       "      <td>1.401156e+05</td>\n",
       "      <td>1.419562e+05</td>\n",
       "      <td>1.437248e+05</td>\n",
       "      <td>1.454233e+05</td>\n",
       "      <td>1.470567e+05</td>\n",
       "      <td>1.486184e+05</td>\n",
       "    </tr>\n",
       "    <tr>\n",
       "      <th>min</th>\n",
       "      <td>1.930000e+02</td>\n",
       "      <td>1.940000e+02</td>\n",
       "      <td>1.950000e+02</td>\n",
       "      <td>1.960000e+02</td>\n",
       "      <td>1.960000e+02</td>\n",
       "      <td>1.960000e+02</td>\n",
       "    </tr>\n",
       "    <tr>\n",
       "      <th>25%</th>\n",
       "      <td>2.275775e+04</td>\n",
       "      <td>2.286050e+04</td>\n",
       "      <td>2.309700e+04</td>\n",
       "      <td>2.324975e+04</td>\n",
       "      <td>2.332225e+04</td>\n",
       "      <td>2.352050e+04</td>\n",
       "    </tr>\n",
       "    <tr>\n",
       "      <th>50%</th>\n",
       "      <td>3.625500e+04</td>\n",
       "      <td>3.671850e+04</td>\n",
       "      <td>3.696050e+04</td>\n",
       "      <td>3.739400e+04</td>\n",
       "      <td>3.770550e+04</td>\n",
       "      <td>3.800550e+04</td>\n",
       "    </tr>\n",
       "    <tr>\n",
       "      <th>75%</th>\n",
       "      <td>6.501125e+04</td>\n",
       "      <td>6.549650e+04</td>\n",
       "      <td>6.608950e+04</td>\n",
       "      <td>6.653050e+04</td>\n",
       "      <td>6.704175e+04</td>\n",
       "      <td>6.764600e+04</td>\n",
       "    </tr>\n",
       "    <tr>\n",
       "      <th>max</th>\n",
       "      <td>3.080813e+06</td>\n",
       "      <td>3.102433e+06</td>\n",
       "      <td>3.121477e+06</td>\n",
       "      <td>3.137962e+06</td>\n",
       "      <td>3.151858e+06</td>\n",
       "      <td>3.163105e+06</td>\n",
       "    </tr>\n",
       "  </tbody>\n",
       "</table>\n",
       "</div>"
      ],
      "text/plain": [
       "           July2020      July2021      July2022      July2023      July2024  \\\n",
       "count  1.634000e+03  1.634000e+03  1.634000e+03  1.634000e+03  1.634000e+03   \n",
       "mean   6.656791e+04  6.744102e+04  6.828167e+04  6.908982e+04  6.986763e+04   \n",
       "std    1.401156e+05  1.419562e+05  1.437248e+05  1.454233e+05  1.470567e+05   \n",
       "min    1.930000e+02  1.940000e+02  1.950000e+02  1.960000e+02  1.960000e+02   \n",
       "25%    2.275775e+04  2.286050e+04  2.309700e+04  2.324975e+04  2.332225e+04   \n",
       "50%    3.625500e+04  3.671850e+04  3.696050e+04  3.739400e+04  3.770550e+04   \n",
       "75%    6.501125e+04  6.549650e+04  6.608950e+04  6.653050e+04  6.704175e+04   \n",
       "max    3.080813e+06  3.102433e+06  3.121477e+06  3.137962e+06  3.151858e+06   \n",
       "\n",
       "           July2025  \n",
       "count  1.634000e+03  \n",
       "mean   7.061077e+04  \n",
       "std    1.486184e+05  \n",
       "min    1.960000e+02  \n",
       "25%    2.352050e+04  \n",
       "50%    3.800550e+04  \n",
       "75%    6.764600e+04  \n",
       "max    3.163105e+06  "
      ]
     },
     "execution_count": 5,
     "metadata": {},
     "output_type": "execute_result"
    }
   ],
   "source": [
    "df.describe()"
   ]
  },
  {
   "cell_type": "code",
   "execution_count": 6,
   "id": "9873b7f1",
   "metadata": {
    "execution": {
     "iopub.execute_input": "2025-07-30T02:20:26.075644Z",
     "iopub.status.busy": "2025-07-30T02:20:26.075305Z",
     "iopub.status.idle": "2025-07-30T02:20:26.084323Z",
     "shell.execute_reply": "2025-07-30T02:20:26.083384Z"
    },
    "papermill": {
     "duration": 0.01847,
     "end_time": "2025-07-30T02:20:26.086039",
     "exception": false,
     "start_time": "2025-07-30T02:20:26.067569",
     "status": "completed"
    },
    "tags": []
   },
   "outputs": [
    {
     "data": {
      "text/plain": [
       "Region               0\n",
       "Region_pcode         0\n",
       "Province             0\n",
       "Province_pcode       0\n",
       "Municipality_City    0\n",
       "Mun_Pcode            0\n",
       "July2020             0\n",
       "July2021             0\n",
       "July2022             0\n",
       "July2023             0\n",
       "July2024             0\n",
       "July2025             0\n",
       "dtype: int64"
      ]
     },
     "execution_count": 6,
     "metadata": {},
     "output_type": "execute_result"
    }
   ],
   "source": [
    "df.isnull().sum()"
   ]
  },
  {
   "cell_type": "code",
   "execution_count": 7,
   "id": "58a8c1f3",
   "metadata": {
    "execution": {
     "iopub.execute_input": "2025-07-30T02:20:26.100851Z",
     "iopub.status.busy": "2025-07-30T02:20:26.100055Z",
     "iopub.status.idle": "2025-07-30T02:20:26.112411Z",
     "shell.execute_reply": "2025-07-30T02:20:26.111379Z"
    },
    "papermill": {
     "duration": 0.02137,
     "end_time": "2025-07-30T02:20:26.114157",
     "exception": false,
     "start_time": "2025-07-30T02:20:26.092787",
     "status": "completed"
    },
    "tags": []
   },
   "outputs": [
    {
     "data": {
      "text/plain": [
       "0       False\n",
       "1       False\n",
       "2       False\n",
       "3       False\n",
       "4       False\n",
       "        ...  \n",
       "1629    False\n",
       "1630    False\n",
       "1631    False\n",
       "1632    False\n",
       "1633    False\n",
       "Length: 1634, dtype: bool"
      ]
     },
     "execution_count": 7,
     "metadata": {},
     "output_type": "execute_result"
    }
   ],
   "source": [
    "df.duplicated()"
   ]
  },
  {
   "cell_type": "code",
   "execution_count": 8,
   "id": "7e7616f0",
   "metadata": {
    "execution": {
     "iopub.execute_input": "2025-07-30T02:20:26.128930Z",
     "iopub.status.busy": "2025-07-30T02:20:26.128179Z",
     "iopub.status.idle": "2025-07-30T02:20:26.135425Z",
     "shell.execute_reply": "2025-07-30T02:20:26.134409Z"
    },
    "papermill": {
     "duration": 0.016143,
     "end_time": "2025-07-30T02:20:26.136948",
     "exception": false,
     "start_time": "2025-07-30T02:20:26.120805",
     "status": "completed"
    },
    "tags": []
   },
   "outputs": [],
   "source": [
    "df = df.rename(columns={\n",
    "    'July2020': '2020',\n",
    "    'July2021': '2021',\n",
    "    'July2022': '2022',\n",
    "    'July2023': '2023',\n",
    "    'July2024': '2024',\n",
    "    'July2025': '2025',\n",
    "})"
   ]
  },
  {
   "cell_type": "code",
   "execution_count": 9,
   "id": "2d2c829f",
   "metadata": {
    "execution": {
     "iopub.execute_input": "2025-07-30T02:20:26.151089Z",
     "iopub.status.busy": "2025-07-30T02:20:26.150668Z",
     "iopub.status.idle": "2025-07-30T02:20:26.164204Z",
     "shell.execute_reply": "2025-07-30T02:20:26.163384Z"
    },
    "papermill": {
     "duration": 0.022435,
     "end_time": "2025-07-30T02:20:26.165908",
     "exception": false,
     "start_time": "2025-07-30T02:20:26.143473",
     "status": "completed"
    },
    "tags": []
   },
   "outputs": [
    {
     "data": {
      "text/html": [
       "<div>\n",
       "<style scoped>\n",
       "    .dataframe tbody tr th:only-of-type {\n",
       "        vertical-align: middle;\n",
       "    }\n",
       "\n",
       "    .dataframe tbody tr th {\n",
       "        vertical-align: top;\n",
       "    }\n",
       "\n",
       "    .dataframe thead th {\n",
       "        text-align: right;\n",
       "    }\n",
       "</style>\n",
       "<table border=\"1\" class=\"dataframe\">\n",
       "  <thead>\n",
       "    <tr style=\"text-align: right;\">\n",
       "      <th></th>\n",
       "      <th>Region</th>\n",
       "      <th>Region_pcode</th>\n",
       "      <th>Province</th>\n",
       "      <th>Province_pcode</th>\n",
       "      <th>Municipality_City</th>\n",
       "      <th>Mun_Pcode</th>\n",
       "      <th>2020</th>\n",
       "      <th>2021</th>\n",
       "      <th>2022</th>\n",
       "      <th>2023</th>\n",
       "      <th>2024</th>\n",
       "      <th>2025</th>\n",
       "    </tr>\n",
       "  </thead>\n",
       "  <tbody>\n",
       "    <tr>\n",
       "      <th>1629</th>\n",
       "      <td>Region IV-B (MIMAROPA)</td>\n",
       "      <td>PH170000000</td>\n",
       "      <td>Romblon</td>\n",
       "      <td>PH175900000</td>\n",
       "      <td>San Fernando</td>\n",
       "      <td>PH175913000</td>\n",
       "      <td>23974</td>\n",
       "      <td>24097</td>\n",
       "      <td>24213</td>\n",
       "      <td>24322</td>\n",
       "      <td>24425</td>\n",
       "      <td>24521</td>\n",
       "    </tr>\n",
       "    <tr>\n",
       "      <th>1630</th>\n",
       "      <td>Region IV-B (MIMAROPA)</td>\n",
       "      <td>PH170000000</td>\n",
       "      <td>Romblon</td>\n",
       "      <td>PH175900000</td>\n",
       "      <td>San Jose</td>\n",
       "      <td>PH175914000</td>\n",
       "      <td>11424</td>\n",
       "      <td>11527</td>\n",
       "      <td>11627</td>\n",
       "      <td>11725</td>\n",
       "      <td>11820</td>\n",
       "      <td>11913</td>\n",
       "    </tr>\n",
       "    <tr>\n",
       "      <th>1631</th>\n",
       "      <td>Region IV-B (MIMAROPA)</td>\n",
       "      <td>PH170000000</td>\n",
       "      <td>Romblon</td>\n",
       "      <td>PH175900000</td>\n",
       "      <td>Santa Fe</td>\n",
       "      <td>PH175915000</td>\n",
       "      <td>16427</td>\n",
       "      <td>16480</td>\n",
       "      <td>16527</td>\n",
       "      <td>16569</td>\n",
       "      <td>16607</td>\n",
       "      <td>16640</td>\n",
       "    </tr>\n",
       "    <tr>\n",
       "      <th>1632</th>\n",
       "      <td>Region IV-B (MIMAROPA)</td>\n",
       "      <td>PH170000000</td>\n",
       "      <td>Romblon</td>\n",
       "      <td>PH175900000</td>\n",
       "      <td>Ferrol</td>\n",
       "      <td>PH175916000</td>\n",
       "      <td>7096</td>\n",
       "      <td>7117</td>\n",
       "      <td>7135</td>\n",
       "      <td>7152</td>\n",
       "      <td>7166</td>\n",
       "      <td>7178</td>\n",
       "    </tr>\n",
       "    <tr>\n",
       "      <th>1633</th>\n",
       "      <td>Region IV-B (MIMAROPA)</td>\n",
       "      <td>PH170000000</td>\n",
       "      <td>Romblon</td>\n",
       "      <td>PH175900000</td>\n",
       "      <td>Santa Maria (Imelda)</td>\n",
       "      <td>PH175917000</td>\n",
       "      <td>9331</td>\n",
       "      <td>9498</td>\n",
       "      <td>9666</td>\n",
       "      <td>9834</td>\n",
       "      <td>10002</td>\n",
       "      <td>10170</td>\n",
       "    </tr>\n",
       "  </tbody>\n",
       "</table>\n",
       "</div>"
      ],
      "text/plain": [
       "                      Region Region_pcode Province Province_pcode  \\\n",
       "1629  Region IV-B (MIMAROPA)  PH170000000  Romblon    PH175900000   \n",
       "1630  Region IV-B (MIMAROPA)  PH170000000  Romblon    PH175900000   \n",
       "1631  Region IV-B (MIMAROPA)  PH170000000  Romblon    PH175900000   \n",
       "1632  Region IV-B (MIMAROPA)  PH170000000  Romblon    PH175900000   \n",
       "1633  Region IV-B (MIMAROPA)  PH170000000  Romblon    PH175900000   \n",
       "\n",
       "         Municipality_City    Mun_Pcode   2020   2021   2022   2023   2024  \\\n",
       "1629          San Fernando  PH175913000  23974  24097  24213  24322  24425   \n",
       "1630              San Jose  PH175914000  11424  11527  11627  11725  11820   \n",
       "1631              Santa Fe  PH175915000  16427  16480  16527  16569  16607   \n",
       "1632                Ferrol  PH175916000   7096   7117   7135   7152   7166   \n",
       "1633  Santa Maria (Imelda)  PH175917000   9331   9498   9666   9834  10002   \n",
       "\n",
       "       2025  \n",
       "1629  24521  \n",
       "1630  11913  \n",
       "1631  16640  \n",
       "1632   7178  \n",
       "1633  10170  "
      ]
     },
     "execution_count": 9,
     "metadata": {},
     "output_type": "execute_result"
    }
   ],
   "source": [
    "df.tail()"
   ]
  },
  {
   "cell_type": "code",
   "execution_count": 10,
   "id": "08ff4509",
   "metadata": {
    "execution": {
     "iopub.execute_input": "2025-07-30T02:20:26.180946Z",
     "iopub.status.busy": "2025-07-30T02:20:26.180593Z",
     "iopub.status.idle": "2025-07-30T02:20:26.188464Z",
     "shell.execute_reply": "2025-07-30T02:20:26.187401Z"
    },
    "papermill": {
     "duration": 0.017164,
     "end_time": "2025-07-30T02:20:26.190086",
     "exception": false,
     "start_time": "2025-07-30T02:20:26.172922",
     "status": "completed"
    },
    "tags": []
   },
   "outputs": [
    {
     "data": {
      "text/plain": [
       "['Region I (Ilocos Region)',\n",
       " 'Region II (Cagayan Valley)',\n",
       " 'Region III (Central Luzon)',\n",
       " 'Region IV-A (CALABARZON)',\n",
       " 'Region V (Bicol Region)',\n",
       " 'Region VI (Western Visayas)',\n",
       " 'Region VII (Central Visayas)',\n",
       " 'Region VIII (Eastern Visayas)',\n",
       " 'Region IX (Zamboanga Peninsula)',\n",
       " 'Region X (Northern Mindanao)',\n",
       " 'Region XI (Davao Region)',\n",
       " 'Region XII (SOCCSKSARGEN)',\n",
       " 'National Capital Region (NCR)',\n",
       " 'Cordillera Administrative Region (CAR)',\n",
       " 'Autonomous Region in Muslim Mindanao (ARMM)',\n",
       " 'Region XIII (Caraga)',\n",
       " 'Region IV-B (MIMAROPA)']"
      ]
     },
     "execution_count": 10,
     "metadata": {},
     "output_type": "execute_result"
    }
   ],
   "source": [
    "df['Region'].unique().tolist()"
   ]
  },
  {
   "cell_type": "markdown",
   "id": "77e59974",
   "metadata": {
    "papermill": {
     "duration": 0.006414,
     "end_time": "2025-07-30T02:20:26.203362",
     "exception": false,
     "start_time": "2025-07-30T02:20:26.196948",
     "status": "completed"
    },
    "tags": []
   },
   "source": [
    "### EDA (Exploratory Data Analysis)"
   ]
  },
  {
   "cell_type": "markdown",
   "id": "a43c392d",
   "metadata": {
    "papermill": {
     "duration": 0.006273,
     "end_time": "2025-07-30T02:20:26.216299",
     "exception": false,
     "start_time": "2025-07-30T02:20:26.210026",
     "status": "completed"
    },
    "tags": []
   },
   "source": [
    "- What is the overall population growth trend in the Philippines from 2020 to 2025?"
   ]
  },
  {
   "cell_type": "code",
   "execution_count": 11,
   "id": "fe8d81c0",
   "metadata": {
    "execution": {
     "iopub.execute_input": "2025-07-30T02:20:26.231410Z",
     "iopub.status.busy": "2025-07-30T02:20:26.230345Z",
     "iopub.status.idle": "2025-07-30T02:20:26.236408Z",
     "shell.execute_reply": "2025-07-30T02:20:26.235343Z"
    },
    "papermill": {
     "duration": 0.015337,
     "end_time": "2025-07-30T02:20:26.238127",
     "exception": false,
     "start_time": "2025-07-30T02:20:26.222790",
     "status": "completed"
    },
    "tags": []
   },
   "outputs": [],
   "source": [
    "years = ['2020', '2021', '2022', '2023', '2024', '2025']"
   ]
  },
  {
   "cell_type": "code",
   "execution_count": 12,
   "id": "51191f7d",
   "metadata": {
    "execution": {
     "iopub.execute_input": "2025-07-30T02:20:26.253987Z",
     "iopub.status.busy": "2025-07-30T02:20:26.253615Z",
     "iopub.status.idle": "2025-07-30T02:20:26.607300Z",
     "shell.execute_reply": "2025-07-30T02:20:26.606296Z"
    },
    "papermill": {
     "duration": 0.36318,
     "end_time": "2025-07-30T02:20:26.608832",
     "exception": false,
     "start_time": "2025-07-30T02:20:26.245652",
     "status": "completed"
    },
    "tags": []
   },
   "outputs": [
    {
     "data": {
      "image/png": "[encoded data removed]",
      "text/plain": [
       "<Figure size 1000x600 with 1 Axes>"
      ]
     },
     "metadata": {},
     "output_type": "display_data"
    }
   ],
   "source": [
    "national_total = df[years].sum().reset_index()\n",
    "national_total.columns = ['Years', 'Total Population'] \n",
    "\n",
    "plt.figure(figsize=(10, 6))\n",
    "sns.barplot(data=national_total, x='Years', y='Total Population', palette='Blues_d')\n",
    "\n",
    "plt.title('Philippine Population Growth 2020 to 2025')\n",
    "plt.xlabel('Year')\n",
    "plt.ylabel('Total Population')\n",
    "plt.tight_layout()\n",
    "plt.show()"
   ]
  },
  {
   "cell_type": "markdown",
   "id": "7f3e9552",
   "metadata": {
    "papermill": {
     "duration": 0.006676,
     "end_time": "2025-07-30T02:20:26.623065",
     "exception": false,
     "start_time": "2025-07-30T02:20:26.616389",
     "status": "completed"
    },
    "tags": []
   },
   "source": [
    "- Which regions have the highest and lowest population growth?"
   ]
  },
  {
   "cell_type": "code",
   "execution_count": 13,
   "id": "e5e1890e",
   "metadata": {
    "execution": {
     "iopub.execute_input": "2025-07-30T02:20:26.638323Z",
     "iopub.status.busy": "2025-07-30T02:20:26.637954Z",
     "iopub.status.idle": "2025-07-30T02:20:29.006988Z",
     "shell.execute_reply": "2025-07-30T02:20:29.005953Z"
    },
    "papermill": {
     "duration": 2.378813,
     "end_time": "2025-07-30T02:20:29.008805",
     "exception": false,
     "start_time": "2025-07-30T02:20:26.629992",
     "status": "completed"
    },
    "tags": []
   },
   "outputs": [
    {
     "data": {
      "text/html": [
       "<html>\n",
       "<head><meta charset=\"utf-8\" /></head>\n",
       "<body>\n",
       "    <div>            <script src=\"https://cdnjs.cloudflare.com/ajax/libs/mathjax/2.7.5/MathJax.js?config=TeX-AMS-MML_SVG\"></script><script type=\"text/javascript\">if (window.MathJax && window.MathJax.Hub && window.MathJax.Hub.Config) {window.MathJax.Hub.Config({SVG: {font: \"STIX-Web\"}});}</script>                <script type=\"text/javascript\">window.PlotlyConfig = {MathJaxConfig: 'local'};</script>\n",
       "        <script charset=\"utf-8\" src=\"https://cdn.plot.ly/plotly-2.35.2.min.js\"></script>                <div id=\"00e0f302-b564-4851-a119-c22be1e9f6ca\" class=\"plotly-graph-div\" style=\"height:525px; width:100%;\"></div>            <script type=\"text/javascript\">                                    window.PLOTLYENV=window.PLOTLYENV || {};                                    if (document.getElementById(\"00e0f302-b564-4851-a119-c22be1e9f6ca\")) {                    Plotly.newPlot(                        \"00e0f302-b564-4851-a119-c22be1e9f6ca\",                        [{\"hovertemplate\":\"Region=Autonomous Region in Muslim Mindanao (ARMM)\\u003cbr\\u003eYear=%{x}\\u003cbr\\u003ePopulation=%{y}\\u003cextra\\u003e\\u003c\\u002fextra\\u003e\",\"legendgroup\":\"Autonomous Region in Muslim Mindanao (ARMM)\",\"line\":{\"color\":\"#d7dfc0\",\"dash\":\"solid\"},\"marker\":{\"symbol\":\"circle\"},\"mode\":\"lines+markers\",\"name\":\"Autonomous Region in Muslim Mindanao (ARMM)\",\"orientation\":\"v\",\"showlegend\":true,\"x\":[2020,2021,2022,2023,2024,2025],\"xaxis\":\"x\",\"y\":[4183315,4270192,4358835,4449234,4541633,4635526],\"yaxis\":\"y\",\"type\":\"scatter\"},{\"hovertemplate\":\"Region=Cordillera Administrative Region (CAR)\\u003cbr\\u003eYear=%{x}\\u003cbr\\u003ePopulation=%{y}\\u003cextra\\u003e\\u003c\\u002fextra\\u003e\",\"legendgroup\":\"Cordillera Administrative Region (CAR)\",\"line\":{\"color\":\"#c7d8b2\",\"dash\":\"solid\"},\"marker\":{\"symbol\":\"circle\"},\"mode\":\"lines+markers\",\"name\":\"Cordillera Administrative Region (CAR)\",\"orientation\":\"v\",\"showlegend\":true,\"x\":[2020,2021,2022,2023,2024,2025],\"xaxis\":\"x\",\"y\":[1807739,1822716,1836855,1850153,1862657,1874281],\"yaxis\":\"y\",\"type\":\"scatter\"},{\"hovertemplate\":\"Region=National Capital Region (NCR)\\u003cbr\\u003eYear=%{x}\\u003cbr\\u003ePopulation=%{y}\\u003cextra\\u003e\\u003c\\u002fextra\\u003e\",\"legendgroup\":\"National Capital Region (NCR)\",\"line\":{\"color\":\"#b5d1a6\",\"dash\":\"solid\"},\"marker\":{\"symbol\":\"circle\"},\"mode\":\"lines+markers\",\"name\":\"National Capital Region (NCR)\",\"orientation\":\"v\",\"showlegend\":true,\"x\":[2020,2021,2022,2023,2024,2025],\"xaxis\":\"x\",\"y\":[13804656,13966223,14118676,14262004,14396580,14521657],\"yaxis\":\"y\",\"type\":\"scatter\"},{\"hovertemplate\":\"Region=Region I (Ilocos Region)\\u003cbr\\u003eYear=%{x}\\u003cbr\\u003ePopulation=%{y}\\u003cextra\\u003e\\u003c\\u002fextra\\u003e\",\"legendgroup\":\"Region I (Ilocos Region)\",\"line\":{\"color\":\"#a2ca9c\",\"dash\":\"solid\"},\"marker\":{\"symbol\":\"circle\"},\"mode\":\"lines+markers\",\"name\":\"Region I (Ilocos Region)\",\"orientation\":\"v\",\"showlegend\":true,\"x\":[2020,2021,2022,2023,2024,2025],\"xaxis\":\"x\",\"y\":[5270807,5313220,5353137,5390568,5425604,5458061],\"yaxis\":\"y\",\"type\":\"scatter\"},{\"hovertemplate\":\"Region=Region II (Cagayan Valley)\\u003cbr\\u003eYear=%{x}\\u003cbr\\u003ePopulation=%{y}\\u003cextra\\u003e\\u003c\\u002fextra\\u003e\",\"legendgroup\":\"Region II (Cagayan Valley)\",\"line\":{\"color\":\"#91c396\",\"dash\":\"solid\"},\"marker\":{\"symbol\":\"circle\"},\"mode\":\"lines+markers\",\"name\":\"Region II (Cagayan Valley)\",\"orientation\":\"v\",\"showlegend\":true,\"x\":[2020,2021,2022,2023,2024,2025],\"xaxis\":\"x\",\"y\":[3657746,3693667,3727545,3759422,3789328,3817142],\"yaxis\":\"y\",\"type\":\"scatter\"},{\"hovertemplate\":\"Region=Region III (Central Luzon)\\u003cbr\\u003eYear=%{x}\\u003cbr\\u003ePopulation=%{y}\\u003cextra\\u003e\\u003c\\u002fextra\\u003e\",\"legendgroup\":\"Region III (Central Luzon)\",\"line\":{\"color\":\"#7fba91\",\"dash\":\"solid\"},\"marker\":{\"symbol\":\"circle\"},\"mode\":\"lines+markers\",\"name\":\"Region III (Central Luzon)\",\"orientation\":\"v\",\"showlegend\":true,\"x\":[2020,2021,2022,2023,2024,2025],\"xaxis\":\"x\",\"y\":[12313714,12513845,12706461,12891544,13069623,13239668],\"yaxis\":\"y\",\"type\":\"scatter\"},{\"hovertemplate\":\"Region=Region IV-A (CALABARZON)\\u003cbr\\u003eYear=%{x}\\u003cbr\\u003ePopulation=%{y}\\u003cextra\\u003e\\u003c\\u002fextra\\u003e\",\"legendgroup\":\"Region IV-A (CALABARZON)\",\"line\":{\"color\":\"#70b18f\",\"dash\":\"solid\"},\"marker\":{\"symbol\":\"circle\"},\"mode\":\"lines+markers\",\"name\":\"Region IV-A (CALABARZON)\",\"orientation\":\"v\",\"showlegend\":true,\"x\":[2020,2021,2022,2023,2024,2025],\"xaxis\":\"x\",\"y\":[16057291,16361101,16654979,16938895,17213592,17477567],\"yaxis\":\"y\",\"type\":\"scatter\"},{\"hovertemplate\":\"Region=Region IV-B (MIMAROPA)\\u003cbr\\u003eYear=%{x}\\u003cbr\\u003ePopulation=%{y}\\u003cextra\\u003e\\u003c\\u002fextra\\u003e\",\"legendgroup\":\"Region IV-B (MIMAROPA)\",\"line\":{\"color\":\"#62a68e\",\"dash\":\"solid\"},\"marker\":{\"symbol\":\"circle\"},\"mode\":\"lines+markers\",\"name\":\"Region IV-B (MIMAROPA)\",\"orientation\":\"v\",\"showlegend\":true,\"x\":[2020,2021,2022,2023,2024,2025],\"xaxis\":\"x\",\"y\":[3174856,3212216,3247677,3281252,3313032,3342831],\"yaxis\":\"y\",\"type\":\"scatter\"},{\"hovertemplate\":\"Region=Region IX (Zamboanga Peninsula)\\u003cbr\\u003eYear=%{x}\\u003cbr\\u003ePopulation=%{y}\\u003cextra\\u003e\\u003c\\u002fextra\\u003e\",\"legendgroup\":\"Region IX (Zamboanga Peninsula)\",\"line\":{\"color\":\"#589b8d\",\"dash\":\"solid\"},\"marker\":{\"symbol\":\"circle\"},\"mode\":\"lines+markers\",\"name\":\"Region IX (Zamboanga Peninsula)\",\"orientation\":\"v\",\"showlegend\":true,\"x\":[2020,2021,2022,2023,2024,2025],\"xaxis\":\"x\",\"y\":[3782761,3809536,3834797,3858551,3880824,3901530],\"yaxis\":\"y\",\"type\":\"scatter\"},{\"hovertemplate\":\"Region=Region V (Bicol Region)\\u003cbr\\u003eYear=%{x}\\u003cbr\\u003ePopulation=%{y}\\u003cextra\\u003e\\u003c\\u002fextra\\u003e\",\"legendgroup\":\"Region V (Bicol Region)\",\"line\":{\"color\":\"#4e8d8c\",\"dash\":\"solid\"},\"marker\":{\"symbol\":\"circle\"},\"mode\":\"lines+markers\",\"name\":\"Region V (Bicol Region)\",\"orientation\":\"v\",\"showlegend\":true,\"x\":[2020,2021,2022,2023,2024,2025],\"xaxis\":\"x\",\"y\":[6133835,6192917,6248837,6301589,6351296,6397690],\"yaxis\":\"y\",\"type\":\"scatter\"},{\"hovertemplate\":\"Region=Region VI (Western Visayas)\\u003cbr\\u003eYear=%{x}\\u003cbr\\u003ePopulation=%{y}\\u003cextra\\u003e\\u003c\\u002fextra\\u003e\",\"legendgroup\":\"Region VI (Western Visayas)\",\"line\":{\"color\":\"#48808a\",\"dash\":\"solid\"},\"marker\":{\"symbol\":\"circle\"},\"mode\":\"lines+markers\",\"name\":\"Region VI (Western Visayas)\",\"orientation\":\"v\",\"showlegend\":true,\"x\":[2020,2021,2022,2023,2024,2025],\"xaxis\":\"x\",\"y\":[7904895,7970551,8033039,8092361,8148699,8201700],\"yaxis\":\"y\",\"type\":\"scatter\"},{\"hovertemplate\":\"Region=Region VII (Central Visayas)\\u003cbr\\u003eYear=%{x}\\u003cbr\\u003ePopulation=%{y}\\u003cextra\\u003e\\u003c\\u002fextra\\u003e\",\"legendgroup\":\"Region VII (Central Visayas)\",\"line\":{\"color\":\"#437086\",\"dash\":\"solid\"},\"marker\":{\"symbol\":\"circle\"},\"mode\":\"lines+markers\",\"name\":\"Region VII (Central Visayas)\",\"orientation\":\"v\",\"showlegend\":true,\"x\":[2020,2021,2022,2023,2024,2025],\"xaxis\":\"x\",\"y\":[7957045,8054770,8147077,8233964,8315667,8391706],\"yaxis\":\"y\",\"type\":\"scatter\"},{\"hovertemplate\":\"Region=Region VIII (Eastern Visayas)\\u003cbr\\u003eYear=%{x}\\u003cbr\\u003ePopulation=%{y}\\u003cextra\\u003e\\u003c\\u002fextra\\u003e\",\"legendgroup\":\"Region VIII (Eastern Visayas)\",\"line\":{\"color\":\"#3f6280\",\"dash\":\"solid\"},\"marker\":{\"symbol\":\"circle\"},\"mode\":\"lines+markers\",\"name\":\"Region VIII (Eastern Visayas)\",\"orientation\":\"v\",\"showlegend\":true,\"x\":[2020,2021,2022,2023,2024,2025],\"xaxis\":\"x\",\"y\":[4742342,4803767,4865154,4926496,4987964,5049228],\"yaxis\":\"y\",\"type\":\"scatter\"},{\"hovertemplate\":\"Region=Region X (Northern Mindanao)\\u003cbr\\u003eYear=%{x}\\u003cbr\\u003ePopulation=%{y}\\u003cextra\\u003e\\u003c\\u002fextra\\u003e\",\"legendgroup\":\"Region X (Northern Mindanao)\",\"line\":{\"color\":\"#3d5277\",\"dash\":\"solid\"},\"marker\":{\"symbol\":\"circle\"},\"mode\":\"lines+markers\",\"name\":\"Region X (Northern Mindanao)\",\"orientation\":\"v\",\"showlegend\":true,\"x\":[2020,2021,2022,2023,2024,2025],\"xaxis\":\"x\",\"y\":[5017050,5074560,5128966,5180239,5228550,5273601],\"yaxis\":\"y\",\"type\":\"scatter\"},{\"hovertemplate\":\"Region=Region XI (Davao Region)\\u003cbr\\u003eYear=%{x}\\u003cbr\\u003ePopulation=%{y}\\u003cextra\\u003e\\u003c\\u002fextra\\u003e\",\"legendgroup\":\"Region XI (Davao Region)\",\"line\":{\"color\":\"#3a456d\",\"dash\":\"solid\"},\"marker\":{\"symbol\":\"circle\"},\"mode\":\"lines+markers\",\"name\":\"Region XI (Davao Region)\",\"orientation\":\"v\",\"showlegend\":true,\"x\":[2020,2021,2022,2023,2024,2025],\"xaxis\":\"x\",\"y\":[5290867,5371252,5451446,5531465,5611525,5691180],\"yaxis\":\"y\",\"type\":\"scatter\"},{\"hovertemplate\":\"Region=Region XII (SOCCSKSARGEN)\\u003cbr\\u003eYear=%{x}\\u003cbr\\u003ePopulation=%{y}\\u003cextra\\u003e\\u003c\\u002fextra\\u003e\",\"legendgroup\":\"Region XII (SOCCSKSARGEN)\",\"line\":{\"color\":\"#37365f\",\"dash\":\"solid\"},\"marker\":{\"symbol\":\"circle\"},\"mode\":\"lines+markers\",\"name\":\"Region XII (SOCCSKSARGEN)\",\"orientation\":\"v\",\"showlegend\":true,\"x\":[2020,2021,2022,2023,2024,2025],\"xaxis\":\"x\",\"y\":[4919935,4985880,5048332,5107292,5162939,5214934],\"yaxis\":\"y\",\"type\":\"scatter\"},{\"hovertemplate\":\"Region=Region XIII (Caraga)\\u003cbr\\u003eYear=%{x}\\u003cbr\\u003ePopulation=%{y}\\u003cextra\\u003e\\u003c\\u002fextra\\u003e\",\"legendgroup\":\"Region XIII (Caraga)\",\"line\":{\"color\":\"#32294e\",\"dash\":\"solid\"},\"marker\":{\"symbol\":\"circle\"},\"mode\":\"lines+markers\",\"name\":\"Region XIII (Caraga)\",\"orientation\":\"v\",\"showlegend\":true,\"x\":[2020,2021,2022,2023,2024,2025],\"xaxis\":\"x\",\"y\":[2753107,2782217,2810432,2837739,2864202,2889689],\"yaxis\":\"y\",\"type\":\"scatter\"}],                        {\"template\":{\"data\":{\"histogram2dcontour\":[{\"type\":\"histogram2dcontour\",\"colorbar\":{\"outlinewidth\":0,\"ticks\":\"\"},\"colorscale\":[[0.0,\"#0d0887\"],[0.1111111111111111,\"#46039f\"],[0.2222222222222222,\"#7201a8\"],[0.3333333333333333,\"#9c179e\"],[0.4444444444444444,\"#bd3786\"],[0.5555555555555556,\"#d8576b\"],[0.6666666666666666,\"#ed7953\"],[0.7777777777777778,\"#fb9f3a\"],[0.8888888888888888,\"#fdca26\"],[1.0,\"#f0f921\"]]}],\"choropleth\":[{\"type\":\"choropleth\",\"colorbar\":{\"outlinewidth\":0,\"ticks\":\"\"}}],\"histogram2d\":[{\"type\":\"histogram2d\",\"colorbar\":{\"outlinewidth\":0,\"ticks\":\"\"},\"colorscale\":[[0.0,\"#0d0887\"],[0.1111111111111111,\"#46039f\"],[0.2222222222222222,\"#7201a8\"],[0.3333333333333333,\"#9c179e\"],[0.4444444444444444,\"#bd3786\"],[0.5555555555555556,\"#d8576b\"],[0.6666666666666666,\"#ed7953\"],[0.7777777777777778,\"#fb9f3a\"],[0.8888888888888888,\"#fdca26\"],[1.0,\"#f0f921\"]]}],\"heatmap\":[{\"type\":\"heatmap\",\"colorbar\":{\"outlinewidth\":0,\"ticks\":\"\"},\"colorscale\":[[0.0,\"#0d0887\"],[0.1111111111111111,\"#46039f\"],[0.2222222222222222,\"#7201a8\"],[0.3333333333333333,\"#9c179e\"],[0.4444444444444444,\"#bd3786\"],[0.5555555555555556,\"#d8576b\"],[0.6666666666666666,\"#ed7953\"],[0.7777777777777778,\"#fb9f3a\"],[0.8888888888888888,\"#fdca26\"],[1.0,\"#f0f921\"]]}],\"heatmapgl\":[{\"type\":\"heatmapgl\",\"colorbar\":{\"outlinewidth\":0,\"ticks\":\"\"},\"colorscale\":[[0.0,\"#0d0887\"],[0.1111111111111111,\"#46039f\"],[0.2222222222222222,\"#7201a8\"],[0.3333333333333333,\"#9c179e\"],[0.4444444444444444,\"#bd3786\"],[0.5555555555555556,\"#d8576b\"],[0.6666666666666666,\"#ed7953\"],[0.7777777777777778,\"#fb9f3a\"],[0.8888888888888888,\"#fdca26\"],[1.0,\"#f0f921\"]]}],\"contourcarpet\":[{\"type\":\"contourcarpet\",\"colorbar\":{\"outlinewidth\":0,\"ticks\":\"\"}}],\"contour\":[{\"type\":\"contour\",\"colorbar\":{\"outlinewidth\":0,\"ticks\":\"\"},\"colorscale\":[[0.0,\"#0d0887\"],[0.1111111111111111,\"#46039f\"],[0.2222222222222222,\"#7201a8\"],[0.3333333333333333,\"#9c179e\"],[0.4444444444444444,\"#bd3786\"],[0.5555555555555556,\"#d8576b\"],[0.6666666666666666,\"#ed7953\"],[0.7777777777777778,\"#fb9f3a\"],[0.8888888888888888,\"#fdca26\"],[1.0,\"#f0f921\"]]}],\"surface\":[{\"type\":\"surface\",\"colorbar\":{\"outlinewidth\":0,\"ticks\":\"\"},\"colorscale\":[[0.0,\"#0d0887\"],[0.1111111111111111,\"#46039f\"],[0.2222222222222222,\"#7201a8\"],[0.3333333333333333,\"#9c179e\"],[0.4444444444444444,\"#bd3786\"],[0.5555555555555556,\"#d8576b\"],[0.6666666666666666,\"#ed7953\"],[0.7777777777777778,\"#fb9f3a\"],[0.8888888888888888,\"#fdca26\"],[1.0,\"#f0f921\"]]}],\"mesh3d\":[{\"type\":\"mesh3d\",\"colorbar\":{\"outlinewidth\":0,\"ticks\":\"\"}}],\"scatter\":[{\"fillpattern\":{\"fillmode\":\"overlay\",\"size\":10,\"solidity\":0.2},\"type\":\"scatter\"}],\"parcoords\":[{\"type\":\"parcoords\",\"line\":{\"colorbar\":{\"outlinewidth\":0,\"ticks\":\"\"}}}],\"scatterpolargl\":[{\"type\":\"scatterpolargl\",\"marker\":{\"colorbar\":{\"outlinewidth\":0,\"ticks\":\"\"}}}],\"bar\":[{\"error_x\":{\"color\":\"#2a3f5f\"},\"error_y\":{\"color\":\"#2a3f5f\"},\"marker\":{\"line\":{\"color\":\"#E5ECF6\",\"width\":0.5},\"pattern\":{\"fillmode\":\"overlay\",\"size\":10,\"solidity\":0.2}},\"type\":\"bar\"}],\"scattergeo\":[{\"type\":\"scattergeo\",\"marker\":{\"colorbar\":{\"outlinewidth\":0,\"ticks\":\"\"}}}],\"scatterpolar\":[{\"type\":\"scatterpolar\",\"marker\":{\"colorbar\":{\"outlinewidth\":0,\"ticks\":\"\"}}}],\"histogram\":[{\"marker\":{\"pattern\":{\"fillmode\":\"overlay\",\"size\":10,\"solidity\":0.2}},\"type\":\"histogram\"}],\"scattergl\":[{\"type\":\"scattergl\",\"marker\":{\"colorbar\":{\"outlinewidth\":0,\"ticks\":\"\"}}}],\"scatter3d\":[{\"type\":\"scatter3d\",\"line\":{\"colorbar\":{\"outlinewidth\":0,\"ticks\":\"\"}},\"marker\":{\"colorbar\":{\"outlinewidth\":0,\"ticks\":\"\"}}}],\"scattermapbox\":[{\"type\":\"scattermapbox\",\"marker\":{\"colorbar\":{\"outlinewidth\":0,\"ticks\":\"\"}}}],\"scatterternary\":[{\"type\":\"scatterternary\",\"marker\":{\"colorbar\":{\"outlinewidth\":0,\"ticks\":\"\"}}}],\"scattercarpet\":[{\"type\":\"scattercarpet\",\"marker\":{\"colorbar\":{\"outlinewidth\":0,\"ticks\":\"\"}}}],\"carpet\":[{\"aaxis\":{\"endlinecolor\":\"#2a3f5f\",\"gridcolor\":\"white\",\"linecolor\":\"white\",\"minorgridcolor\":\"white\",\"startlinecolor\":\"#2a3f5f\"},\"baxis\":{\"endlinecolor\":\"#2a3f5f\",\"gridcolor\":\"white\",\"linecolor\":\"white\",\"minorgridcolor\":\"white\",\"startlinecolor\":\"#2a3f5f\"},\"type\":\"carpet\"}],\"table\":[{\"cells\":{\"fill\":{\"color\":\"#EBF0F8\"},\"line\":{\"color\":\"white\"}},\"header\":{\"fill\":{\"color\":\"#C8D4E3\"},\"line\":{\"color\":\"white\"}},\"type\":\"table\"}],\"barpolar\":[{\"marker\":{\"line\":{\"color\":\"#E5ECF6\",\"width\":0.5},\"pattern\":{\"fillmode\":\"overlay\",\"size\":10,\"solidity\":0.2}},\"type\":\"barpolar\"}],\"pie\":[{\"automargin\":true,\"type\":\"pie\"}]},\"layout\":{\"autotypenumbers\":\"strict\",\"colorway\":[\"#636efa\",\"#EF553B\",\"#00cc96\",\"#ab63fa\",\"#FFA15A\",\"#19d3f3\",\"#FF6692\",\"#B6E880\",\"#FF97FF\",\"#FECB52\"],\"font\":{\"color\":\"#2a3f5f\"},\"hovermode\":\"closest\",\"hoverlabel\":{\"align\":\"left\"},\"paper_bgcolor\":\"white\",\"plot_bgcolor\":\"#E5ECF6\",\"polar\":{\"bgcolor\":\"#E5ECF6\",\"angularaxis\":{\"gridcolor\":\"white\",\"linecolor\":\"white\",\"ticks\":\"\"},\"radialaxis\":{\"gridcolor\":\"white\",\"linecolor\":\"white\",\"ticks\":\"\"}},\"ternary\":{\"bgcolor\":\"#E5ECF6\",\"aaxis\":{\"gridcolor\":\"white\",\"linecolor\":\"white\",\"ticks\":\"\"},\"baxis\":{\"gridcolor\":\"white\",\"linecolor\":\"white\",\"ticks\":\"\"},\"caxis\":{\"gridcolor\":\"white\",\"linecolor\":\"white\",\"ticks\":\"\"}},\"coloraxis\":{\"colorbar\":{\"outlinewidth\":0,\"ticks\":\"\"}},\"colorscale\":{\"sequential\":[[0.0,\"#0d0887\"],[0.1111111111111111,\"#46039f\"],[0.2222222222222222,\"#7201a8\"],[0.3333333333333333,\"#9c179e\"],[0.4444444444444444,\"#bd3786\"],[0.5555555555555556,\"#d8576b\"],[0.6666666666666666,\"#ed7953\"],[0.7777777777777778,\"#fb9f3a\"],[0.8888888888888888,\"#fdca26\"],[1.0,\"#f0f921\"]],\"sequentialminus\":[[0.0,\"#0d0887\"],[0.1111111111111111,\"#46039f\"],[0.2222222222222222,\"#7201a8\"],[0.3333333333333333,\"#9c179e\"],[0.4444444444444444,\"#bd3786\"],[0.5555555555555556,\"#d8576b\"],[0.6666666666666666,\"#ed7953\"],[0.7777777777777778,\"#fb9f3a\"],[0.8888888888888888,\"#fdca26\"],[1.0,\"#f0f921\"]],\"diverging\":[[0,\"#8e0152\"],[0.1,\"#c51b7d\"],[0.2,\"#de77ae\"],[0.3,\"#f1b6da\"],[0.4,\"#fde0ef\"],[0.5,\"#f7f7f7\"],[0.6,\"#e6f5d0\"],[0.7,\"#b8e186\"],[0.8,\"#7fbc41\"],[0.9,\"#4d9221\"],[1,\"#276419\"]]},\"xaxis\":{\"gridcolor\":\"white\",\"linecolor\":\"white\",\"ticks\":\"\",\"title\":{\"standoff\":15},\"zerolinecolor\":\"white\",\"automargin\":true,\"zerolinewidth\":2},\"yaxis\":{\"gridcolor\":\"white\",\"linecolor\":\"white\",\"ticks\":\"\",\"title\":{\"standoff\":15},\"zerolinecolor\":\"white\",\"automargin\":true,\"zerolinewidth\":2},\"scene\":{\"xaxis\":{\"backgroundcolor\":\"#E5ECF6\",\"gridcolor\":\"white\",\"linecolor\":\"white\",\"showbackground\":true,\"ticks\":\"\",\"zerolinecolor\":\"white\",\"gridwidth\":2},\"yaxis\":{\"backgroundcolor\":\"#E5ECF6\",\"gridcolor\":\"white\",\"linecolor\":\"white\",\"showbackground\":true,\"ticks\":\"\",\"zerolinecolor\":\"white\",\"gridwidth\":2},\"zaxis\":{\"backgroundcolor\":\"#E5ECF6\",\"gridcolor\":\"white\",\"linecolor\":\"white\",\"showbackground\":true,\"ticks\":\"\",\"zerolinecolor\":\"white\",\"gridwidth\":2}},\"shapedefaults\":{\"line\":{\"color\":\"#2a3f5f\"}},\"annotationdefaults\":{\"arrowcolor\":\"#2a3f5f\",\"arrowhead\":0,\"arrowwidth\":1},\"geo\":{\"bgcolor\":\"white\",\"landcolor\":\"#E5ECF6\",\"subunitcolor\":\"white\",\"showland\":true,\"showlakes\":true,\"lakecolor\":\"white\"},\"title\":{\"x\":0.05},\"mapbox\":{\"style\":\"light\"}}},\"xaxis\":{\"anchor\":\"y\",\"domain\":[0.0,1.0],\"title\":{\"text\":\"Year\"}},\"yaxis\":{\"anchor\":\"x\",\"domain\":[0.0,1.0],\"title\":{\"text\":\"Population\"}},\"legend\":{\"title\":{\"text\":\"Region\"},\"tracegroupgap\":0,\"x\":1.02,\"y\":1,\"xanchor\":\"left\"},\"title\":{\"text\":\"Population Growth by Region 2020 to 2025\",\"x\":0.5}},                        {\"responsive\": true}                    ).then(function(){\n",
       "                            \n",
       "var gd = document.getElementById('00e0f302-b564-4851-a119-c22be1e9f6ca');\n",
       "var x = new MutationObserver(function (mutations, observer) {{\n",
       "        var display = window.getComputedStyle(gd).display;\n",
       "        if (!display || display === 'none') {{\n",
       "            console.log([gd, 'removed!']);\n",
       "            Plotly.purge(gd);\n",
       "            observer.disconnect();\n",
       "        }}\n",
       "}});\n",
       "\n",
       "// Listen for the removal of the full notebook cells\n",
       "var notebookContainer = gd.closest('#notebook-container');\n",
       "if (notebookContainer) {{\n",
       "    x.observe(notebookContainer, {childList: true});\n",
       "}}\n",
       "\n",
       "// Listen for the clearing of the current output cell\n",
       "var outputEl = gd.closest('.output');\n",
       "if (outputEl) {{\n",
       "    x.observe(outputEl, {childList: true});\n",
       "}}\n",
       "\n",
       "                        })                };                            </script>        </div>\n",
       "</body>\n",
       "</html>"
      ]
     },
     "metadata": {},
     "output_type": "display_data"
    }
   ],
   "source": [
    "region_growth = df.groupby('Region')[years].sum().reset_index()\n",
    "long_df = region_growth.melt(id_vars='Region', var_name='Year', value_name='Population')\n",
    "long_df['Year'] = long_df['Year'].astype(int)\n",
    "\n",
    "cubehelix_colors = sns.cubehelix_palette(18, start=0.5, rot=-.75).as_hex()\n",
    "\n",
    "fig = px.line(long_df, x='Year', y='Population', color='Region', markers=True,\n",
    "              title='Population Growth by Region 2020 to 2025',\n",
    "              color_discrete_sequence=cubehelix_colors)\n",
    "\n",
    "fig.update_layout(\n",
    "    title_x=0.5,\n",
    "    legend_title_text='Region',\n",
    "    legend=dict(x=1.02, y=1, xanchor='left')\n",
    ")\n",
    "\n",
    "fig.show()"
   ]
  },
  {
   "cell_type": "markdown",
   "id": "a5f25e56",
   "metadata": {
    "papermill": {
     "duration": 0.007252,
     "end_time": "2025-07-30T02:20:29.024047",
     "exception": false,
     "start_time": "2025-07-30T02:20:29.016795",
     "status": "completed"
    },
    "tags": []
   },
   "source": [
    "- What are the percentage growth of the Provinces in the Philippines from 2020 to 2025?"
   ]
  },
  {
   "cell_type": "code",
   "execution_count": 14,
   "id": "07609514",
   "metadata": {
    "execution": {
     "iopub.execute_input": "2025-07-30T02:20:29.040517Z",
     "iopub.status.busy": "2025-07-30T02:20:29.040156Z",
     "iopub.status.idle": "2025-07-30T02:20:29.065132Z",
     "shell.execute_reply": "2025-07-30T02:20:29.063933Z"
    },
    "papermill": {
     "duration": 0.035382,
     "end_time": "2025-07-30T02:20:29.066902",
     "exception": false,
     "start_time": "2025-07-30T02:20:29.031520",
     "status": "completed"
    },
    "tags": []
   },
   "outputs": [
    {
     "data": {
      "text/html": [
       "<div>\n",
       "<style scoped>\n",
       "    .dataframe tbody tr th:only-of-type {\n",
       "        vertical-align: middle;\n",
       "    }\n",
       "\n",
       "    .dataframe tbody tr th {\n",
       "        vertical-align: top;\n",
       "    }\n",
       "\n",
       "    .dataframe thead th {\n",
       "        text-align: right;\n",
       "    }\n",
       "</style>\n",
       "<table border=\"1\" class=\"dataframe\">\n",
       "  <thead>\n",
       "    <tr style=\"text-align: right;\">\n",
       "      <th></th>\n",
       "      <th>Province</th>\n",
       "      <th>Region</th>\n",
       "      <th>2020</th>\n",
       "      <th>2021</th>\n",
       "      <th>2022</th>\n",
       "      <th>2023</th>\n",
       "      <th>2024</th>\n",
       "      <th>2025</th>\n",
       "      <th>Absolute Growth</th>\n",
       "      <th>Percentage Growth</th>\n",
       "    </tr>\n",
       "  </thead>\n",
       "  <tbody>\n",
       "    <tr>\n",
       "      <th>0</th>\n",
       "      <td>Maguindanao</td>\n",
       "      <td>Autonomous Region in Muslim Mindanao (ARMM)</td>\n",
       "      <td>1323051</td>\n",
       "      <td>1355938</td>\n",
       "      <td>1389642</td>\n",
       "      <td>1424161</td>\n",
       "      <td>1459585</td>\n",
       "      <td>1495725</td>\n",
       "      <td>172674</td>\n",
       "      <td>13.051198</td>\n",
       "    </tr>\n",
       "    <tr>\n",
       "      <th>1</th>\n",
       "      <td>Batangas</td>\n",
       "      <td>Region IV-A (CALABARZON)</td>\n",
       "      <td>3033730</td>\n",
       "      <td>3107922</td>\n",
       "      <td>3183932</td>\n",
       "      <td>3261749</td>\n",
       "      <td>3341600</td>\n",
       "      <td>3423043</td>\n",
       "      <td>389313</td>\n",
       "      <td>12.832816</td>\n",
       "    </tr>\n",
       "    <tr>\n",
       "      <th>2</th>\n",
       "      <td>Basilan</td>\n",
       "      <td>Autonomous Region in Muslim Mindanao (ARMM)</td>\n",
       "      <td>386697</td>\n",
       "      <td>395488</td>\n",
       "      <td>404492</td>\n",
       "      <td>413711</td>\n",
       "      <td>423165</td>\n",
       "      <td>432807</td>\n",
       "      <td>46110</td>\n",
       "      <td>11.924065</td>\n",
       "    </tr>\n",
       "    <tr>\n",
       "      <th>3</th>\n",
       "      <td>Davao Del Sur</td>\n",
       "      <td>Region XI (Davao Region)</td>\n",
       "      <td>2520852</td>\n",
       "      <td>2576356</td>\n",
       "      <td>2633054</td>\n",
       "      <td>2690969</td>\n",
       "      <td>2750249</td>\n",
       "      <td>2810574</td>\n",
       "      <td>289722</td>\n",
       "      <td>11.493019</td>\n",
       "    </tr>\n",
       "    <tr>\n",
       "      <th>4</th>\n",
       "      <td>Sulu</td>\n",
       "      <td>Autonomous Region in Muslim Mindanao (ARMM)</td>\n",
       "      <td>913590</td>\n",
       "      <td>932941</td>\n",
       "      <td>952738</td>\n",
       "      <td>972981</td>\n",
       "      <td>993722</td>\n",
       "      <td>1014855</td>\n",
       "      <td>101265</td>\n",
       "      <td>11.084294</td>\n",
       "    </tr>\n",
       "    <tr>\n",
       "      <th>5</th>\n",
       "      <td>Cavite</td>\n",
       "      <td>Region IV-A (CALABARZON)</td>\n",
       "      <td>4210866</td>\n",
       "      <td>4305595</td>\n",
       "      <td>4395803</td>\n",
       "      <td>4481490</td>\n",
       "      <td>4562863</td>\n",
       "      <td>4639488</td>\n",
       "      <td>428622</td>\n",
       "      <td>10.178951</td>\n",
       "    </tr>\n",
       "    <tr>\n",
       "      <th>6</th>\n",
       "      <td>Lanao Del Sur</td>\n",
       "      <td>Autonomous Region in Muslim Mindanao (ARMM)</td>\n",
       "      <td>1146287</td>\n",
       "      <td>1168123</td>\n",
       "      <td>1190440</td>\n",
       "      <td>1213248</td>\n",
       "      <td>1236601</td>\n",
       "      <td>1260369</td>\n",
       "      <td>114082</td>\n",
       "      <td>9.952307</td>\n",
       "    </tr>\n",
       "    <tr>\n",
       "      <th>7</th>\n",
       "      <td>Nueva Ecija</td>\n",
       "      <td>Region III (Central Luzon)</td>\n",
       "      <td>2355414</td>\n",
       "      <td>2399251</td>\n",
       "      <td>2443879</td>\n",
       "      <td>2489310</td>\n",
       "      <td>2535669</td>\n",
       "      <td>2582693</td>\n",
       "      <td>227279</td>\n",
       "      <td>9.649217</td>\n",
       "    </tr>\n",
       "    <tr>\n",
       "      <th>8</th>\n",
       "      <td>City Of Isabela (Not A Province)</td>\n",
       "      <td>Region IX (Zamboanga Peninsula)</td>\n",
       "      <td>127728</td>\n",
       "      <td>130380</td>\n",
       "      <td>132907</td>\n",
       "      <td>135305</td>\n",
       "      <td>137579</td>\n",
       "      <td>139720</td>\n",
       "      <td>11992</td>\n",
       "      <td>9.388701</td>\n",
       "    </tr>\n",
       "    <tr>\n",
       "      <th>9</th>\n",
       "      <td>Surigao Del Norte</td>\n",
       "      <td>Region XIII (Caraga)</td>\n",
       "      <td>528148</td>\n",
       "      <td>537395</td>\n",
       "      <td>546800</td>\n",
       "      <td>556375</td>\n",
       "      <td>566140</td>\n",
       "      <td>576038</td>\n",
       "      <td>47890</td>\n",
       "      <td>9.067534</td>\n",
       "    </tr>\n",
       "  </tbody>\n",
       "</table>\n",
       "</div>"
      ],
      "text/plain": [
       "                           Province  \\\n",
       "0                       Maguindanao   \n",
       "1                          Batangas   \n",
       "2                           Basilan   \n",
       "3                     Davao Del Sur   \n",
       "4                              Sulu   \n",
       "5                            Cavite   \n",
       "6                     Lanao Del Sur   \n",
       "7                       Nueva Ecija   \n",
       "8  City Of Isabela (Not A Province)   \n",
       "9                 Surigao Del Norte   \n",
       "\n",
       "                                        Region     2020     2021     2022  \\\n",
       "0  Autonomous Region in Muslim Mindanao (ARMM)  1323051  1355938  1389642   \n",
       "1                     Region IV-A (CALABARZON)  3033730  3107922  3183932   \n",
       "2  Autonomous Region in Muslim Mindanao (ARMM)   386697   395488   404492   \n",
       "3                     Region XI (Davao Region)  2520852  2576356  2633054   \n",
       "4  Autonomous Region in Muslim Mindanao (ARMM)   913590   932941   952738   \n",
       "5                     Region IV-A (CALABARZON)  4210866  4305595  4395803   \n",
       "6  Autonomous Region in Muslim Mindanao (ARMM)  1146287  1168123  1190440   \n",
       "7                   Region III (Central Luzon)  2355414  2399251  2443879   \n",
       "8              Region IX (Zamboanga Peninsula)   127728   130380   132907   \n",
       "9                         Region XIII (Caraga)   528148   537395   546800   \n",
       "\n",
       "      2023     2024     2025  Absolute Growth  Percentage Growth  \n",
       "0  1424161  1459585  1495725           172674          13.051198  \n",
       "1  3261749  3341600  3423043           389313          12.832816  \n",
       "2   413711   423165   432807            46110          11.924065  \n",
       "3  2690969  2750249  2810574           289722          11.493019  \n",
       "4   972981   993722  1014855           101265          11.084294  \n",
       "5  4481490  4562863  4639488           428622          10.178951  \n",
       "6  1213248  1236601  1260369           114082           9.952307  \n",
       "7  2489310  2535669  2582693           227279           9.649217  \n",
       "8   135305   137579   139720            11992           9.388701  \n",
       "9   556375   566140   576038            47890           9.067534  "
      ]
     },
     "execution_count": 14,
     "metadata": {},
     "output_type": "execute_result"
    }
   ],
   "source": [
    "province_growth = df.groupby(['Province', 'Region'])[years].sum().reset_index()\n",
    "\n",
    "province_growth['Absolute Growth'] = province_growth['2025'] - province_growth['2020']\n",
    "province_growth['Percentage Growth'] = ((province_growth['2025'] - province_growth['2020']) / province_growth['2020']) * 100\n",
    "\n",
    "ordered_cols = ['Province', 'Region'] + years + ['Absolute Growth', 'Percentage Growth']\n",
    "\n",
    "top_province_growth = province_growth[ordered_cols].sort_values(by='Percentage Growth', ascending=False).reset_index(drop=True)\n",
    "\n",
    "top_province_growth.head(10)"
   ]
  },
  {
   "cell_type": "markdown",
   "id": "22aa6f08",
   "metadata": {
    "papermill": {
     "duration": 0.0078,
     "end_time": "2025-07-30T02:20:29.082603",
     "exception": false,
     "start_time": "2025-07-30T02:20:29.074803",
     "status": "completed"
    },
    "tags": []
   },
   "source": [
    "- What are the percentage growth per regions?"
   ]
  },
  {
   "cell_type": "code",
   "execution_count": 15,
   "id": "ebf3f636",
   "metadata": {
    "execution": {
     "iopub.execute_input": "2025-07-30T02:20:29.100955Z",
     "iopub.status.busy": "2025-07-30T02:20:29.100561Z",
     "iopub.status.idle": "2025-07-30T02:20:29.123009Z",
     "shell.execute_reply": "2025-07-30T02:20:29.121941Z"
    },
    "papermill": {
     "duration": 0.034046,
     "end_time": "2025-07-30T02:20:29.124547",
     "exception": false,
     "start_time": "2025-07-30T02:20:29.090501",
     "status": "completed"
    },
    "tags": []
   },
   "outputs": [
    {
     "data": {
      "text/html": [
       "<div>\n",
       "<style scoped>\n",
       "    .dataframe tbody tr th:only-of-type {\n",
       "        vertical-align: middle;\n",
       "    }\n",
       "\n",
       "    .dataframe tbody tr th {\n",
       "        vertical-align: top;\n",
       "    }\n",
       "\n",
       "    .dataframe thead th {\n",
       "        text-align: right;\n",
       "    }\n",
       "</style>\n",
       "<table border=\"1\" class=\"dataframe\">\n",
       "  <thead>\n",
       "    <tr style=\"text-align: right;\">\n",
       "      <th></th>\n",
       "      <th>Region</th>\n",
       "      <th>2020</th>\n",
       "      <th>2021</th>\n",
       "      <th>2022</th>\n",
       "      <th>2023</th>\n",
       "      <th>2024</th>\n",
       "      <th>2025</th>\n",
       "      <th>Absolute Growth</th>\n",
       "      <th>Percentage Growth</th>\n",
       "    </tr>\n",
       "  </thead>\n",
       "  <tbody>\n",
       "    <tr>\n",
       "      <th>0</th>\n",
       "      <td>Autonomous Region in Muslim Mindanao (ARMM)</td>\n",
       "      <td>4183315</td>\n",
       "      <td>4270192</td>\n",
       "      <td>4358835</td>\n",
       "      <td>4449234</td>\n",
       "      <td>4541633</td>\n",
       "      <td>4635526</td>\n",
       "      <td>452211</td>\n",
       "      <td>10.809872</td>\n",
       "    </tr>\n",
       "    <tr>\n",
       "      <th>1</th>\n",
       "      <td>Region IV-A (CALABARZON)</td>\n",
       "      <td>16057291</td>\n",
       "      <td>16361101</td>\n",
       "      <td>16654979</td>\n",
       "      <td>16938895</td>\n",
       "      <td>17213592</td>\n",
       "      <td>17477567</td>\n",
       "      <td>1420276</td>\n",
       "      <td>8.845054</td>\n",
       "    </tr>\n",
       "    <tr>\n",
       "      <th>2</th>\n",
       "      <td>Region XI (Davao Region)</td>\n",
       "      <td>5290867</td>\n",
       "      <td>5371252</td>\n",
       "      <td>5451446</td>\n",
       "      <td>5531465</td>\n",
       "      <td>5611525</td>\n",
       "      <td>5691180</td>\n",
       "      <td>400313</td>\n",
       "      <td>7.566113</td>\n",
       "    </tr>\n",
       "    <tr>\n",
       "      <th>3</th>\n",
       "      <td>Region III (Central Luzon)</td>\n",
       "      <td>12313714</td>\n",
       "      <td>12513845</td>\n",
       "      <td>12706461</td>\n",
       "      <td>12891544</td>\n",
       "      <td>13069623</td>\n",
       "      <td>13239668</td>\n",
       "      <td>925954</td>\n",
       "      <td>7.519697</td>\n",
       "    </tr>\n",
       "    <tr>\n",
       "      <th>4</th>\n",
       "      <td>Region VIII (Eastern Visayas)</td>\n",
       "      <td>4742342</td>\n",
       "      <td>4803767</td>\n",
       "      <td>4865154</td>\n",
       "      <td>4926496</td>\n",
       "      <td>4987964</td>\n",
       "      <td>5049228</td>\n",
       "      <td>306886</td>\n",
       "      <td>6.471191</td>\n",
       "    </tr>\n",
       "    <tr>\n",
       "      <th>5</th>\n",
       "      <td>Region XII (SOCCSKSARGEN)</td>\n",
       "      <td>4919935</td>\n",
       "      <td>4985880</td>\n",
       "      <td>5048332</td>\n",
       "      <td>5107292</td>\n",
       "      <td>5162939</td>\n",
       "      <td>5214934</td>\n",
       "      <td>294999</td>\n",
       "      <td>5.995994</td>\n",
       "    </tr>\n",
       "    <tr>\n",
       "      <th>6</th>\n",
       "      <td>Region VII (Central Visayas)</td>\n",
       "      <td>7957045</td>\n",
       "      <td>8054770</td>\n",
       "      <td>8147077</td>\n",
       "      <td>8233964</td>\n",
       "      <td>8315667</td>\n",
       "      <td>8391706</td>\n",
       "      <td>434661</td>\n",
       "      <td>5.462593</td>\n",
       "    </tr>\n",
       "    <tr>\n",
       "      <th>7</th>\n",
       "      <td>Region IV-B (MIMAROPA)</td>\n",
       "      <td>3174856</td>\n",
       "      <td>3212216</td>\n",
       "      <td>3247677</td>\n",
       "      <td>3281252</td>\n",
       "      <td>3313032</td>\n",
       "      <td>3342831</td>\n",
       "      <td>167975</td>\n",
       "      <td>5.290791</td>\n",
       "    </tr>\n",
       "    <tr>\n",
       "      <th>8</th>\n",
       "      <td>National Capital Region (NCR)</td>\n",
       "      <td>13804656</td>\n",
       "      <td>13966223</td>\n",
       "      <td>14118676</td>\n",
       "      <td>14262004</td>\n",
       "      <td>14396580</td>\n",
       "      <td>14521657</td>\n",
       "      <td>717001</td>\n",
       "      <td>5.193907</td>\n",
       "    </tr>\n",
       "    <tr>\n",
       "      <th>9</th>\n",
       "      <td>Region X (Northern Mindanao)</td>\n",
       "      <td>5017050</td>\n",
       "      <td>5074560</td>\n",
       "      <td>5128966</td>\n",
       "      <td>5180239</td>\n",
       "      <td>5228550</td>\n",
       "      <td>5273601</td>\n",
       "      <td>256551</td>\n",
       "      <td>5.113583</td>\n",
       "    </tr>\n",
       "    <tr>\n",
       "      <th>10</th>\n",
       "      <td>Region XIII (Caraga)</td>\n",
       "      <td>2753107</td>\n",
       "      <td>2782217</td>\n",
       "      <td>2810432</td>\n",
       "      <td>2837739</td>\n",
       "      <td>2864202</td>\n",
       "      <td>2889689</td>\n",
       "      <td>136582</td>\n",
       "      <td>4.961013</td>\n",
       "    </tr>\n",
       "    <tr>\n",
       "      <th>11</th>\n",
       "      <td>Region II (Cagayan Valley)</td>\n",
       "      <td>3657746</td>\n",
       "      <td>3693667</td>\n",
       "      <td>3727545</td>\n",
       "      <td>3759422</td>\n",
       "      <td>3789328</td>\n",
       "      <td>3817142</td>\n",
       "      <td>159396</td>\n",
       "      <td>4.357766</td>\n",
       "    </tr>\n",
       "    <tr>\n",
       "      <th>12</th>\n",
       "      <td>Region V (Bicol Region)</td>\n",
       "      <td>6133835</td>\n",
       "      <td>6192917</td>\n",
       "      <td>6248837</td>\n",
       "      <td>6301589</td>\n",
       "      <td>6351296</td>\n",
       "      <td>6397690</td>\n",
       "      <td>263855</td>\n",
       "      <td>4.301632</td>\n",
       "    </tr>\n",
       "    <tr>\n",
       "      <th>13</th>\n",
       "      <td>Region VI (Western Visayas)</td>\n",
       "      <td>7904895</td>\n",
       "      <td>7970551</td>\n",
       "      <td>8033039</td>\n",
       "      <td>8092361</td>\n",
       "      <td>8148699</td>\n",
       "      <td>8201700</td>\n",
       "      <td>296805</td>\n",
       "      <td>3.754699</td>\n",
       "    </tr>\n",
       "    <tr>\n",
       "      <th>14</th>\n",
       "      <td>Cordillera Administrative Region (CAR)</td>\n",
       "      <td>1807739</td>\n",
       "      <td>1822716</td>\n",
       "      <td>1836855</td>\n",
       "      <td>1850153</td>\n",
       "      <td>1862657</td>\n",
       "      <td>1874281</td>\n",
       "      <td>66542</td>\n",
       "      <td>3.680952</td>\n",
       "    </tr>\n",
       "    <tr>\n",
       "      <th>15</th>\n",
       "      <td>Region I (Ilocos Region)</td>\n",
       "      <td>5270807</td>\n",
       "      <td>5313220</td>\n",
       "      <td>5353137</td>\n",
       "      <td>5390568</td>\n",
       "      <td>5425604</td>\n",
       "      <td>5458061</td>\n",
       "      <td>187254</td>\n",
       "      <td>3.552663</td>\n",
       "    </tr>\n",
       "    <tr>\n",
       "      <th>16</th>\n",
       "      <td>Region IX (Zamboanga Peninsula)</td>\n",
       "      <td>3782761</td>\n",
       "      <td>3809536</td>\n",
       "      <td>3834797</td>\n",
       "      <td>3858551</td>\n",
       "      <td>3880824</td>\n",
       "      <td>3901530</td>\n",
       "      <td>118769</td>\n",
       "      <td>3.139744</td>\n",
       "    </tr>\n",
       "  </tbody>\n",
       "</table>\n",
       "</div>"
      ],
      "text/plain": [
       "                                         Region      2020      2021      2022  \\\n",
       "0   Autonomous Region in Muslim Mindanao (ARMM)   4183315   4270192   4358835   \n",
       "1                      Region IV-A (CALABARZON)  16057291  16361101  16654979   \n",
       "2                      Region XI (Davao Region)   5290867   5371252   5451446   \n",
       "3                    Region III (Central Luzon)  12313714  12513845  12706461   \n",
       "4                 Region VIII (Eastern Visayas)   4742342   4803767   4865154   \n",
       "5                     Region XII (SOCCSKSARGEN)   4919935   4985880   5048332   \n",
       "6                  Region VII (Central Visayas)   7957045   8054770   8147077   \n",
       "7                        Region IV-B (MIMAROPA)   3174856   3212216   3247677   \n",
       "8                 National Capital Region (NCR)  13804656  13966223  14118676   \n",
       "9                  Region X (Northern Mindanao)   5017050   5074560   5128966   \n",
       "10                         Region XIII (Caraga)   2753107   2782217   2810432   \n",
       "11                   Region II (Cagayan Valley)   3657746   3693667   3727545   \n",
       "12                      Region V (Bicol Region)   6133835   6192917   6248837   \n",
       "13                  Region VI (Western Visayas)   7904895   7970551   8033039   \n",
       "14       Cordillera Administrative Region (CAR)   1807739   1822716   1836855   \n",
       "15                     Region I (Ilocos Region)   5270807   5313220   5353137   \n",
       "16              Region IX (Zamboanga Peninsula)   3782761   3809536   3834797   \n",
       "\n",
       "        2023      2024      2025  Absolute Growth  Percentage Growth  \n",
       "0    4449234   4541633   4635526           452211          10.809872  \n",
       "1   16938895  17213592  17477567          1420276           8.845054  \n",
       "2    5531465   5611525   5691180           400313           7.566113  \n",
       "3   12891544  13069623  13239668           925954           7.519697  \n",
       "4    4926496   4987964   5049228           306886           6.471191  \n",
       "5    5107292   5162939   5214934           294999           5.995994  \n",
       "6    8233964   8315667   8391706           434661           5.462593  \n",
       "7    3281252   3313032   3342831           167975           5.290791  \n",
       "8   14262004  14396580  14521657           717001           5.193907  \n",
       "9    5180239   5228550   5273601           256551           5.113583  \n",
       "10   2837739   2864202   2889689           136582           4.961013  \n",
       "11   3759422   3789328   3817142           159396           4.357766  \n",
       "12   6301589   6351296   6397690           263855           4.301632  \n",
       "13   8092361   8148699   8201700           296805           3.754699  \n",
       "14   1850153   1862657   1874281            66542           3.680952  \n",
       "15   5390568   5425604   5458061           187254           3.552663  \n",
       "16   3858551   3880824   3901530           118769           3.139744  "
      ]
     },
     "execution_count": 15,
     "metadata": {},
     "output_type": "execute_result"
    }
   ],
   "source": [
    "region_growth = df.groupby('Region')[years].sum().reset_index()\n",
    "\n",
    "region_growth['Absolute Growth'] = region_growth['2025'] - region_growth['2020']\n",
    "region_growth['Percentage Growth'] = ((region_growth['2025'] - region_growth['2020']) / region_growth['2020']) * 100\n",
    "\n",
    "ordered_cols = ['Region'] + years + ['Absolute Growth', 'Percentage Growth']\n",
    "\n",
    "region_growth_df = region_growth[ordered_cols].sort_values(by='Percentage Growth', ascending=False).reset_index(drop=True)\n",
    "\n",
    "region_growth_df"
   ]
  },
  {
   "cell_type": "code",
   "execution_count": 16,
   "id": "5f5ae1d2",
   "metadata": {
    "execution": {
     "iopub.execute_input": "2025-07-30T02:20:29.143259Z",
     "iopub.status.busy": "2025-07-30T02:20:29.142134Z",
     "iopub.status.idle": "2025-07-30T02:20:29.259980Z",
     "shell.execute_reply": "2025-07-30T02:20:29.258889Z"
    },
    "papermill": {
     "duration": 0.129425,
     "end_time": "2025-07-30T02:20:29.262315",
     "exception": false,
     "start_time": "2025-07-30T02:20:29.132890",
     "status": "completed"
    },
    "tags": []
   },
   "outputs": [
    {
     "data": {
      "text/html": [
       "<html>\n",
       "<head><meta charset=\"utf-8\" /></head>\n",
       "<body>\n",
       "    <div>            <script src=\"https://cdnjs.cloudflare.com/ajax/libs/mathjax/2.7.5/MathJax.js?config=TeX-AMS-MML_SVG\"></script><script type=\"text/javascript\">if (window.MathJax && window.MathJax.Hub && window.MathJax.Hub.Config) {window.MathJax.Hub.Config({SVG: {font: \"STIX-Web\"}});}</script>                <script type=\"text/javascript\">window.PlotlyConfig = {MathJaxConfig: 'local'};</script>\n",
       "        <script charset=\"utf-8\" src=\"https://cdn.plot.ly/plotly-2.35.2.min.js\"></script>                <div id=\"0e466a9b-32ea-4313-9169-d2d444e18e21\" class=\"plotly-graph-div\" style=\"height:525px; width:100%;\"></div>            <script type=\"text/javascript\">                                    window.PLOTLYENV=window.PLOTLYENV || {};                                    if (document.getElementById(\"0e466a9b-32ea-4313-9169-d2d444e18e21\")) {                    Plotly.newPlot(                        \"0e466a9b-32ea-4313-9169-d2d444e18e21\",                        [{\"alignmentgroup\":\"True\",\"hovertemplate\":\"Percentage Growth=%{marker.color}\\u003cbr\\u003eRegion=%{y}\\u003cextra\\u003e\\u003c\\u002fextra\\u003e\",\"legendgroup\":\"\",\"marker\":{\"color\":[10.809872075136584,8.845053627040825,7.566113455507387,7.519697144175998,6.471190816689306,5.99599384951224,5.4625932114245925,5.290791141393499,5.193907041218557,5.113582683050797,4.961013138973531,4.357765684112565,4.3016318502209465,3.754698829016704,3.6809517303106256,3.552662808560435,3.1397436951475393],\"coloraxis\":\"coloraxis\",\"pattern\":{\"shape\":\"\"}},\"name\":\"\",\"offsetgroup\":\"\",\"orientation\":\"h\",\"showlegend\":false,\"textposition\":\"auto\",\"x\":[10.809872075136584,8.845053627040825,7.566113455507387,7.519697144175998,6.471190816689306,5.99599384951224,5.4625932114245925,5.290791141393499,5.193907041218557,5.113582683050797,4.961013138973531,4.357765684112565,4.3016318502209465,3.754698829016704,3.6809517303106256,3.552662808560435,3.1397436951475393],\"xaxis\":\"x\",\"y\":[\"Autonomous Region in Muslim Mindanao (ARMM)\",\"Region IV-A (CALABARZON)\",\"Region XI (Davao Region)\",\"Region III (Central Luzon)\",\"Region VIII (Eastern Visayas)\",\"Region XII (SOCCSKSARGEN)\",\"Region VII (Central Visayas)\",\"Region IV-B (MIMAROPA)\",\"National Capital Region (NCR)\",\"Region X (Northern Mindanao)\",\"Region XIII (Caraga)\",\"Region II (Cagayan Valley)\",\"Region V (Bicol Region)\",\"Region VI (Western Visayas)\",\"Cordillera Administrative Region (CAR)\",\"Region I (Ilocos Region)\",\"Region IX (Zamboanga Peninsula)\"],\"yaxis\":\"y\",\"type\":\"bar\"}],                        {\"template\":{\"data\":{\"histogram2dcontour\":[{\"type\":\"histogram2dcontour\",\"colorbar\":{\"outlinewidth\":0,\"ticks\":\"\"},\"colorscale\":[[0.0,\"#0d0887\"],[0.1111111111111111,\"#46039f\"],[0.2222222222222222,\"#7201a8\"],[0.3333333333333333,\"#9c179e\"],[0.4444444444444444,\"#bd3786\"],[0.5555555555555556,\"#d8576b\"],[0.6666666666666666,\"#ed7953\"],[0.7777777777777778,\"#fb9f3a\"],[0.8888888888888888,\"#fdca26\"],[1.0,\"#f0f921\"]]}],\"choropleth\":[{\"type\":\"choropleth\",\"colorbar\":{\"outlinewidth\":0,\"ticks\":\"\"}}],\"histogram2d\":[{\"type\":\"histogram2d\",\"colorbar\":{\"outlinewidth\":0,\"ticks\":\"\"},\"colorscale\":[[0.0,\"#0d0887\"],[0.1111111111111111,\"#46039f\"],[0.2222222222222222,\"#7201a8\"],[0.3333333333333333,\"#9c179e\"],[0.4444444444444444,\"#bd3786\"],[0.5555555555555556,\"#d8576b\"],[0.6666666666666666,\"#ed7953\"],[0.7777777777777778,\"#fb9f3a\"],[0.8888888888888888,\"#fdca26\"],[1.0,\"#f0f921\"]]}],\"heatmap\":[{\"type\":\"heatmap\",\"colorbar\":{\"outlinewidth\":0,\"ticks\":\"\"},\"colorscale\":[[0.0,\"#0d0887\"],[0.1111111111111111,\"#46039f\"],[0.2222222222222222,\"#7201a8\"],[0.3333333333333333,\"#9c179e\"],[0.4444444444444444,\"#bd3786\"],[0.5555555555555556,\"#d8576b\"],[0.6666666666666666,\"#ed7953\"],[0.7777777777777778,\"#fb9f3a\"],[0.8888888888888888,\"#fdca26\"],[1.0,\"#f0f921\"]]}],\"heatmapgl\":[{\"type\":\"heatmapgl\",\"colorbar\":{\"outlinewidth\":0,\"ticks\":\"\"},\"colorscale\":[[0.0,\"#0d0887\"],[0.1111111111111111,\"#46039f\"],[0.2222222222222222,\"#7201a8\"],[0.3333333333333333,\"#9c179e\"],[0.4444444444444444,\"#bd3786\"],[0.5555555555555556,\"#d8576b\"],[0.6666666666666666,\"#ed7953\"],[0.7777777777777778,\"#fb9f3a\"],[0.8888888888888888,\"#fdca26\"],[1.0,\"#f0f921\"]]}],\"contourcarpet\":[{\"type\":\"contourcarpet\",\"colorbar\":{\"outlinewidth\":0,\"ticks\":\"\"}}],\"contour\":[{\"type\":\"contour\",\"colorbar\":{\"outlinewidth\":0,\"ticks\":\"\"},\"colorscale\":[[0.0,\"#0d0887\"],[0.1111111111111111,\"#46039f\"],[0.2222222222222222,\"#7201a8\"],[0.3333333333333333,\"#9c179e\"],[0.4444444444444444,\"#bd3786\"],[0.5555555555555556,\"#d8576b\"],[0.6666666666666666,\"#ed7953\"],[0.7777777777777778,\"#fb9f3a\"],[0.8888888888888888,\"#fdca26\"],[1.0,\"#f0f921\"]]}],\"surface\":[{\"type\":\"surface\",\"colorbar\":{\"outlinewidth\":0,\"ticks\":\"\"},\"colorscale\":[[0.0,\"#0d0887\"],[0.1111111111111111,\"#46039f\"],[0.2222222222222222,\"#7201a8\"],[0.3333333333333333,\"#9c179e\"],[0.4444444444444444,\"#bd3786\"],[0.5555555555555556,\"#d8576b\"],[0.6666666666666666,\"#ed7953\"],[0.7777777777777778,\"#fb9f3a\"],[0.8888888888888888,\"#fdca26\"],[1.0,\"#f0f921\"]]}],\"mesh3d\":[{\"type\":\"mesh3d\",\"colorbar\":{\"outlinewidth\":0,\"ticks\":\"\"}}],\"scatter\":[{\"fillpattern\":{\"fillmode\":\"overlay\",\"size\":10,\"solidity\":0.2},\"type\":\"scatter\"}],\"parcoords\":[{\"type\":\"parcoords\",\"line\":{\"colorbar\":{\"outlinewidth\":0,\"ticks\":\"\"}}}],\"scatterpolargl\":[{\"type\":\"scatterpolargl\",\"marker\":{\"colorbar\":{\"outlinewidth\":0,\"ticks\":\"\"}}}],\"bar\":[{\"error_x\":{\"color\":\"#2a3f5f\"},\"error_y\":{\"color\":\"#2a3f5f\"},\"marker\":{\"line\":{\"color\":\"#E5ECF6\",\"width\":0.5},\"pattern\":{\"fillmode\":\"overlay\",\"size\":10,\"solidity\":0.2}},\"type\":\"bar\"}],\"scattergeo\":[{\"type\":\"scattergeo\",\"marker\":{\"colorbar\":{\"outlinewidth\":0,\"ticks\":\"\"}}}],\"scatterpolar\":[{\"type\":\"scatterpolar\",\"marker\":{\"colorbar\":{\"outlinewidth\":0,\"ticks\":\"\"}}}],\"histogram\":[{\"marker\":{\"pattern\":{\"fillmode\":\"overlay\",\"size\":10,\"solidity\":0.2}},\"type\":\"histogram\"}],\"scattergl\":[{\"type\":\"scattergl\",\"marker\":{\"colorbar\":{\"outlinewidth\":0,\"ticks\":\"\"}}}],\"scatter3d\":[{\"type\":\"scatter3d\",\"line\":{\"colorbar\":{\"outlinewidth\":0,\"ticks\":\"\"}},\"marker\":{\"colorbar\":{\"outlinewidth\":0,\"ticks\":\"\"}}}],\"scattermapbox\":[{\"type\":\"scattermapbox\",\"marker\":{\"colorbar\":{\"outlinewidth\":0,\"ticks\":\"\"}}}],\"scatterternary\":[{\"type\":\"scatterternary\",\"marker\":{\"colorbar\":{\"outlinewidth\":0,\"ticks\":\"\"}}}],\"scattercarpet\":[{\"type\":\"scattercarpet\",\"marker\":{\"colorbar\":{\"outlinewidth\":0,\"ticks\":\"\"}}}],\"carpet\":[{\"aaxis\":{\"endlinecolor\":\"#2a3f5f\",\"gridcolor\":\"white\",\"linecolor\":\"white\",\"minorgridcolor\":\"white\",\"startlinecolor\":\"#2a3f5f\"},\"baxis\":{\"endlinecolor\":\"#2a3f5f\",\"gridcolor\":\"white\",\"linecolor\":\"white\",\"minorgridcolor\":\"white\",\"startlinecolor\":\"#2a3f5f\"},\"type\":\"carpet\"}],\"table\":[{\"cells\":{\"fill\":{\"color\":\"#EBF0F8\"},\"line\":{\"color\":\"white\"}},\"header\":{\"fill\":{\"color\":\"#C8D4E3\"},\"line\":{\"color\":\"white\"}},\"type\":\"table\"}],\"barpolar\":[{\"marker\":{\"line\":{\"color\":\"#E5ECF6\",\"width\":0.5},\"pattern\":{\"fillmode\":\"overlay\",\"size\":10,\"solidity\":0.2}},\"type\":\"barpolar\"}],\"pie\":[{\"automargin\":true,\"type\":\"pie\"}]},\"layout\":{\"autotypenumbers\":\"strict\",\"colorway\":[\"#636efa\",\"#EF553B\",\"#00cc96\",\"#ab63fa\",\"#FFA15A\",\"#19d3f3\",\"#FF6692\",\"#B6E880\",\"#FF97FF\",\"#FECB52\"],\"font\":{\"color\":\"#2a3f5f\"},\"hovermode\":\"closest\",\"hoverlabel\":{\"align\":\"left\"},\"paper_bgcolor\":\"white\",\"plot_bgcolor\":\"#E5ECF6\",\"polar\":{\"bgcolor\":\"#E5ECF6\",\"angularaxis\":{\"gridcolor\":\"white\",\"linecolor\":\"white\",\"ticks\":\"\"},\"radialaxis\":{\"gridcolor\":\"white\",\"linecolor\":\"white\",\"ticks\":\"\"}},\"ternary\":{\"bgcolor\":\"#E5ECF6\",\"aaxis\":{\"gridcolor\":\"white\",\"linecolor\":\"white\",\"ticks\":\"\"},\"baxis\":{\"gridcolor\":\"white\",\"linecolor\":\"white\",\"ticks\":\"\"},\"caxis\":{\"gridcolor\":\"white\",\"linecolor\":\"white\",\"ticks\":\"\"}},\"coloraxis\":{\"colorbar\":{\"outlinewidth\":0,\"ticks\":\"\"}},\"colorscale\":{\"sequential\":[[0.0,\"#0d0887\"],[0.1111111111111111,\"#46039f\"],[0.2222222222222222,\"#7201a8\"],[0.3333333333333333,\"#9c179e\"],[0.4444444444444444,\"#bd3786\"],[0.5555555555555556,\"#d8576b\"],[0.6666666666666666,\"#ed7953\"],[0.7777777777777778,\"#fb9f3a\"],[0.8888888888888888,\"#fdca26\"],[1.0,\"#f0f921\"]],\"sequentialminus\":[[0.0,\"#0d0887\"],[0.1111111111111111,\"#46039f\"],[0.2222222222222222,\"#7201a8\"],[0.3333333333333333,\"#9c179e\"],[0.4444444444444444,\"#bd3786\"],[0.5555555555555556,\"#d8576b\"],[0.6666666666666666,\"#ed7953\"],[0.7777777777777778,\"#fb9f3a\"],[0.8888888888888888,\"#fdca26\"],[1.0,\"#f0f921\"]],\"diverging\":[[0,\"#8e0152\"],[0.1,\"#c51b7d\"],[0.2,\"#de77ae\"],[0.3,\"#f1b6da\"],[0.4,\"#fde0ef\"],[0.5,\"#f7f7f7\"],[0.6,\"#e6f5d0\"],[0.7,\"#b8e186\"],[0.8,\"#7fbc41\"],[0.9,\"#4d9221\"],[1,\"#276419\"]]},\"xaxis\":{\"gridcolor\":\"white\",\"linecolor\":\"white\",\"ticks\":\"\",\"title\":{\"standoff\":15},\"zerolinecolor\":\"white\",\"automargin\":true,\"zerolinewidth\":2},\"yaxis\":{\"gridcolor\":\"white\",\"linecolor\":\"white\",\"ticks\":\"\",\"title\":{\"standoff\":15},\"zerolinecolor\":\"white\",\"automargin\":true,\"zerolinewidth\":2},\"scene\":{\"xaxis\":{\"backgroundcolor\":\"#E5ECF6\",\"gridcolor\":\"white\",\"linecolor\":\"white\",\"showbackground\":true,\"ticks\":\"\",\"zerolinecolor\":\"white\",\"gridwidth\":2},\"yaxis\":{\"backgroundcolor\":\"#E5ECF6\",\"gridcolor\":\"white\",\"linecolor\":\"white\",\"showbackground\":true,\"ticks\":\"\",\"zerolinecolor\":\"white\",\"gridwidth\":2},\"zaxis\":{\"backgroundcolor\":\"#E5ECF6\",\"gridcolor\":\"white\",\"linecolor\":\"white\",\"showbackground\":true,\"ticks\":\"\",\"zerolinecolor\":\"white\",\"gridwidth\":2}},\"shapedefaults\":{\"line\":{\"color\":\"#2a3f5f\"}},\"annotationdefaults\":{\"arrowcolor\":\"#2a3f5f\",\"arrowhead\":0,\"arrowwidth\":1},\"geo\":{\"bgcolor\":\"white\",\"landcolor\":\"#E5ECF6\",\"subunitcolor\":\"white\",\"showland\":true,\"showlakes\":true,\"lakecolor\":\"white\"},\"title\":{\"x\":0.05},\"mapbox\":{\"style\":\"light\"}}},\"xaxis\":{\"anchor\":\"y\",\"domain\":[0.0,1.0],\"title\":{\"text\":\"Percentage Growth\"}},\"yaxis\":{\"anchor\":\"x\",\"domain\":[0.0,1.0],\"title\":{\"text\":\"Region\"},\"categoryorder\":\"total ascending\"},\"coloraxis\":{\"colorbar\":{\"title\":{\"text\":\"Percentage Growth\"}},\"colorscale\":[[0.0,\"#440154\"],[0.1111111111111111,\"#482878\"],[0.2222222222222222,\"#3e4989\"],[0.3333333333333333,\"#31688e\"],[0.4444444444444444,\"#26828e\"],[0.5555555555555556,\"#1f9e89\"],[0.6666666666666666,\"#35b779\"],[0.7777777777777778,\"#6ece58\"],[0.8888888888888888,\"#b5de2b\"],[1.0,\"#fde725\"]]},\"legend\":{\"tracegroupgap\":0},\"title\":{\"text\":\"Regional Population Growth Rate (2020–2025)\"},\"barmode\":\"relative\"},                        {\"responsive\": true}                    ).then(function(){\n",
       "                            \n",
       "var gd = document.getElementById('0e466a9b-32ea-4313-9169-d2d444e18e21');\n",
       "var x = new MutationObserver(function (mutations, observer) {{\n",
       "        var display = window.getComputedStyle(gd).display;\n",
       "        if (!display || display === 'none') {{\n",
       "            console.log([gd, 'removed!']);\n",
       "            Plotly.purge(gd);\n",
       "            observer.disconnect();\n",
       "        }}\n",
       "}});\n",
       "\n",
       "// Listen for the removal of the full notebook cells\n",
       "var notebookContainer = gd.closest('#notebook-container');\n",
       "if (notebookContainer) {{\n",
       "    x.observe(notebookContainer, {childList: true});\n",
       "}}\n",
       "\n",
       "// Listen for the clearing of the current output cell\n",
       "var outputEl = gd.closest('.output');\n",
       "if (outputEl) {{\n",
       "    x.observe(outputEl, {childList: true});\n",
       "}}\n",
       "\n",
       "                        })                };                            </script>        </div>\n",
       "</body>\n",
       "</html>"
      ]
     },
     "metadata": {},
     "output_type": "display_data"
    }
   ],
   "source": [
    "fig = px.bar(region_growth_df, \n",
    "             x='Percentage Growth', \n",
    "             y='Region', \n",
    "             orientation='h',\n",
    "             title='Regional Population Growth Rate (2020–2025)',\n",
    "             color='Percentage Growth', \n",
    "             color_continuous_scale='Viridis')\n",
    "\n",
    "fig.update_layout(yaxis={'categoryorder':'total ascending'})\n",
    "fig.show()"
   ]
  },
  {
   "cell_type": "markdown",
   "id": "e027c7a3",
   "metadata": {
    "papermill": {
     "duration": 0.012096,
     "end_time": "2025-07-30T02:20:29.285027",
     "exception": false,
     "start_time": "2025-07-30T02:20:29.272931",
     "status": "completed"
    },
    "tags": []
   },
   "source": [
    "-  Are there provinces or regions with declining populations?"
   ]
  },
  {
   "cell_type": "code",
   "execution_count": 17,
   "id": "44aadb43",
   "metadata": {
    "execution": {
     "iopub.execute_input": "2025-07-30T02:20:29.304670Z",
     "iopub.status.busy": "2025-07-30T02:20:29.304237Z",
     "iopub.status.idle": "2025-07-30T02:20:29.316701Z",
     "shell.execute_reply": "2025-07-30T02:20:29.315856Z"
    },
    "papermill": {
     "duration": 0.024507,
     "end_time": "2025-07-30T02:20:29.318726",
     "exception": false,
     "start_time": "2025-07-30T02:20:29.294219",
     "status": "completed"
    },
    "tags": []
   },
   "outputs": [
    {
     "data": {
      "text/html": [
       "<div>\n",
       "<style scoped>\n",
       "    .dataframe tbody tr th:only-of-type {\n",
       "        vertical-align: middle;\n",
       "    }\n",
       "\n",
       "    .dataframe tbody tr th {\n",
       "        vertical-align: top;\n",
       "    }\n",
       "\n",
       "    .dataframe thead th {\n",
       "        text-align: right;\n",
       "    }\n",
       "</style>\n",
       "<table border=\"1\" class=\"dataframe\">\n",
       "  <thead>\n",
       "    <tr style=\"text-align: right;\">\n",
       "      <th></th>\n",
       "      <th>Province</th>\n",
       "      <th>Region</th>\n",
       "      <th>2020</th>\n",
       "      <th>2021</th>\n",
       "      <th>2022</th>\n",
       "      <th>2023</th>\n",
       "      <th>2024</th>\n",
       "      <th>2025</th>\n",
       "      <th>Absolute Growth</th>\n",
       "      <th>Percentage Growth</th>\n",
       "    </tr>\n",
       "  </thead>\n",
       "  <tbody>\n",
       "  </tbody>\n",
       "</table>\n",
       "</div>"
      ],
      "text/plain": [
       "Empty DataFrame\n",
       "Columns: [Province, Region, 2020, 2021, 2022, 2023, 2024, 2025, Absolute Growth, Percentage Growth]\n",
       "Index: []"
      ]
     },
     "execution_count": 17,
     "metadata": {},
     "output_type": "execute_result"
    }
   ],
   "source": [
    "declining_provinces = top_province_growth[top_province_growth['Absolute Growth'] <= 0]\n",
    "declining_provinces"
   ]
  },
  {
   "cell_type": "code",
   "execution_count": 18,
   "id": "625bcbbc",
   "metadata": {
    "execution": {
     "iopub.execute_input": "2025-07-30T02:20:29.341256Z",
     "iopub.status.busy": "2025-07-30T02:20:29.340923Z",
     "iopub.status.idle": "2025-07-30T02:20:29.351909Z",
     "shell.execute_reply": "2025-07-30T02:20:29.350936Z"
    },
    "papermill": {
     "duration": 0.023611,
     "end_time": "2025-07-30T02:20:29.353885",
     "exception": false,
     "start_time": "2025-07-30T02:20:29.330274",
     "status": "completed"
    },
    "tags": []
   },
   "outputs": [
    {
     "data": {
      "text/html": [
       "<div>\n",
       "<style scoped>\n",
       "    .dataframe tbody tr th:only-of-type {\n",
       "        vertical-align: middle;\n",
       "    }\n",
       "\n",
       "    .dataframe tbody tr th {\n",
       "        vertical-align: top;\n",
       "    }\n",
       "\n",
       "    .dataframe thead th {\n",
       "        text-align: right;\n",
       "    }\n",
       "</style>\n",
       "<table border=\"1\" class=\"dataframe\">\n",
       "  <thead>\n",
       "    <tr style=\"text-align: right;\">\n",
       "      <th></th>\n",
       "      <th>Region</th>\n",
       "      <th>2020</th>\n",
       "      <th>2021</th>\n",
       "      <th>2022</th>\n",
       "      <th>2023</th>\n",
       "      <th>2024</th>\n",
       "      <th>2025</th>\n",
       "      <th>Absolute Growth</th>\n",
       "      <th>Percentage Growth</th>\n",
       "    </tr>\n",
       "  </thead>\n",
       "  <tbody>\n",
       "  </tbody>\n",
       "</table>\n",
       "</div>"
      ],
      "text/plain": [
       "Empty DataFrame\n",
       "Columns: [Region, 2020, 2021, 2022, 2023, 2024, 2025, Absolute Growth, Percentage Growth]\n",
       "Index: []"
      ]
     },
     "execution_count": 18,
     "metadata": {},
     "output_type": "execute_result"
    }
   ],
   "source": [
    "declining_regions = region_growth_df[region_growth_df['Absolute Growth'] <= 0]\n",
    "declining_regions"
   ]
  },
  {
   "cell_type": "markdown",
   "id": "41aa7726",
   "metadata": {
    "papermill": {
     "duration": 0.008503,
     "end_time": "2025-07-30T02:20:29.371632",
     "exception": false,
     "start_time": "2025-07-30T02:20:29.363129",
     "status": "completed"
    },
    "tags": []
   },
   "source": [
    "- What is the percentage growth of the population each year from 2021 to 2025?"
   ]
  },
  {
   "cell_type": "code",
   "execution_count": 19,
   "id": "f6e3dda7",
   "metadata": {
    "execution": {
     "iopub.execute_input": "2025-07-30T02:20:29.390112Z",
     "iopub.status.busy": "2025-07-30T02:20:29.389744Z",
     "iopub.status.idle": "2025-07-30T02:20:29.455002Z",
     "shell.execute_reply": "2025-07-30T02:20:29.453925Z"
    },
    "papermill": {
     "duration": 0.076379,
     "end_time": "2025-07-30T02:20:29.456679",
     "exception": false,
     "start_time": "2025-07-30T02:20:29.380300",
     "status": "completed"
    },
    "tags": []
   },
   "outputs": [
    {
     "data": {
      "text/html": [
       "<html>\n",
       "<head><meta charset=\"utf-8\" /></head>\n",
       "<body>\n",
       "    <div>            <script src=\"https://cdnjs.cloudflare.com/ajax/libs/mathjax/2.7.5/MathJax.js?config=TeX-AMS-MML_SVG\"></script><script type=\"text/javascript\">if (window.MathJax && window.MathJax.Hub && window.MathJax.Hub.Config) {window.MathJax.Hub.Config({SVG: {font: \"STIX-Web\"}});}</script>                <script type=\"text/javascript\">window.PlotlyConfig = {MathJaxConfig: 'local'};</script>\n",
       "        <script charset=\"utf-8\" src=\"https://cdn.plot.ly/plotly-2.35.2.min.js\"></script>                <div id=\"4a3f5db7-f9d5-44d1-a64b-9786f0d5e613\" class=\"plotly-graph-div\" style=\"height:500px; width:100%;\"></div>            <script type=\"text/javascript\">                                    window.PLOTLYENV=window.PLOTLYENV || {};                                    if (document.getElementById(\"4a3f5db7-f9d5-44d1-a64b-9786f0d5e613\")) {                    Plotly.newPlot(                        \"4a3f5db7-f9d5-44d1-a64b-9786f0d5e613\",                        [{\"hovertemplate\":\"Year=%{x}\\u003cbr\\u003ePercentage Growth=%{y}\\u003cextra\\u003e\\u003c\\u002fextra\\u003e\",\"legendgroup\":\"\",\"line\":{\"color\":\"#1f77b4\",\"dash\":\"solid\",\"width\":3},\"marker\":{\"symbol\":\"circle\",\"size\":8},\"mode\":\"lines+markers\",\"name\":\"\",\"orientation\":\"v\",\"showlegend\":false,\"x\":[\"2021\",\"2022\",\"2023\",\"2024\",\"2025\"],\"xaxis\":\"x\",\"y\":[1.3116146724614075,1.2464900879439245,1.1835586888118994,1.1258001929760462,1.0636269150841842],\"yaxis\":\"y\",\"type\":\"scatter\"}],                        {\"template\":{\"data\":{\"barpolar\":[{\"marker\":{\"line\":{\"color\":\"white\",\"width\":0.5},\"pattern\":{\"fillmode\":\"overlay\",\"size\":10,\"solidity\":0.2}},\"type\":\"barpolar\"}],\"bar\":[{\"error_x\":{\"color\":\"#2a3f5f\"},\"error_y\":{\"color\":\"#2a3f5f\"},\"marker\":{\"line\":{\"color\":\"white\",\"width\":0.5},\"pattern\":{\"fillmode\":\"overlay\",\"size\":10,\"solidity\":0.2}},\"type\":\"bar\"}],\"carpet\":[{\"aaxis\":{\"endlinecolor\":\"#2a3f5f\",\"gridcolor\":\"#C8D4E3\",\"linecolor\":\"#C8D4E3\",\"minorgridcolor\":\"#C8D4E3\",\"startlinecolor\":\"#2a3f5f\"},\"baxis\":{\"endlinecolor\":\"#2a3f5f\",\"gridcolor\":\"#C8D4E3\",\"linecolor\":\"#C8D4E3\",\"minorgridcolor\":\"#C8D4E3\",\"startlinecolor\":\"#2a3f5f\"},\"type\":\"carpet\"}],\"choropleth\":[{\"colorbar\":{\"outlinewidth\":0,\"ticks\":\"\"},\"type\":\"choropleth\"}],\"contourcarpet\":[{\"colorbar\":{\"outlinewidth\":0,\"ticks\":\"\"},\"type\":\"contourcarpet\"}],\"contour\":[{\"colorbar\":{\"outlinewidth\":0,\"ticks\":\"\"},\"colorscale\":[[0.0,\"#0d0887\"],[0.1111111111111111,\"#46039f\"],[0.2222222222222222,\"#7201a8\"],[0.3333333333333333,\"#9c179e\"],[0.4444444444444444,\"#bd3786\"],[0.5555555555555556,\"#d8576b\"],[0.6666666666666666,\"#ed7953\"],[0.7777777777777778,\"#fb9f3a\"],[0.8888888888888888,\"#fdca26\"],[1.0,\"#f0f921\"]],\"type\":\"contour\"}],\"heatmapgl\":[{\"colorbar\":{\"outlinewidth\":0,\"ticks\":\"\"},\"colorscale\":[[0.0,\"#0d0887\"],[0.1111111111111111,\"#46039f\"],[0.2222222222222222,\"#7201a8\"],[0.3333333333333333,\"#9c179e\"],[0.4444444444444444,\"#bd3786\"],[0.5555555555555556,\"#d8576b\"],[0.6666666666666666,\"#ed7953\"],[0.7777777777777778,\"#fb9f3a\"],[0.8888888888888888,\"#fdca26\"],[1.0,\"#f0f921\"]],\"type\":\"heatmapgl\"}],\"heatmap\":[{\"colorbar\":{\"outlinewidth\":0,\"ticks\":\"\"},\"colorscale\":[[0.0,\"#0d0887\"],[0.1111111111111111,\"#46039f\"],[0.2222222222222222,\"#7201a8\"],[0.3333333333333333,\"#9c179e\"],[0.4444444444444444,\"#bd3786\"],[0.5555555555555556,\"#d8576b\"],[0.6666666666666666,\"#ed7953\"],[0.7777777777777778,\"#fb9f3a\"],[0.8888888888888888,\"#fdca26\"],[1.0,\"#f0f921\"]],\"type\":\"heatmap\"}],\"histogram2dcontour\":[{\"colorbar\":{\"outlinewidth\":0,\"ticks\":\"\"},\"colorscale\":[[0.0,\"#0d0887\"],[0.1111111111111111,\"#46039f\"],[0.2222222222222222,\"#7201a8\"],[0.3333333333333333,\"#9c179e\"],[0.4444444444444444,\"#bd3786\"],[0.5555555555555556,\"#d8576b\"],[0.6666666666666666,\"#ed7953\"],[0.7777777777777778,\"#fb9f3a\"],[0.8888888888888888,\"#fdca26\"],[1.0,\"#f0f921\"]],\"type\":\"histogram2dcontour\"}],\"histogram2d\":[{\"colorbar\":{\"outlinewidth\":0,\"ticks\":\"\"},\"colorscale\":[[0.0,\"#0d0887\"],[0.1111111111111111,\"#46039f\"],[0.2222222222222222,\"#7201a8\"],[0.3333333333333333,\"#9c179e\"],[0.4444444444444444,\"#bd3786\"],[0.5555555555555556,\"#d8576b\"],[0.6666666666666666,\"#ed7953\"],[0.7777777777777778,\"#fb9f3a\"],[0.8888888888888888,\"#fdca26\"],[1.0,\"#f0f921\"]],\"type\":\"histogram2d\"}],\"histogram\":[{\"marker\":{\"pattern\":{\"fillmode\":\"overlay\",\"size\":10,\"solidity\":0.2}},\"type\":\"histogram\"}],\"mesh3d\":[{\"colorbar\":{\"outlinewidth\":0,\"ticks\":\"\"},\"type\":\"mesh3d\"}],\"parcoords\":[{\"line\":{\"colorbar\":{\"outlinewidth\":0,\"ticks\":\"\"}},\"type\":\"parcoords\"}],\"pie\":[{\"automargin\":true,\"type\":\"pie\"}],\"scatter3d\":[{\"line\":{\"colorbar\":{\"outlinewidth\":0,\"ticks\":\"\"}},\"marker\":{\"colorbar\":{\"outlinewidth\":0,\"ticks\":\"\"}},\"type\":\"scatter3d\"}],\"scattercarpet\":[{\"marker\":{\"colorbar\":{\"outlinewidth\":0,\"ticks\":\"\"}},\"type\":\"scattercarpet\"}],\"scattergeo\":[{\"marker\":{\"colorbar\":{\"outlinewidth\":0,\"ticks\":\"\"}},\"type\":\"scattergeo\"}],\"scattergl\":[{\"marker\":{\"colorbar\":{\"outlinewidth\":0,\"ticks\":\"\"}},\"type\":\"scattergl\"}],\"scattermapbox\":[{\"marker\":{\"colorbar\":{\"outlinewidth\":0,\"ticks\":\"\"}},\"type\":\"scattermapbox\"}],\"scatterpolargl\":[{\"marker\":{\"colorbar\":{\"outlinewidth\":0,\"ticks\":\"\"}},\"type\":\"scatterpolargl\"}],\"scatterpolar\":[{\"marker\":{\"colorbar\":{\"outlinewidth\":0,\"ticks\":\"\"}},\"type\":\"scatterpolar\"}],\"scatter\":[{\"fillpattern\":{\"fillmode\":\"overlay\",\"size\":10,\"solidity\":0.2},\"type\":\"scatter\"}],\"scatterternary\":[{\"marker\":{\"colorbar\":{\"outlinewidth\":0,\"ticks\":\"\"}},\"type\":\"scatterternary\"}],\"surface\":[{\"colorbar\":{\"outlinewidth\":0,\"ticks\":\"\"},\"colorscale\":[[0.0,\"#0d0887\"],[0.1111111111111111,\"#46039f\"],[0.2222222222222222,\"#7201a8\"],[0.3333333333333333,\"#9c179e\"],[0.4444444444444444,\"#bd3786\"],[0.5555555555555556,\"#d8576b\"],[0.6666666666666666,\"#ed7953\"],[0.7777777777777778,\"#fb9f3a\"],[0.8888888888888888,\"#fdca26\"],[1.0,\"#f0f921\"]],\"type\":\"surface\"}],\"table\":[{\"cells\":{\"fill\":{\"color\":\"#EBF0F8\"},\"line\":{\"color\":\"white\"}},\"header\":{\"fill\":{\"color\":\"#C8D4E3\"},\"line\":{\"color\":\"white\"}},\"type\":\"table\"}]},\"layout\":{\"annotationdefaults\":{\"arrowcolor\":\"#2a3f5f\",\"arrowhead\":0,\"arrowwidth\":1},\"autotypenumbers\":\"strict\",\"coloraxis\":{\"colorbar\":{\"outlinewidth\":0,\"ticks\":\"\"}},\"colorscale\":{\"diverging\":[[0,\"#8e0152\"],[0.1,\"#c51b7d\"],[0.2,\"#de77ae\"],[0.3,\"#f1b6da\"],[0.4,\"#fde0ef\"],[0.5,\"#f7f7f7\"],[0.6,\"#e6f5d0\"],[0.7,\"#b8e186\"],[0.8,\"#7fbc41\"],[0.9,\"#4d9221\"],[1,\"#276419\"]],\"sequential\":[[0.0,\"#0d0887\"],[0.1111111111111111,\"#46039f\"],[0.2222222222222222,\"#7201a8\"],[0.3333333333333333,\"#9c179e\"],[0.4444444444444444,\"#bd3786\"],[0.5555555555555556,\"#d8576b\"],[0.6666666666666666,\"#ed7953\"],[0.7777777777777778,\"#fb9f3a\"],[0.8888888888888888,\"#fdca26\"],[1.0,\"#f0f921\"]],\"sequentialminus\":[[0.0,\"#0d0887\"],[0.1111111111111111,\"#46039f\"],[0.2222222222222222,\"#7201a8\"],[0.3333333333333333,\"#9c179e\"],[0.4444444444444444,\"#bd3786\"],[0.5555555555555556,\"#d8576b\"],[0.6666666666666666,\"#ed7953\"],[0.7777777777777778,\"#fb9f3a\"],[0.8888888888888888,\"#fdca26\"],[1.0,\"#f0f921\"]]},\"colorway\":[\"#636efa\",\"#EF553B\",\"#00cc96\",\"#ab63fa\",\"#FFA15A\",\"#19d3f3\",\"#FF6692\",\"#B6E880\",\"#FF97FF\",\"#FECB52\"],\"font\":{\"color\":\"#2a3f5f\"},\"geo\":{\"bgcolor\":\"white\",\"lakecolor\":\"white\",\"landcolor\":\"white\",\"showlakes\":true,\"showland\":true,\"subunitcolor\":\"#C8D4E3\"},\"hoverlabel\":{\"align\":\"left\"},\"hovermode\":\"closest\",\"mapbox\":{\"style\":\"light\"},\"paper_bgcolor\":\"white\",\"plot_bgcolor\":\"white\",\"polar\":{\"angularaxis\":{\"gridcolor\":\"#EBF0F8\",\"linecolor\":\"#EBF0F8\",\"ticks\":\"\"},\"bgcolor\":\"white\",\"radialaxis\":{\"gridcolor\":\"#EBF0F8\",\"linecolor\":\"#EBF0F8\",\"ticks\":\"\"}},\"scene\":{\"xaxis\":{\"backgroundcolor\":\"white\",\"gridcolor\":\"#DFE8F3\",\"gridwidth\":2,\"linecolor\":\"#EBF0F8\",\"showbackground\":true,\"ticks\":\"\",\"zerolinecolor\":\"#EBF0F8\"},\"yaxis\":{\"backgroundcolor\":\"white\",\"gridcolor\":\"#DFE8F3\",\"gridwidth\":2,\"linecolor\":\"#EBF0F8\",\"showbackground\":true,\"ticks\":\"\",\"zerolinecolor\":\"#EBF0F8\"},\"zaxis\":{\"backgroundcolor\":\"white\",\"gridcolor\":\"#DFE8F3\",\"gridwidth\":2,\"linecolor\":\"#EBF0F8\",\"showbackground\":true,\"ticks\":\"\",\"zerolinecolor\":\"#EBF0F8\"}},\"shapedefaults\":{\"line\":{\"color\":\"#2a3f5f\"}},\"ternary\":{\"aaxis\":{\"gridcolor\":\"#DFE8F3\",\"linecolor\":\"#A2B1C6\",\"ticks\":\"\"},\"baxis\":{\"gridcolor\":\"#DFE8F3\",\"linecolor\":\"#A2B1C6\",\"ticks\":\"\"},\"bgcolor\":\"white\",\"caxis\":{\"gridcolor\":\"#DFE8F3\",\"linecolor\":\"#A2B1C6\",\"ticks\":\"\"}},\"title\":{\"x\":0.05},\"xaxis\":{\"automargin\":true,\"gridcolor\":\"#EBF0F8\",\"linecolor\":\"#EBF0F8\",\"ticks\":\"\",\"title\":{\"standoff\":15},\"zerolinecolor\":\"#EBF0F8\",\"zerolinewidth\":2},\"yaxis\":{\"automargin\":true,\"gridcolor\":\"#EBF0F8\",\"linecolor\":\"#EBF0F8\",\"ticks\":\"\",\"title\":{\"standoff\":15},\"zerolinecolor\":\"#EBF0F8\",\"zerolinewidth\":2}}},\"xaxis\":{\"anchor\":\"y\",\"domain\":[0.0,1.0],\"title\":{\"text\":\"Year\"},\"tickmode\":\"linear\"},\"yaxis\":{\"anchor\":\"x\",\"domain\":[0.0,1.0],\"title\":{\"text\":\"Percentage Growth\"},\"tickformat\":\".2f\"},\"legend\":{\"tracegroupgap\":0},\"title\":{\"text\":\"Year-over-Year National Population Growth (%)\",\"x\":0.5},\"height\":500},                        {\"responsive\": true}                    ).then(function(){\n",
       "                            \n",
       "var gd = document.getElementById('4a3f5db7-f9d5-44d1-a64b-9786f0d5e613');\n",
       "var x = new MutationObserver(function (mutations, observer) {{\n",
       "        var display = window.getComputedStyle(gd).display;\n",
       "        if (!display || display === 'none') {{\n",
       "            console.log([gd, 'removed!']);\n",
       "            Plotly.purge(gd);\n",
       "            observer.disconnect();\n",
       "        }}\n",
       "}});\n",
       "\n",
       "// Listen for the removal of the full notebook cells\n",
       "var notebookContainer = gd.closest('#notebook-container');\n",
       "if (notebookContainer) {{\n",
       "    x.observe(notebookContainer, {childList: true});\n",
       "}}\n",
       "\n",
       "// Listen for the clearing of the current output cell\n",
       "var outputEl = gd.closest('.output');\n",
       "if (outputEl) {{\n",
       "    x.observe(outputEl, {childList: true});\n",
       "}}\n",
       "\n",
       "                        })                };                            </script>        </div>\n",
       "</body>\n",
       "</html>"
      ]
     },
     "metadata": {},
     "output_type": "display_data"
    }
   ],
   "source": [
    "national_totals = df[years].sum()\n",
    "\n",
    "percentage_growth = []\n",
    "\n",
    "for i in range(1, len(years)):\n",
    "    current = national_totals[years[i]]\n",
    "    previous = national_totals[years[i - 1]]\n",
    "    growth = ((current - previous) / previous) * 100\n",
    "    percentage_growth.append(growth)\n",
    "\n",
    "fig = px.line(\n",
    "    x=years[1:],\n",
    "    y=percentage_growth,\n",
    "    markers=True,\n",
    "    title='Year-over-Year National Population Growth (%)',\n",
    "    labels={'x': 'Year', 'y': 'Percentage Growth'},\n",
    "    template='plotly_white',\n",
    "    color_discrete_sequence=['#1f77b4']  # blue\n",
    ")\n",
    "\n",
    "fig.update_traces(line=dict(width=3), marker=dict(size=8, symbol='circle'))\n",
    "\n",
    "fig.update_layout(\n",
    "    title_x=0.5,\n",
    "    yaxis_tickformat='.2f',\n",
    "    xaxis=dict(tickmode='linear'),\n",
    "    height=500\n",
    ")\n",
    "\n",
    "fig.show()"
   ]
  },
  {
   "cell_type": "markdown",
   "id": "63b42b43",
   "metadata": {
    "papermill": {
     "duration": 0.00861,
     "end_time": "2025-07-30T02:20:29.475067",
     "exception": false,
     "start_time": "2025-07-30T02:20:29.466457",
     "status": "completed"
    },
    "tags": []
   },
   "source": [
    "- How much of the national population is concentrated in the top 5 regions or provinces?"
   ]
  },
  {
   "cell_type": "code",
   "execution_count": 20,
   "id": "84ccc105",
   "metadata": {
    "execution": {
     "iopub.execute_input": "2025-07-30T02:20:29.494590Z",
     "iopub.status.busy": "2025-07-30T02:20:29.494210Z",
     "iopub.status.idle": "2025-07-30T02:20:29.508901Z",
     "shell.execute_reply": "2025-07-30T02:20:29.507940Z"
    },
    "papermill": {
     "duration": 0.026815,
     "end_time": "2025-07-30T02:20:29.510695",
     "exception": false,
     "start_time": "2025-07-30T02:20:29.483880",
     "status": "completed"
    },
    "tags": []
   },
   "outputs": [
    {
     "data": {
      "text/html": [
       "<div>\n",
       "<style scoped>\n",
       "    .dataframe tbody tr th:only-of-type {\n",
       "        vertical-align: middle;\n",
       "    }\n",
       "\n",
       "    .dataframe tbody tr th {\n",
       "        vertical-align: top;\n",
       "    }\n",
       "\n",
       "    .dataframe thead th {\n",
       "        text-align: right;\n",
       "    }\n",
       "</style>\n",
       "<table border=\"1\" class=\"dataframe\">\n",
       "  <thead>\n",
       "    <tr style=\"text-align: right;\">\n",
       "      <th></th>\n",
       "      <th>Region</th>\n",
       "      <th>2025</th>\n",
       "      <th>Share (%)</th>\n",
       "    </tr>\n",
       "  </thead>\n",
       "  <tbody>\n",
       "    <tr>\n",
       "      <th>1</th>\n",
       "      <td>Region IV-A (CALABARZON)</td>\n",
       "      <td>17477567</td>\n",
       "      <td>15.148094</td>\n",
       "    </tr>\n",
       "    <tr>\n",
       "      <th>8</th>\n",
       "      <td>National Capital Region (NCR)</td>\n",
       "      <td>14521657</td>\n",
       "      <td>12.586159</td>\n",
       "    </tr>\n",
       "    <tr>\n",
       "      <th>3</th>\n",
       "      <td>Region III (Central Luzon)</td>\n",
       "      <td>13239668</td>\n",
       "      <td>11.475038</td>\n",
       "    </tr>\n",
       "    <tr>\n",
       "      <th>6</th>\n",
       "      <td>Region VII (Central Visayas)</td>\n",
       "      <td>8391706</td>\n",
       "      <td>7.273229</td>\n",
       "    </tr>\n",
       "    <tr>\n",
       "      <th>13</th>\n",
       "      <td>Region VI (Western Visayas)</td>\n",
       "      <td>8201700</td>\n",
       "      <td>7.108548</td>\n",
       "    </tr>\n",
       "  </tbody>\n",
       "</table>\n",
       "</div>"
      ],
      "text/plain": [
       "                           Region      2025  Share (%)\n",
       "1        Region IV-A (CALABARZON)  17477567  15.148094\n",
       "8   National Capital Region (NCR)  14521657  12.586159\n",
       "3      Region III (Central Luzon)  13239668  11.475038\n",
       "6    Region VII (Central Visayas)   8391706   7.273229\n",
       "13    Region VI (Western Visayas)   8201700   7.108548"
      ]
     },
     "execution_count": 20,
     "metadata": {},
     "output_type": "execute_result"
    }
   ],
   "source": [
    "top_regions_2025 = region_growth_df.sort_values(by='2025', ascending=False).head(5)\n",
    "\n",
    "national_2025 = region_growth_df['2025'].sum()\n",
    "\n",
    "top_regions_2025['Share (%)'] = (top_regions_2025['2025'] / national_2025) * 100\n",
    "\n",
    "top_regions_2025[['Region', '2025', 'Share (%)']]"
   ]
  },
  {
   "cell_type": "code",
   "execution_count": null,
   "id": "cf439b4e",
   "metadata": {
    "papermill": {
     "duration": 0.009988,
     "end_time": "2025-07-30T02:20:29.530296",
     "exception": false,
     "start_time": "2025-07-30T02:20:29.520308",
     "status": "completed"
    },
    "tags": []
   },
   "outputs": [],
   "source": []
  }
 ],
 "metadata": {
  "kaggle": {
   "accelerator": "none",
   "dataSources": [
    {
     "datasetId": 6744489,
     "sourceId": 10857857,
     "sourceType": "datasetVersion"
    }
   ],
   "dockerImageVersionId": 31089,
   "isGpuEnabled": false,
   "isInternetEnabled": true,
   "language": "python",
   "sourceType": "notebook"
  },
  "kernelspec": {
   "display_name": "Python 3",
   "language": "python",
   "name": "python3"
  },
  "language_info": {
   "codemirror_mode": {
    "name": "ipython",
    "version": 3
   },
   "file_extension": ".py",
   "mimetype": "text/x-python",
   "name": "python",
   "nbconvert_exporter": "python",
   "pygments_lexer": "ipython3",
   "version": "3.11.13"
  },
  "papermill": {
   "default_parameters": {},
   "duration": 17.512474,
   "end_time": "2025-07-30T02:20:30.367959",
   "environment_variables": {},
   "exception": null,
   "input_path": "__notebook__.ipynb",
   "output_path": "__notebook__.ipynb",
   "parameters": {},
   "start_time": "2025-07-30T02:20:12.855485",
   "version": "2.6.0"
  }
 },
 "nbformat": 4,
 "nbformat_minor": 5
}
